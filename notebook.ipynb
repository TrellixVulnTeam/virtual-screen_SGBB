{
 "cells": [
  {
   "cell_type": "code",
   "execution_count": 3,
   "metadata": {
    "collapsed": true
   },
   "outputs": [],
   "source": [
    "import tarfile\n",
    "import os\n",
    "from loguru import logger"
   ]
  },
  {
   "cell_type": "code",
   "execution_count": 12,
   "outputs": [
    {
     "ename": "AttributeError",
     "evalue": "module 'loguru' has no attribute 'Logger'",
     "output_type": "error",
     "traceback": [
      "\u001B[1;31m---------------------------------------------------------------------------\u001B[0m",
      "\u001B[1;31mAttributeError\u001B[0m                            Traceback (most recent call last)",
      "\u001B[1;32m<ipython-input-12-20e481af4427>\u001B[0m in \u001B[0;36m<module>\u001B[1;34m\u001B[0m\n\u001B[1;32m----> 1\u001B[1;33m \u001B[0mlogger\u001B[0m \u001B[1;33m=\u001B[0m \u001B[0mloguru\u001B[0m\u001B[1;33m.\u001B[0m\u001B[0mLogger\u001B[0m\u001B[1;33m\u001B[0m\u001B[1;33m\u001B[0m\u001B[0m\n\u001B[0m\u001B[0;32m      2\u001B[0m \u001B[0mtarfile\u001B[0m\u001B[1;33m.\u001B[0m\u001B[0mopen\u001B[0m\u001B[1;33m(\u001B[0m\u001B[1;33m)\u001B[0m\u001B[1;33m\u001B[0m\u001B[1;33m\u001B[0m\u001B[0m\n",
      "\u001B[1;31mAttributeError\u001B[0m: module 'loguru' has no attribute 'Logger'"
     ]
    }
   ],
   "source": [
    "\n",
    "tarfile.open()"
   ],
   "metadata": {
    "collapsed": false,
    "pycharm": {
     "name": "#%%\n"
    }
   }
  },
  {
   "cell_type": "code",
   "execution_count": 40,
   "outputs": [],
   "source": [
    "\"\"\"path\"\"\"\n",
    "\n",
    "WORK_DIR = os.path.curdir\n",
    "DEBUG_DIR = os.path.join(WORK_DIR,'debug')\n",
    "# @TODO argparse data path\n",
    "\n",
    "\n",
    "\"\"\"FOR DEBUG\"\"\"\n",
    "DATA_ROOT = os.path.join(DEBUG_DIR,'example')\n",
    "TMP_DIR = os.path.join(DEBUG_DIR,'tmp')\n",
    "if not os.path.isdir(TMP_DIR):\n",
    "    os.makedirs(TMP_DIR)\n",
    "OUT_DIR = os.path.join(DEBUG_DIR,'output')\n"
   ],
   "metadata": {
    "collapsed": false,
    "pycharm": {
     "name": "#%%\n"
    }
   }
  },
  {
   "cell_type": "code",
   "execution_count": 17,
   "outputs": [
    {
     "name": "stderr",
     "output_type": "stream",
     "text": [
      "2022-06-24 18:33:28.137 | INFO     | __main__:<module>:12 - log saved in .\\log\\debug_{time}.log\n",
      "2022-06-24 18:33:28.138 | DEBUG    | __main__:<module>:15 - debug data directory: .\\debug\n"
     ]
    }
   ],
   "source": [
    "\"\"\"logging\"\"\"\n",
    "\n",
    "DEBUG = True\n",
    "\n",
    "LOG_DIR = os.path.join(WORK_DIR,'log')\n",
    "if not os.path.exists(LOG_DIR):\n",
    "    os.makedirs(LOG_DIR)\n",
    "\n",
    "LOG_FILE = os.path.join(LOG_DIR,'debug_{time}.log')\n",
    "\n",
    "logger.add(LOG_FILE,retention=2)\n",
    "\n",
    "if DEBUG:\n",
    "    logger.debug('debug data directory: {}'.format(DEBUG_DIR))"
   ],
   "metadata": {
    "collapsed": false,
    "pycharm": {
     "name": "#%%\n"
    }
   }
  },
  {
   "cell_type": "markdown",
   "source": [
    "import tarfile\n",
    "\n",
    "dir_1 = './debug/example/AA/'\n",
    "tar_1 = os.path.join(dir_1, 'AABAAC.tar')\n",
    "dir_2 = os.path.join(TMP_DIR, 'AABAAC')\n",
    "tar_2_gz =  os.path.join(dir_2, '00000.tar.gz')\n",
    "\n",
    "with  tarfile.open(tar_1) as tar:\n",
    "    tar.extractall(TMP_DIR)\n",
    "    names = tar.getnames()\n"
   ],
   "metadata": {
    "collapsed": false,
    "pycharm": {
     "name": "#%% md\n"
    }
   }
  },
  {
   "cell_type": "code",
   "execution_count": 43,
   "outputs": [
    {
     "name": "stderr",
     "output_type": "stream",
     "text": [
      " 42%|████▏     | 86/204 [00:09<00:12,  9.44it/s]\n"
     ]
    },
    {
     "ename": "KeyboardInterrupt",
     "evalue": "",
     "output_type": "error",
     "traceback": [
      "\u001B[1;31m---------------------------------------------------------------------------\u001B[0m",
      "\u001B[1;31mKeyboardInterrupt\u001B[0m                         Traceback (most recent call last)",
      "\u001B[1;32m<ipython-input-43-f2939071a75e>\u001B[0m in \u001B[0;36m<module>\u001B[1;34m\u001B[0m\n\u001B[0;32m     12\u001B[0m             \u001B[0mdirname\u001B[0m \u001B[1;33m=\u001B[0m \u001B[0mos\u001B[0m\u001B[1;33m.\u001B[0m\u001B[0mpath\u001B[0m\u001B[1;33m.\u001B[0m\u001B[0mdirname\u001B[0m\u001B[1;33m(\u001B[0m\u001B[0mname\u001B[0m\u001B[1;33m)\u001B[0m\u001B[1;33m\u001B[0m\u001B[1;33m\u001B[0m\u001B[0m\n\u001B[0;32m     13\u001B[0m             \u001B[1;32mwith\u001B[0m \u001B[0mtarfile\u001B[0m\u001B[1;33m.\u001B[0m\u001B[0mopen\u001B[0m\u001B[1;33m(\u001B[0m\u001B[0mos\u001B[0m\u001B[1;33m.\u001B[0m\u001B[0mpath\u001B[0m\u001B[1;33m.\u001B[0m\u001B[0mjoin\u001B[0m\u001B[1;33m(\u001B[0m\u001B[0mTMP_DIR\u001B[0m\u001B[1;33m,\u001B[0m \u001B[0mname\u001B[0m\u001B[1;33m)\u001B[0m\u001B[1;33m)\u001B[0m \u001B[1;32mas\u001B[0m \u001B[0mtf\u001B[0m\u001B[1;33m:\u001B[0m\u001B[1;33m\u001B[0m\u001B[1;33m\u001B[0m\u001B[0m\n\u001B[1;32m---> 14\u001B[1;33m                 \u001B[0mtf\u001B[0m\u001B[1;33m.\u001B[0m\u001B[0mextractall\u001B[0m\u001B[1;33m(\u001B[0m\u001B[0mos\u001B[0m\u001B[1;33m.\u001B[0m\u001B[0mpath\u001B[0m\u001B[1;33m.\u001B[0m\u001B[0mjoin\u001B[0m\u001B[1;33m(\u001B[0m\u001B[0mTMP_DIR\u001B[0m\u001B[1;33m,\u001B[0m \u001B[0mdirname\u001B[0m\u001B[1;33m)\u001B[0m\u001B[1;33m)\u001B[0m\u001B[1;33m\u001B[0m\u001B[1;33m\u001B[0m\u001B[0m\n\u001B[0m",
      "\u001B[1;32mC:\\Users\\ASUS\\anaconda3\\lib\\tarfile.py\u001B[0m in \u001B[0;36mextractall\u001B[1;34m(self, path, members, numeric_owner)\u001B[0m\n\u001B[0;32m   2026\u001B[0m                 \u001B[0mtarinfo\u001B[0m\u001B[1;33m.\u001B[0m\u001B[0mmode\u001B[0m \u001B[1;33m=\u001B[0m \u001B[1;36m0o700\u001B[0m\u001B[1;33m\u001B[0m\u001B[1;33m\u001B[0m\u001B[0m\n\u001B[0;32m   2027\u001B[0m             \u001B[1;31m# Do not set_attrs directories, as we will do that further down\u001B[0m\u001B[1;33m\u001B[0m\u001B[1;33m\u001B[0m\u001B[1;33m\u001B[0m\u001B[0m\n\u001B[1;32m-> 2028\u001B[1;33m             self.extract(tarinfo, path, set_attrs=not tarinfo.isdir(),\n\u001B[0m\u001B[0;32m   2029\u001B[0m                          numeric_owner=numeric_owner)\n\u001B[0;32m   2030\u001B[0m \u001B[1;33m\u001B[0m\u001B[0m\n",
      "\u001B[1;32mC:\\Users\\ASUS\\anaconda3\\lib\\tarfile.py\u001B[0m in \u001B[0;36mextract\u001B[1;34m(self, member, path, set_attrs, numeric_owner)\u001B[0m\n\u001B[0;32m   2067\u001B[0m \u001B[1;33m\u001B[0m\u001B[0m\n\u001B[0;32m   2068\u001B[0m         \u001B[1;32mtry\u001B[0m\u001B[1;33m:\u001B[0m\u001B[1;33m\u001B[0m\u001B[1;33m\u001B[0m\u001B[0m\n\u001B[1;32m-> 2069\u001B[1;33m             self._extract_member(tarinfo, os.path.join(path, tarinfo.name),\n\u001B[0m\u001B[0;32m   2070\u001B[0m                                  \u001B[0mset_attrs\u001B[0m\u001B[1;33m=\u001B[0m\u001B[0mset_attrs\u001B[0m\u001B[1;33m,\u001B[0m\u001B[1;33m\u001B[0m\u001B[1;33m\u001B[0m\u001B[0m\n\u001B[0;32m   2071\u001B[0m                                  numeric_owner=numeric_owner)\n",
      "\u001B[1;32mC:\\Users\\ASUS\\anaconda3\\lib\\tarfile.py\u001B[0m in \u001B[0;36m_extract_member\u001B[1;34m(self, tarinfo, targetpath, set_attrs, numeric_owner)\u001B[0m\n\u001B[0;32m   2139\u001B[0m \u001B[1;33m\u001B[0m\u001B[0m\n\u001B[0;32m   2140\u001B[0m         \u001B[1;32mif\u001B[0m \u001B[0mtarinfo\u001B[0m\u001B[1;33m.\u001B[0m\u001B[0misreg\u001B[0m\u001B[1;33m(\u001B[0m\u001B[1;33m)\u001B[0m\u001B[1;33m:\u001B[0m\u001B[1;33m\u001B[0m\u001B[1;33m\u001B[0m\u001B[0m\n\u001B[1;32m-> 2141\u001B[1;33m             \u001B[0mself\u001B[0m\u001B[1;33m.\u001B[0m\u001B[0mmakefile\u001B[0m\u001B[1;33m(\u001B[0m\u001B[0mtarinfo\u001B[0m\u001B[1;33m,\u001B[0m \u001B[0mtargetpath\u001B[0m\u001B[1;33m)\u001B[0m\u001B[1;33m\u001B[0m\u001B[1;33m\u001B[0m\u001B[0m\n\u001B[0m\u001B[0;32m   2142\u001B[0m         \u001B[1;32melif\u001B[0m \u001B[0mtarinfo\u001B[0m\u001B[1;33m.\u001B[0m\u001B[0misdir\u001B[0m\u001B[1;33m(\u001B[0m\u001B[1;33m)\u001B[0m\u001B[1;33m:\u001B[0m\u001B[1;33m\u001B[0m\u001B[1;33m\u001B[0m\u001B[0m\n\u001B[0;32m   2143\u001B[0m             \u001B[0mself\u001B[0m\u001B[1;33m.\u001B[0m\u001B[0mmakedir\u001B[0m\u001B[1;33m(\u001B[0m\u001B[0mtarinfo\u001B[0m\u001B[1;33m,\u001B[0m \u001B[0mtargetpath\u001B[0m\u001B[1;33m)\u001B[0m\u001B[1;33m\u001B[0m\u001B[1;33m\u001B[0m\u001B[0m\n",
      "\u001B[1;31mKeyboardInterrupt\u001B[0m: "
     ]
    }
   ],
   "source": [
    "from tqdm import tqdm\n",
    "\n",
    "for d in os.listdir(DATA_ROOT):\n",
    "    d_path = os.path.join(DATA_ROOT,d)\n",
    "    for f in tqdm(os.listdir(d_path)):\n",
    "        # if i == 2: break\n",
    "        with tarfile.open(os.path.join(d_path,f)) as tf:\n",
    "            names = tf.getnames()\n",
    "            tf.extractall(TMP_DIR)\n",
    "        for name in names:\n",
    "            dirname = os.path.dirname(name)\n",
    "            with tarfile.open(os.path.join(TMP_DIR, name)) as tf:\n",
    "                tf.extractall(os.path.join(TMP_DIR, dirname))"
   ],
   "metadata": {
    "collapsed": false,
    "pycharm": {
     "name": "#%%\n"
    }
   }
  },
  {
   "cell_type": "code",
   "execution_count": 30,
   "outputs": [
    {
     "data": {
      "text/plain": "'AABAAC'"
     },
     "execution_count": 30,
     "metadata": {},
     "output_type": "execute_result"
    }
   ],
   "source": [
    "os.path.dirname(names[0])"
   ],
   "metadata": {
    "collapsed": false,
    "pycharm": {
     "name": "#%%\n"
    }
   }
  }
 ],
 "metadata": {
  "kernelspec": {
   "display_name": "Python 3",
   "language": "python",
   "name": "python3"
  },
  "language_info": {
   "codemirror_mode": {
    "name": "ipython",
    "version": 2
   },
   "file_extension": ".py",
   "mimetype": "text/x-python",
   "name": "python",
   "nbconvert_exporter": "python",
   "pygments_lexer": "ipython2",
   "version": "2.7.6"
  }
 },
 "nbformat": 4,
 "nbformat_minor": 0
}