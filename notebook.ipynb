{
 "cells": [
  {
   "cell_type": "code",
   "execution_count": 1,
   "metadata": {
    "collapsed": true
   },
   "outputs": [],
   "source": [
    "import tarfile\n",
    "import os\n",
    "import pandas as pd\n",
    "from loguru import logger\n",
    "from openbabel import openbabel\n",
    "import rdkit.Chem as ch"
   ]
  },
  {
   "cell_type": "code",
   "execution_count": 37,
   "outputs": [
    {
     "ename": "ModuleNotFoundError",
     "evalue": "No module named 'win32_setctime'",
     "output_type": "error",
     "traceback": [
      "\u001B[1;31m---------------------------------------------------------------------------\u001B[0m",
      "\u001B[1;31mModuleNotFoundError\u001B[0m                       Traceback (most recent call last)",
      "\u001B[1;32m<ipython-input-37-e3b2b69d5df6>\u001B[0m in \u001B[0;36m<module>\u001B[1;34m\u001B[0m\n\u001B[0;32m     23\u001B[0m \u001B[0mLOG_FILE\u001B[0m \u001B[1;33m=\u001B[0m \u001B[0mos\u001B[0m\u001B[1;33m.\u001B[0m\u001B[0mpath\u001B[0m\u001B[1;33m.\u001B[0m\u001B[0mjoin\u001B[0m\u001B[1;33m(\u001B[0m\u001B[0mLOG_DIR\u001B[0m\u001B[1;33m,\u001B[0m\u001B[1;34m'debug_{time}.log'\u001B[0m\u001B[1;33m)\u001B[0m\u001B[1;33m\u001B[0m\u001B[1;33m\u001B[0m\u001B[0m\n\u001B[0;32m     24\u001B[0m \u001B[1;33m\u001B[0m\u001B[0m\n\u001B[1;32m---> 25\u001B[1;33m \u001B[0mlogger\u001B[0m\u001B[1;33m.\u001B[0m\u001B[0madd\u001B[0m\u001B[1;33m(\u001B[0m\u001B[0mLOG_FILE\u001B[0m\u001B[1;33m,\u001B[0m\u001B[0mretention\u001B[0m\u001B[1;33m=\u001B[0m\u001B[1;36m2\u001B[0m\u001B[1;33m)\u001B[0m\u001B[1;33m\u001B[0m\u001B[1;33m\u001B[0m\u001B[0m\n\u001B[0m\u001B[0;32m     26\u001B[0m \u001B[1;33m\u001B[0m\u001B[0m\n\u001B[0;32m     27\u001B[0m \u001B[1;32mif\u001B[0m \u001B[0mDEBUG\u001B[0m\u001B[1;33m:\u001B[0m\u001B[1;33m\u001B[0m\u001B[1;33m\u001B[0m\u001B[0m\n",
      "\u001B[1;32m~\\anaconda3\\envs\\20220624-virtual-clustering-py36\\lib\\site-packages\\loguru\\_logger.py\u001B[0m in \u001B[0;36madd\u001B[1;34m(self, sink, level, format, filter, colorize, serialize, backtrace, diagnose, enqueue, catch, **kwargs)\u001B[0m\n\u001B[0;32m    657\u001B[0m         \u001B[1;32melif\u001B[0m \u001B[0misinstance\u001B[0m\u001B[1;33m(\u001B[0m\u001B[0msink\u001B[0m\u001B[1;33m,\u001B[0m \u001B[1;33m(\u001B[0m\u001B[0mstr\u001B[0m\u001B[1;33m,\u001B[0m \u001B[0mPathLike\u001B[0m\u001B[1;33m)\u001B[0m\u001B[1;33m)\u001B[0m\u001B[1;33m:\u001B[0m\u001B[1;33m\u001B[0m\u001B[1;33m\u001B[0m\u001B[0m\n\u001B[0;32m    658\u001B[0m             \u001B[0mpath\u001B[0m \u001B[1;33m=\u001B[0m \u001B[0msink\u001B[0m\u001B[1;33m\u001B[0m\u001B[1;33m\u001B[0m\u001B[0m\n\u001B[1;32m--> 659\u001B[1;33m             \u001B[0msink\u001B[0m \u001B[1;33m=\u001B[0m \u001B[0mFileSink\u001B[0m\u001B[1;33m(\u001B[0m\u001B[0mpath\u001B[0m\u001B[1;33m,\u001B[0m \u001B[1;33m**\u001B[0m\u001B[0mkwargs\u001B[0m\u001B[1;33m)\u001B[0m\u001B[1;33m\u001B[0m\u001B[1;33m\u001B[0m\u001B[0m\n\u001B[0m\u001B[0;32m    660\u001B[0m             return self.add(\n\u001B[0;32m    661\u001B[0m                 \u001B[0msink\u001B[0m\u001B[1;33m,\u001B[0m\u001B[1;33m\u001B[0m\u001B[1;33m\u001B[0m\u001B[0m\n",
      "\u001B[1;32m~\\anaconda3\\envs\\20220624-virtual-clustering-py36\\lib\\site-packages\\loguru\\_file_sink.py\u001B[0m in \u001B[0;36m__init__\u001B[1;34m(self, path, rotation, retention, compression, delay, mode, buffering, encoding, **kwargs)\u001B[0m\n\u001B[0;32m     47\u001B[0m         \u001B[0mself\u001B[0m\u001B[1;33m.\u001B[0m\u001B[0m_glob_pattern\u001B[0m \u001B[1;33m=\u001B[0m \u001B[0mself\u001B[0m\u001B[1;33m.\u001B[0m\u001B[0m_make_glob_pattern\u001B[0m\u001B[1;33m(\u001B[0m\u001B[0mself\u001B[0m\u001B[1;33m.\u001B[0m\u001B[0m_path\u001B[0m\u001B[1;33m)\u001B[0m\u001B[1;33m\u001B[0m\u001B[1;33m\u001B[0m\u001B[0m\n\u001B[0;32m     48\u001B[0m         \u001B[0mself\u001B[0m\u001B[1;33m.\u001B[0m\u001B[0m_get_creation_time\u001B[0m \u001B[1;33m=\u001B[0m \u001B[0mself\u001B[0m\u001B[1;33m.\u001B[0m\u001B[0m_make_get_creation_time_function\u001B[0m\u001B[1;33m(\u001B[0m\u001B[1;33m)\u001B[0m\u001B[1;33m\u001B[0m\u001B[1;33m\u001B[0m\u001B[0m\n\u001B[1;32m---> 49\u001B[1;33m         \u001B[0mself\u001B[0m\u001B[1;33m.\u001B[0m\u001B[0m_set_creation_time\u001B[0m \u001B[1;33m=\u001B[0m \u001B[0mself\u001B[0m\u001B[1;33m.\u001B[0m\u001B[0m_make_set_creation_time_function\u001B[0m\u001B[1;33m(\u001B[0m\u001B[1;33m)\u001B[0m\u001B[1;33m\u001B[0m\u001B[1;33m\u001B[0m\u001B[0m\n\u001B[0m\u001B[0;32m     50\u001B[0m \u001B[1;33m\u001B[0m\u001B[0m\n\u001B[0;32m     51\u001B[0m         \u001B[0mself\u001B[0m\u001B[1;33m.\u001B[0m\u001B[0m_file\u001B[0m \u001B[1;33m=\u001B[0m \u001B[1;32mNone\u001B[0m\u001B[1;33m\u001B[0m\u001B[1;33m\u001B[0m\u001B[0m\n",
      "\u001B[1;32m~\\anaconda3\\envs\\20220624-virtual-clustering-py36\\lib\\site-packages\\loguru\\_file_sink.py\u001B[0m in \u001B[0;36m_make_set_creation_time_function\u001B[1;34m()\u001B[0m\n\u001B[0;32m    129\u001B[0m \u001B[1;33m\u001B[0m\u001B[0m\n\u001B[0;32m    130\u001B[0m         \u001B[1;32mif\u001B[0m \u001B[0mos\u001B[0m\u001B[1;33m.\u001B[0m\u001B[0mname\u001B[0m \u001B[1;33m==\u001B[0m \u001B[1;34m\"nt\"\u001B[0m\u001B[1;33m:\u001B[0m\u001B[1;33m\u001B[0m\u001B[1;33m\u001B[0m\u001B[0m\n\u001B[1;32m--> 131\u001B[1;33m             \u001B[1;32mimport\u001B[0m \u001B[0mwin32_setctime\u001B[0m\u001B[1;33m\u001B[0m\u001B[1;33m\u001B[0m\u001B[0m\n\u001B[0m\u001B[0;32m    132\u001B[0m \u001B[1;33m\u001B[0m\u001B[0m\n\u001B[0;32m    133\u001B[0m             \u001B[1;32mif\u001B[0m \u001B[0mwin32_setctime\u001B[0m\u001B[1;33m.\u001B[0m\u001B[0mSUPPORTED\u001B[0m\u001B[1;33m:\u001B[0m\u001B[1;33m\u001B[0m\u001B[1;33m\u001B[0m\u001B[0m\n",
      "\u001B[1;31mModuleNotFoundError\u001B[0m: No module named 'win32_setctime'"
     ]
    }
   ],
   "source": [
    "\"\"\"path\"\"\"\n",
    "\n",
    "WORK_DIR = os.path.curdir\n",
    "DEBUG_DIR = os.path.join(WORK_DIR,'debug')\n",
    "# @TODO argparse data path\n",
    "\n",
    "\n",
    "\"\"\"FOR DEBUG\"\"\"\n",
    "DATA_ROOT = os.path.join(DEBUG_DIR,'example')\n",
    "TMP_DIR = os.path.join(DEBUG_DIR,'tmp')\n",
    "if not os.path.isdir(TMP_DIR):\n",
    "    os.makedirs(TMP_DIR)\n",
    "OUT_DIR = os.path.join(DEBUG_DIR,'output')\n",
    "\n",
    "\"\"\"logging\"\"\"\n",
    "\n",
    "DEBUG = True\n",
    "\n",
    "LOG_DIR = os.path.join(WORK_DIR,'log')\n",
    "if not os.path.exists(LOG_DIR):\n",
    "    os.makedirs(LOG_DIR)\n",
    "\n",
    "LOG_FILE = os.path.join(LOG_DIR,'debug_{time}.log')\n",
    "\n",
    "logger.add(LOG_FILE,retention=2)\n",
    "\n",
    "if DEBUG:\n",
    "    logger.debug('debug data directory: {}'.format(DEBUG_DIR))"
   ],
   "metadata": {
    "collapsed": false,
    "pycharm": {
     "name": "#%%\n"
    }
   }
  },
  {
   "cell_type": "markdown",
   "source": [
    "# Timing"
   ],
   "metadata": {
    "collapsed": false,
    "pycharm": {
     "name": "#%% md\n"
    }
   }
  },
  {
   "cell_type": "code",
   "execution_count": 2,
   "outputs": [
    {
     "name": "stderr",
     "output_type": "stream",
     "text": [
      "2022-07-03 18:57:44.702 | INFO     | __main__:timing:6 - Started extract-tarfile\n",
      "2022-07-03 18:57:44.703 | INFO     | __main__:<module>:13 - finished\n",
      "2022-07-03 18:57:44.703 | INFO     | __main__:timing:10 - Finished extract-tarfile in 0.000 seconds\n"
     ]
    }
   ],
   "source": [
    "import time\n",
    "import contextlib\n",
    "\n",
    "@contextlib.contextmanager\n",
    "def timing(msg: str):\n",
    "    logger.info('Started {}'.format(msg))\n",
    "    tic = time.time()\n",
    "    yield\n",
    "    toc = time.time()\n",
    "    logger.info('Finished %s in %.3f seconds'%(msg, toc - tic))\n",
    "\n",
    "with timing(\"extract-tarfile\"):\n",
    "    logger.info(\"finished\")"
   ],
   "metadata": {
    "collapsed": false,
    "pycharm": {
     "name": "#%%\n"
    }
   }
  },
  {
   "cell_type": "markdown",
   "source": [
    "# Tar Extractor"
   ],
   "metadata": {
    "collapsed": false,
    "pycharm": {
     "name": "#%% md\n"
    }
   }
  },
  {
   "cell_type": "markdown",
   "source": [
    "import tarfile\n",
    "\n",
    "dir_1 = './debug/example/AA/'\n",
    "tar_1 = os.path.join(dir_1, 'AABAAC.tar')\n",
    "dir_2 = os.path.join(TMP_DIR, 'AABAAC')\n",
    "tar_2_gz =  os.path.join(dir_2, '00000.tar.gz')\n",
    "\n",
    "with  tarfile.open(tar_1) as tar:\n",
    "    tar.extractall(TMP_DIR)\n",
    "    names = tar.getnames()\n"
   ],
   "metadata": {
    "collapsed": false
   }
  },
  {
   "cell_type": "code",
   "execution_count": 22,
   "outputs": [
    {
     "name": "stderr",
     "output_type": "stream",
     "text": [
      "100%|██████████| 204/204 [00:18<00:00, 11.08it/s]\n"
     ]
    }
   ],
   "source": [
    "from tqdm import tqdm\n",
    "\n",
    "for d in os.listdir(DATA_ROOT):\n",
    "    # d: \"AA\"\n",
    "    d_path = os.path.join(DATA_ROOT,d)\n",
    "    for f in tqdm(os.listdir(d_path)):\n",
    "        # f: \"AABAAC.tar\"\n",
    "        # if i == 2: break\n",
    "        \"\"\"critical section\"\"\"\n",
    "        with tarfile.open(os.path.join(d_path,f)) as tf:\n",
    "            names = tf.getnames()\n",
    "            # name: \"AABAAC/00000.tar.gz,....\"\n",
    "            tf.extractall(TMP_DIR)\n",
    "            # to \"tmp/AABAAC/00000.tar.gz\"\n",
    "\n",
    "        for name in names:\n",
    "            # name: \"AABAAC\"\n",
    "            dirname = os.path.dirname(name)\n",
    "            with tarfile.open(os.path.join(TMP_DIR, name)) as tf:\n",
    "                tf.extractall(os.path.join(TMP_DIR, dirname))"
   ],
   "metadata": {
    "collapsed": false,
    "pycharm": {
     "name": "#%%\n"
    }
   }
  },
  {
   "cell_type": "markdown",
   "source": [
    "# Format Converter"
   ],
   "metadata": {
    "collapsed": false,
    "pycharm": {
     "name": "#%% md\n"
    }
   }
  },
  {
   "cell_type": "code",
   "execution_count": 39,
   "outputs": [],
   "source": [
    "\n",
    "import openbabel\n",
    "def file_convert(inputFile, outputFile, inFormat='pdbqt', outFormat='sdf'):\n",
    "    conv= openbabel.OBConversion(\"debug/tmp/AABABD/00000/Z18500480_1_T1.pdbqt\", \"debug/Z18500480_1_T1.smiles\")\n",
    "    conv.OpenInAndOutFiles(\"pdbqt\",\"smiles\")\n",
    "    conv.Convert()\n",
    "    conv.CloseOutFile()"
   ],
   "metadata": {
    "collapsed": false,
    "pycharm": {
     "name": "#%%\n"
    }
   }
  },
  {
   "cell_type": "code",
   "execution_count": 20,
   "outputs": [
    {
     "data": {
      "text/plain": "'Z18500480_1_T1.smiles'"
     },
     "execution_count": 20,
     "metadata": {},
     "output_type": "execute_result"
    }
   ],
   "source": [
    "input_file = \"debug/tmp/AABABD/00000/Z18500480_1_T1.pdbqt\"\n",
    "os.path.dirname(input_file)\n",
    "os.path.splitext(os.path.basename(input_file))[0]+'.smiles'\n",
    "\n",
    "# os.path.ex"
   ],
   "metadata": {
    "collapsed": false,
    "pycharm": {
     "name": "#%%\n"
    }
   }
  },
  {
   "cell_type": "code",
   "execution_count": 12,
   "outputs": [
    {
     "ename": "OSError",
     "evalue": "outputfile.sdf already exists. Use 'overwrite=True' to overwrite it.",
     "output_type": "error",
     "traceback": [
      "\u001B[1;31m---------------------------------------------------------------------------\u001B[0m",
      "\u001B[1;31mOSError\u001B[0m                                   Traceback (most recent call last)",
      "\u001B[1;32m<ipython-input-12-d1470ff19811>\u001B[0m in \u001B[0;36m<module>\u001B[1;34m\u001B[0m\n\u001B[0;32m      9\u001B[0m \u001B[1;33m\u001B[0m\u001B[0m\n\u001B[0;32m     10\u001B[0m \u001B[0mpybelmol\u001B[0m \u001B[1;33m=\u001B[0m \u001B[0mpybel\u001B[0m\u001B[1;33m.\u001B[0m\u001B[0mMolecule\u001B[0m\u001B[1;33m(\u001B[0m\u001B[0mmol\u001B[0m\u001B[1;33m)\u001B[0m\u001B[1;33m\u001B[0m\u001B[1;33m\u001B[0m\u001B[0m\n\u001B[1;32m---> 11\u001B[1;33m \u001B[0mpybelmol\u001B[0m\u001B[1;33m.\u001B[0m\u001B[0mwrite\u001B[0m\u001B[1;33m(\u001B[0m\u001B[1;34m\"sdf\"\u001B[0m\u001B[1;33m,\u001B[0m \u001B[1;34m\"outputfile.sdf\"\u001B[0m\u001B[1;33m)\u001B[0m\u001B[1;33m\u001B[0m\u001B[1;33m\u001B[0m\u001B[0m\n\u001B[0m",
      "\u001B[1;32m~\\anaconda3\\envs\\20220624-virtual-clustering-py36\\lib\\site-packages\\pybel.py\u001B[0m in \u001B[0;36mwrite\u001B[1;34m(self, format, filename, overwrite, opt)\u001B[0m\n\u001B[0;32m    537\u001B[0m             \u001B[1;32mif\u001B[0m \u001B[1;32mnot\u001B[0m \u001B[0moverwrite\u001B[0m \u001B[1;32mand\u001B[0m \u001B[0mos\u001B[0m\u001B[1;33m.\u001B[0m\u001B[0mpath\u001B[0m\u001B[1;33m.\u001B[0m\u001B[0misfile\u001B[0m\u001B[1;33m(\u001B[0m\u001B[0mfilename\u001B[0m\u001B[1;33m)\u001B[0m\u001B[1;33m:\u001B[0m\u001B[1;33m\u001B[0m\u001B[1;33m\u001B[0m\u001B[0m\n\u001B[0;32m    538\u001B[0m                 raise IOError((\"%s already exists. Use 'overwrite=True' to \"\n\u001B[1;32m--> 539\u001B[1;33m                                \"overwrite it.\") % filename)\n\u001B[0m\u001B[0;32m    540\u001B[0m             \u001B[0mobconversion\u001B[0m\u001B[1;33m.\u001B[0m\u001B[0mWriteFile\u001B[0m\u001B[1;33m(\u001B[0m\u001B[0mself\u001B[0m\u001B[1;33m.\u001B[0m\u001B[0mOBMol\u001B[0m\u001B[1;33m,\u001B[0m \u001B[0mfilename\u001B[0m\u001B[1;33m)\u001B[0m\u001B[1;33m\u001B[0m\u001B[1;33m\u001B[0m\u001B[0m\n\u001B[0;32m    541\u001B[0m             \u001B[0mobconversion\u001B[0m\u001B[1;33m.\u001B[0m\u001B[0mCloseOutFile\u001B[0m\u001B[1;33m(\u001B[0m\u001B[1;33m)\u001B[0m\u001B[1;33m\u001B[0m\u001B[1;33m\u001B[0m\u001B[0m\n",
      "\u001B[1;31mOSError\u001B[0m: outputfile.sdf already exists. Use 'overwrite=True' to overwrite it."
     ]
    }
   ],
   "source": [
    "import openbabel,pybel\n",
    "\n",
    "mol = openbabel.OBMol()\n",
    "a = mol.NewAtom()\n",
    "a.SetAtomicNum(6)   # carbon atom\n",
    "a.SetVector(0.0, 1.0, 2.0) # coordinates\n",
    "b = mol.NewAtom()\n",
    "mol.AddBond(1, 2, 1)   # atoms indexed from 1\n",
    "\n",
    "pybelmol = pybel.Molecule(mol)\n",
    "pybelmol.write(\"sdf\", \"outputfile.sdf\")"
   ],
   "metadata": {
    "collapsed": false,
    "pycharm": {
     "name": "#%%\n"
    }
   }
  },
  {
   "cell_type": "code",
   "execution_count": 31,
   "outputs": [
    {
     "name": "stderr",
     "output_type": "stream",
     "text": [
      "2022-07-01 20:51:37.121 | INFO     | __main__:timing:6 - Started parallel\n"
     ]
    },
    {
     "ename": "BrokenProcessPool",
     "evalue": "A child process terminated abruptly, the process pool is not usable anymore",
     "output_type": "error",
     "traceback": [
      "\u001B[1;31m---------------------------------------------------------------------------\u001B[0m",
      "\u001B[1;31mBrokenProcessPool\u001B[0m                         Traceback (most recent call last)",
      "Input \u001B[1;32mIn [31]\u001B[0m, in \u001B[0;36m<cell line: 9>\u001B[1;34m()\u001B[0m\n\u001B[0;32m     10\u001B[0m \u001B[38;5;28;01mwith\u001B[39;00m futures\u001B[38;5;241m.\u001B[39mProcessPoolExecutor(\u001B[38;5;241m1\u001B[39m) \u001B[38;5;28;01mas\u001B[39;00m executor:\n\u001B[0;32m     11\u001B[0m     \u001B[38;5;28;01mfor\u001B[39;00m i \u001B[38;5;129;01min\u001B[39;00m \u001B[38;5;28mrange\u001B[39m(\u001B[38;5;241m100\u001B[39m, \u001B[38;5;241m5000\u001B[39m):\n\u001B[1;32m---> 12\u001B[0m         future \u001B[38;5;241m=\u001B[39m \u001B[43mexecutor\u001B[49m\u001B[38;5;241;43m.\u001B[39;49m\u001B[43msubmit\u001B[49m\u001B[43m(\u001B[49m\u001B[43mf\u001B[49m\u001B[43m,\u001B[49m\u001B[43m \u001B[49m\u001B[43mi\u001B[49m\u001B[43m,\u001B[49m\u001B[43m \u001B[49m\u001B[43mi\u001B[49m\u001B[38;5;241;43m+\u001B[39;49m\u001B[38;5;241;43m1\u001B[39;49m\u001B[43m)\u001B[49m\n",
      "File \u001B[1;32m~\\anaconda3\\envs\\20220624-virtual-clustering\\lib\\concurrent\\futures\\process.py:681\u001B[0m, in \u001B[0;36mProcessPoolExecutor.submit\u001B[1;34m(self, fn, *args, **kwargs)\u001B[0m\n\u001B[0;32m    679\u001B[0m \u001B[38;5;28;01mwith\u001B[39;00m \u001B[38;5;28mself\u001B[39m\u001B[38;5;241m.\u001B[39m_shutdown_lock:\n\u001B[0;32m    680\u001B[0m     \u001B[38;5;28;01mif\u001B[39;00m \u001B[38;5;28mself\u001B[39m\u001B[38;5;241m.\u001B[39m_broken:\n\u001B[1;32m--> 681\u001B[0m         \u001B[38;5;28;01mraise\u001B[39;00m BrokenProcessPool(\u001B[38;5;28mself\u001B[39m\u001B[38;5;241m.\u001B[39m_broken)\n\u001B[0;32m    682\u001B[0m     \u001B[38;5;28;01mif\u001B[39;00m \u001B[38;5;28mself\u001B[39m\u001B[38;5;241m.\u001B[39m_shutdown_thread:\n\u001B[0;32m    683\u001B[0m         \u001B[38;5;28;01mraise\u001B[39;00m \u001B[38;5;167;01mRuntimeError\u001B[39;00m(\u001B[38;5;124m'\u001B[39m\u001B[38;5;124mcannot schedule new futures after shutdown\u001B[39m\u001B[38;5;124m'\u001B[39m)\n",
      "\u001B[1;31mBrokenProcessPool\u001B[0m: A child process terminated abruptly, the process pool is not usable anymore"
     ]
    }
   ],
   "source": [
    "from concurrent import futures\n",
    "\n",
    "\n",
    "def f(a, b):\n",
    "    return [a**b]\n",
    "\n",
    "\"\"\"Test for concurrent.futures\"\"\"\n",
    "# if __name__ == '__main__':\n",
    "with timing(\"parallel\"):\n",
    "    with futures.ProcessPoolExecutor(1) as executor:\n",
    "        for i in range(100, 5000):\n",
    "            future = executor.submit(f, i, i+1)\n",
    "        # print(future.result())"
   ],
   "metadata": {
    "collapsed": false,
    "pycharm": {
     "name": "#%%\n"
    }
   }
  },
  {
   "cell_type": "code",
   "execution_count": 1,
   "outputs": [
    {
     "ename": "ModuleNotFoundError",
     "evalue": "No module named 'loguru'",
     "output_type": "error",
     "traceback": [
      "\u001B[1;31m---------------------------------------------------------------------------\u001B[0m",
      "\u001B[1;31mModuleNotFoundError\u001B[0m                       Traceback (most recent call last)",
      "\u001B[1;32m~\\AppData\\Local\\Temp\\ipykernel_15416\\3293382926.py\u001B[0m in \u001B[0;36m<module>\u001B[1;34m\u001B[0m\n\u001B[1;32m----> 1\u001B[1;33m \u001B[1;32mfrom\u001B[0m  \u001B[0mdata\u001B[0m\u001B[1;33m.\u001B[0m\u001B[0mtools\u001B[0m \u001B[1;32mimport\u001B[0m \u001B[0mutils\u001B[0m\u001B[1;33m,\u001B[0m \u001B[0mextractor\u001B[0m\u001B[1;33m,\u001B[0m \u001B[0mconverter\u001B[0m\u001B[1;33m\u001B[0m\u001B[1;33m\u001B[0m\u001B[0m\n\u001B[0m\u001B[0;32m      2\u001B[0m \u001B[1;33m\u001B[0m\u001B[0m\n\u001B[0;32m      3\u001B[0m \u001B[1;32mwith\u001B[0m \u001B[0mutils\u001B[0m\u001B[1;33m.\u001B[0m\u001B[0mtmpdir_manager\u001B[0m\u001B[1;33m(\u001B[0m\u001B[1;34m'./debug'\u001B[0m\u001B[1;33m)\u001B[0m \u001B[1;32mas\u001B[0m \u001B[0mtmp_dir\u001B[0m\u001B[1;33m:\u001B[0m\u001B[1;33m\u001B[0m\u001B[1;33m\u001B[0m\u001B[0m\n\u001B[0;32m      4\u001B[0m     tar_extractor = extractor.Extractor(\n\u001B[0;32m      5\u001B[0m             \u001B[0mdata_dir\u001B[0m\u001B[1;33m=\u001B[0m\u001B[1;34m'./debug/example'\u001B[0m\u001B[1;33m,\u001B[0m\u001B[1;33m\u001B[0m\u001B[1;33m\u001B[0m\u001B[0m\n",
      "\u001B[1;32mE:\\work\\20220624-virtual-clustering\\data\\tools\\utils.py\u001B[0m in \u001B[0;36m<module>\u001B[1;34m\u001B[0m\n\u001B[0;32m      4\u001B[0m \u001B[1;32mimport\u001B[0m \u001B[0mtime\u001B[0m\u001B[1;33m\u001B[0m\u001B[1;33m\u001B[0m\u001B[0m\n\u001B[0;32m      5\u001B[0m \u001B[1;32mfrom\u001B[0m \u001B[0mtyping\u001B[0m \u001B[1;32mimport\u001B[0m \u001B[0mOptional\u001B[0m\u001B[1;33m\u001B[0m\u001B[1;33m\u001B[0m\u001B[0m\n\u001B[1;32m----> 6\u001B[1;33m \u001B[1;32mfrom\u001B[0m \u001B[0mloguru\u001B[0m \u001B[1;32mimport\u001B[0m \u001B[0mlogger\u001B[0m\u001B[1;33m\u001B[0m\u001B[1;33m\u001B[0m\u001B[0m\n\u001B[0m\u001B[0;32m      7\u001B[0m \u001B[1;31m# from absl\u001B[0m\u001B[1;33m\u001B[0m\u001B[1;33m\u001B[0m\u001B[1;33m\u001B[0m\u001B[0m\n\u001B[0;32m      8\u001B[0m \u001B[1;33m\u001B[0m\u001B[0m\n",
      "\u001B[1;31mModuleNotFoundError\u001B[0m: No module named 'loguru'"
     ]
    }
   ],
   "source": [
    "from  data.tools import utils, converter\n",
    "\n",
    "with utils.tmpdir_manager('./debug') as tmp_dir:\n",
    "    tar_extractor = extractor.Extractor(\n",
    "            data_dir='./debug/example',\n",
    "            n_cpu=1)\n",
    "    converter = converter.Converter(tmp_dir, 'pdbqt', 'sdf')\n",
    "    tar_extractor.extract(tmp_dir)\n",
    "    for d_1 in os.listdir(tmp_dir):\n",
    "        logger.info(d_1)\n",
    "        for d_2 in os.listdir(os.path.join(os.path.dirname(tmp_dir),d_1)):\n",
    "            logger.info(d_2)\n",
    "            for pdbqt_file in os.listdir(d_2):\n",
    "            #     logger.info(pdbqt_file)"
   ],
   "metadata": {
    "collapsed": false,
    "pycharm": {
     "name": "#%%\n"
    }
   }
  },
  {
   "cell_type": "markdown",
   "source": [
    "# rdkit mol\n",
    "指纹就是一些key的组合，输出可以是BitVect，以节省空间"
   ],
   "metadata": {
    "collapsed": false,
    "pycharm": {
     "name": "#%% md\n"
    }
   }
  },
  {
   "cell_type": "code",
   "execution_count": 2,
   "outputs": [
    {
     "name": "stdout",
     "output_type": "stream",
     "text": [
      "{314: ((2, 1),), 370: ((5, 2),), 475: ((0, 1),), 576: ((5, 0),), 623: ((11, 2),), 650: ((2, 0), (12, 0)), 666: ((11, 1),), 674: ((8, 0),), 738: ((5, 1),), 771: ((1, 1),), 807: ((7, 0), (11, 0)), 856: ((4, 1),), 881: ((10, 0),), 906: ((9, 1), (13, 1)), 935: ((0, 0), (3, 0)), 1037: ((4, 0), (9, 0), (13, 0)), 1102: ((10, 1),), 1145: ((6, 1),), 1199: ((6, 2),), 1209: ((8, 2),), 1263: ((1, 2),), 1370: ((10, 2),), 1380: ((1, 0), (6, 0)), 1602: ((7, 1),), 1610: ((3, 1),), 1659: ((8, 1),), 1705: ((0, 2),), 1917: ((12, 1),), 2006: ((3, 2),)}\n"
     ]
    }
   ],
   "source": [
    "from rdkit import Chem\n",
    "from rdkit.Chem import Draw\n",
    "from rdkit.Chem import AllChem as ch\n",
    "import matplotlib.pyplot as plt  # 画图\n",
    "\n",
    "supp = Chem.SDMolSupplier('./debug/Z18500480_1_T1.sdf')\n",
    "bi = {}\n",
    "mols_fps_Morgen = [(m, ch.GetMorganFingerprintAsBitVect(m, radius=2, bitInfo=bi)) for m in supp]\n",
    "print(bi)\n"
   ],
   "metadata": {
    "collapsed": false,
    "pycharm": {
     "name": "#%%\n"
    }
   }
  },
  {
   "cell_type": "code",
   "execution_count": 16,
   "outputs": [
    {
     "data": {
      "text/plain": "<rdkit.DataStructs.cDataStructs.UIntSparseIntVect at 0x2c05a442170>"
     },
     "execution_count": 16,
     "metadata": {},
     "output_type": "execute_result"
    }
   ],
   "source": [
    "mols_fps_Morgen[0][1]"
   ],
   "metadata": {
    "collapsed": false,
    "pycharm": {
     "name": "#%%\n"
    }
   }
  },
  {
   "cell_type": "code",
   "execution_count": 8,
   "outputs": [
    {
     "data": {
      "text/plain": "1"
     },
     "execution_count": 8,
     "metadata": {},
     "output_type": "execute_result"
    }
   ],
   "source": [
    "len(mols_fps_Morgen)"
   ],
   "metadata": {
    "collapsed": false,
    "pycharm": {
     "name": "#%%\n"
    }
   }
  },
  {
   "cell_type": "markdown",
   "source": [
    "## 一个很好用的SimilarityMap"
   ],
   "metadata": {
    "collapsed": false,
    "pycharm": {
     "name": "#%% md\n"
    }
   }
  },
  {
   "cell_type": "code",
   "execution_count": 88,
   "outputs": [
    {
     "name": "stdout",
     "output_type": "stream",
     "text": [
      "<rdkit.Chem.Draw.rdMolDraw2D.MolDraw2DSVG object at 0x000002C05BF67B20>\n",
      "0.12255947497949138\n"
     ]
    }
   ],
   "source": [
    "from rdkit.Chem.Draw import SimilarityMaps\n",
    "\n",
    "# 目标分子\n",
    "targetmol = Chem.MolFromSmiles(\n",
    "    'COc1cccc2cc(C(=O)NCCCCN3CCN(c4cccc5nccnc54)CC3)oc21')\n",
    "# 参考分子\n",
    "refmol = Chem.MolFromSmiles('CCCN(CCCCN1CCN(c2ccccc2OC)CC1)Cc1ccc2ccccc2c1')\n",
    "\n",
    "Draw.MolDraw2DSVG(400, 400)\n",
    "d.ClearDrawing()\n",
    "target_mol_simi_fig, maxweight = SimilarityMaps.GetSimilarityMapForFingerprint(\n",
    "    refmol,\n",
    "    targetmol,\n",
    "    lambda m, i: SimilarityMaps.GetMorganFingerprint(\n",
    "        m, i, radius=2, fpType='bv'),\n",
    "    draw2d=d\n",
    ")\n",
    "print(target_mol_simi_fig)  # Figure(250x250)\n",
    "print(maxweight)  # 0.12255947497949138\n",
    "d.FinishDrawing()\n",
    "with open('./mol28.svg', 'w+') as outf:\n",
    "    outf.write(d.GetDrawingText())\n",
    "# d.ClearDrawing()"
   ],
   "metadata": {
    "collapsed": false,
    "pycharm": {
     "name": "#%%\n"
    }
   }
  },
  {
   "cell_type": "code",
   "execution_count": 5,
   "outputs": [
    {
     "name": "stdout",
     "output_type": "stream",
     "text": [
      "4P///6cAAAA8AAAAcggEDAQGAAIAAgAGAAAAAgACAgAEAAgAAgYAAgAABAAAAAAGAgIABgACAAAABAAAAAAAAAAAAAAAAAAAAg==\n",
      "4P///6cAAAA8AAAAcggEDAQGAAIAAgAGAAAAAgACAgAEAAgAAgYAAgAABAAAAAAGAgIABgACAAAABAAAAAAAAAAAAAAAAAAAAg==\n"
     ]
    }
   ],
   "source": [
    "from rdkit.DataStructs import ExplicitBitVect, CreateFromBinaryText\n",
    "m = Chem.MolFromSmiles(\n",
    "    'COc1cccc2cc(C(=O)NCCCCN3CCN(c4cccc5nccnc54)CC3)oc21')\n",
    "bi = {}\n",
    "fp = ch.GetMorganFingerprintAsBitVect(m, radius=2)\n",
    "fp = ch.GetMACCSKeysFingerprint(m)\n",
    "base64 = ExplicitBitVect.ToBase64(fp)\n",
    "print(base64)\n",
    "\n",
    "# _fp = ExplicitBitVect.\n",
    "_fp = ExplicitBitVect(0)\n",
    "ExplicitBitVect.FromBase64(_fp, base64)\n",
    "\n",
    "with open('./mol1','w+') as f:\n",
    "    f.write(base64)\n",
    "print(_fp.ToBase64())\n",
    "# fp.FromBase64(base64)\n"
   ],
   "metadata": {
    "collapsed": false,
    "pycharm": {
     "name": "#%%\n"
    }
   }
  },
  {
   "cell_type": "code",
   "execution_count": 193,
   "outputs": [
    {
     "name": "stderr",
     "output_type": "stream",
     "text": [
      "2022-07-03 22:22:40.017 | INFO     | __main__:<module>:12 - .\\debug\\tmp\\AABAAC\\00000\\Z1252751589_1_T1.pdbqt\n",
      "2022-07-03 22:22:40.018 | INFO     | __main__:<module>:13 - Z1252751589_1_T1\n",
      "2022-07-03 22:22:40.018 | INFO     | __main__:<module>:12 - .\\debug\\tmp\\AABAAC\\00000\\Z1509950178_1_T1.pdbqt\n",
      "2022-07-03 22:22:40.018 | INFO     | __main__:<module>:13 - Z1509950178_1_T1\n",
      "2022-07-03 22:22:40.020 | INFO     | __main__:<module>:12 - .\\debug\\tmp\\AABAAC\\00000\\Z1510155714_1_T1.pdbqt\n",
      "2022-07-03 22:22:40.020 | INFO     | __main__:<module>:13 - Z1510155714_1_T1\n",
      "2022-07-03 22:22:40.021 | INFO     | __main__:<module>:12 - .\\debug\\tmp\\AABAAC\\00000\\Z1614339982_1_T1.pdbqt\n",
      "2022-07-03 22:22:40.021 | INFO     | __main__:<module>:13 - Z1614339982_1_T1\n",
      "2022-07-03 22:22:40.022 | INFO     | __main__:<module>:12 - .\\debug\\tmp\\AABAAC\\00000\\Z1692816331_1_T1.pdbqt\n",
      "2022-07-03 22:22:40.022 | INFO     | __main__:<module>:13 - Z1692816331_1_T1\n",
      "2022-07-03 22:22:40.022 | INFO     | __main__:<module>:12 - .\\debug\\tmp\\AABAAC\\00000\\Z1692816331_2_T1.pdbqt\n",
      "2022-07-03 22:22:40.022 | INFO     | __main__:<module>:13 - Z1692816331_2_T1\n",
      "2022-07-03 22:22:40.024 | INFO     | __main__:<module>:12 - .\\debug\\tmp\\AABAAC\\00000\\Z2027307024_1_T1.pdbqt\n",
      "2022-07-03 22:22:40.024 | INFO     | __main__:<module>:13 - Z2027307024_1_T1\n",
      "2022-07-03 22:22:40.024 | INFO     | __main__:<module>:12 - .\\debug\\tmp\\AABAAC\\00000\\Z2027307024_1_T2.pdbqt\n",
      "2022-07-03 22:22:40.025 | INFO     | __main__:<module>:13 - Z2027307024_1_T2\n",
      "2022-07-03 22:22:40.025 | INFO     | __main__:<module>:12 - .\\debug\\tmp\\AABAAC\\00000\\Z2027307024_1_T3.pdbqt\n",
      "2022-07-03 22:22:40.026 | INFO     | __main__:<module>:13 - Z2027307024_1_T3\n",
      "2022-07-03 22:22:40.026 | INFO     | __main__:<module>:12 - .\\debug\\tmp\\AABAAC\\00000\\Z2499074481_1_T1.pdbqt\n",
      "2022-07-03 22:22:40.028 | INFO     | __main__:<module>:13 - Z2499074481_1_T1\n",
      "2022-07-03 22:22:40.028 | INFO     | __main__:<module>:12 - .\\debug\\tmp\\AABAAC\\00000\\Z2499074481_1_T2.pdbqt\n",
      "2022-07-03 22:22:40.029 | INFO     | __main__:<module>:13 - Z2499074481_1_T2\n",
      "2022-07-03 22:22:40.029 | INFO     | __main__:<module>:12 - .\\debug\\tmp\\AABAAC\\00000\\Z2499074481_1_T3.pdbqt\n",
      "2022-07-03 22:22:40.029 | INFO     | __main__:<module>:13 - Z2499074481_1_T3\n",
      "2022-07-03 22:22:40.029 | INFO     | __main__:<module>:12 - .\\debug\\tmp\\AABAAC\\00000\\Z2890544298_1_T1.pdbqt\n",
      "2022-07-03 22:22:40.029 | INFO     | __main__:<module>:13 - Z2890544298_1_T1\n",
      "2022-07-03 22:22:40.029 | INFO     | __main__:<module>:12 - .\\debug\\tmp\\AABAAC\\00000\\Z2890544298_2_T1.pdbqt\n",
      "2022-07-03 22:22:40.033 | INFO     | __main__:<module>:13 - Z2890544298_2_T1\n",
      "2022-07-03 22:22:40.033 | INFO     | __main__:<module>:12 - .\\debug\\tmp\\AABAAC\\00000\\Z2977592255_1_T1.pdbqt\n",
      "2022-07-03 22:22:40.033 | INFO     | __main__:<module>:13 - Z2977592255_1_T1\n",
      "2022-07-03 22:22:40.035 | INFO     | __main__:<module>:12 - .\\debug\\tmp\\AABAAC\\00000\\Z2980972959_1_T1.pdbqt\n",
      "2022-07-03 22:22:40.035 | INFO     | __main__:<module>:13 - Z2980972959_1_T1\n",
      "2022-07-03 22:22:40.035 | INFO     | __main__:<module>:12 - .\\debug\\tmp\\AABABC\\00000\\Z1252006115_1_T1.pdbqt\n",
      "2022-07-03 22:22:40.035 | INFO     | __main__:<module>:13 - Z1252006115_1_T1\n",
      "2022-07-03 22:22:40.035 | INFO     | __main__:<module>:12 - .\\debug\\tmp\\AABABC\\00000\\Z1252636650_1_T1.pdbqt\n",
      "2022-07-03 22:22:40.035 | INFO     | __main__:<module>:13 - Z1252636650_1_T1\n",
      "2022-07-03 22:22:40.035 | INFO     | __main__:<module>:12 - .\\debug\\tmp\\AABABC\\00000\\Z1257210128_1_T1.pdbqt\n",
      "2022-07-03 22:22:40.035 | INFO     | __main__:<module>:13 - Z1257210128_1_T1\n",
      "2022-07-03 22:22:40.035 | INFO     | __main__:<module>:12 - .\\debug\\tmp\\AABABC\\00000\\Z133758102_1_T1.pdbqt\n",
      "2022-07-03 22:22:40.035 | INFO     | __main__:<module>:13 - Z133758102_1_T1\n",
      "2022-07-03 22:22:40.035 | INFO     | __main__:<module>:12 - .\\debug\\tmp\\AABABC\\00000\\Z1613942762_1_T1.pdbqt\n",
      "2022-07-03 22:22:40.035 | INFO     | __main__:<module>:13 - Z1613942762_1_T1\n",
      "2022-07-03 22:22:40.035 | INFO     | __main__:<module>:12 - .\\debug\\tmp\\AABABC\\00000\\Z1621661017_1_T1.pdbqt\n",
      "2022-07-03 22:22:40.035 | INFO     | __main__:<module>:13 - Z1621661017_1_T1\n",
      "2022-07-03 22:22:40.035 | INFO     | __main__:<module>:12 - .\\debug\\tmp\\AABABC\\00000\\Z1654961126_1_T1.pdbqt\n",
      "2022-07-03 22:22:40.045 | INFO     | __main__:<module>:13 - Z1654961126_1_T1\n",
      "2022-07-03 22:22:40.045 | INFO     | __main__:<module>:12 - .\\debug\\tmp\\AABABC\\00000\\Z1673706331_1_T1.pdbqt\n",
      "2022-07-03 22:22:40.046 | INFO     | __main__:<module>:13 - Z1673706331_1_T1\n",
      "2022-07-03 22:22:40.046 | INFO     | __main__:<module>:12 - .\\debug\\tmp\\AABABC\\00000\\Z1692819136_1_T1.pdbqt\n",
      "2022-07-03 22:22:40.047 | INFO     | __main__:<module>:13 - Z1692819136_1_T1\n",
      "2022-07-03 22:22:40.048 | INFO     | __main__:<module>:12 - .\\debug\\tmp\\AABABC\\00000\\Z1930646774_1_T1.pdbqt\n",
      "2022-07-03 22:22:40.048 | INFO     | __main__:<module>:13 - Z1930646774_1_T1\n",
      "2022-07-03 22:22:40.050 | INFO     | __main__:<module>:12 - .\\debug\\tmp\\AABABC\\00000\\Z2016026678_1_T1.pdbqt\n",
      "2022-07-03 22:22:40.051 | INFO     | __main__:<module>:13 - Z2016026678_1_T1\n",
      "2022-07-03 22:22:40.051 | INFO     | __main__:<module>:12 - .\\debug\\tmp\\AABABC\\00000\\Z2660715213_1_T1.pdbqt\n",
      "2022-07-03 22:22:40.052 | INFO     | __main__:<module>:13 - Z2660715213_1_T1\n"
     ]
    }
   ],
   "source": [
    "from data.tools import utils\n",
    "tmp_dir = os.path.join(os.path.curdir,'debug','tmp')\n",
    "# with utils.tmpdir_manager() as tmp_dir:\n",
    "\n",
    "for i, d_1 in enumerate(os.listdir(tmp_dir)):\n",
    "    if i > 1: break\n",
    "    dpath_1 = os.path.join(tmp_dir, d_1)\n",
    "    for d_2 in os.listdir(dpath_1):\n",
    "        dpath_2 = os.path.join(dpath_1, d_2)\n",
    "        if os.path.isdir(dpath_2):\n",
    "            for f in os.listdir(dpath_2):\n",
    "                logger.info(os.path.join(dpath_2, f))\n",
    "                logger.info(os.path.splitext(f)[0])\n",
    "                # logger.debug(f)\n",
    "\n"
   ],
   "metadata": {
    "collapsed": false,
    "pycharm": {
     "name": "#%%\n"
    }
   }
  },
  {
   "cell_type": "code",
   "execution_count": 93,
   "outputs": [
    {
     "data": {
      "text/plain": "<rdkit.Chem.rdchem.Mol at 0x2c05c30fd00>",
      "image/png": "[encoded data removed]"
     },
     "execution_count": 93,
     "metadata": {},
     "output_type": "execute_result"
    }
   ],
   "source": [
    "targetmol"
   ],
   "metadata": {
    "collapsed": false,
    "pycharm": {
     "name": "#%%\n"
    }
   }
  },
  {
   "cell_type": "code",
   "execution_count": 94,
   "outputs": [
    {
     "data": {
      "text/plain": "<rdkit.Chem.rdchem.Mol at 0x2c05c30f080>",
      "image/png": "[encoded data removed]"
     },
     "execution_count": 94,
     "metadata": {},
     "output_type": "execute_result"
    }
   ],
   "source": [
    "refmol"
   ],
   "metadata": {
    "collapsed": false,
    "pycharm": {
     "name": "#%%\n"
    }
   }
  },
  {
   "cell_type": "code",
   "execution_count": 2,
   "outputs": [
    {
     "ename": "NameError",
     "evalue": "name 'utils' is not defined",
     "output_type": "error",
     "traceback": [
      "\u001B[1;31m---------------------------------------------------------------------------\u001B[0m",
      "\u001B[1;31mNameError\u001B[0m                                 Traceback (most recent call last)",
      "\u001B[1;32m~\\AppData\\Local\\Temp\\ipykernel_9652\\3169518676.py\u001B[0m in \u001B[0;36m<module>\u001B[1;34m\u001B[0m\n\u001B[1;32m----> 1\u001B[1;33m \u001B[1;32mwith\u001B[0m \u001B[0mutils\u001B[0m\u001B[1;33m.\u001B[0m\u001B[0mtmpdir_manager\u001B[0m\u001B[1;33m(\u001B[0m\u001B[1;33m)\u001B[0m \u001B[1;32mas\u001B[0m \u001B[0mtmp_dir\u001B[0m\u001B[1;33m:\u001B[0m\u001B[1;33m\u001B[0m\u001B[1;33m\u001B[0m\u001B[0m\n\u001B[0m\u001B[0;32m      2\u001B[0m     tar_extractor = extractor.Extractor(\n\u001B[0;32m      3\u001B[0m         \u001B[0mdata_dir\u001B[0m\u001B[1;33m=\u001B[0m\u001B[1;34m'./debug/example'\u001B[0m\u001B[1;33m,\u001B[0m\u001B[1;33m\u001B[0m\u001B[1;33m\u001B[0m\u001B[0m\n\u001B[0;32m      4\u001B[0m         n_cpu=1)\n\u001B[0;32m      5\u001B[0m     \u001B[0mtar_extractor\u001B[0m\u001B[1;33m.\u001B[0m\u001B[0mextract\u001B[0m\u001B[1;33m(\u001B[0m\u001B[0mtmp_dir\u001B[0m\u001B[1;33m)\u001B[0m\u001B[1;33m\u001B[0m\u001B[1;33m\u001B[0m\u001B[0m\n",
      "\u001B[1;31mNameError\u001B[0m: name 'utils' is not defined"
     ]
    }
   ],
   "source": [
    "with utils.tmpdir_manager() as tmp_dir:\n",
    "    tar_extractor = extractor.Extractor(\n",
    "        data_dir='./debug/example',\n",
    "        n_cpu=1)\n",
    "    tar_extractor.extract(tmp_dir)"
   ],
   "metadata": {
    "collapsed": false,
    "pycharm": {
     "name": "#%%\n"
    }
   }
  },
  {
   "cell_type": "code",
   "execution_count": 12,
   "outputs": [],
   "source": [
    "full_path = './tmp6uq2a4pi/AABAAC/00000/Z1252751589_1_T1.sdf'\n",
    "dirname = os.path.dirname(full_path)\n",
    "basename = os.path.basename(full_path)\n",
    "\n",
    "file_id = os.path.splitext(basename)[0]\n",
    "file_id\n"
   ],
   "metadata": {
    "collapsed": false,
    "pycharm": {
     "name": "#%%\n"
    }
   }
  },
  {
   "cell_type": "markdown",
   "source": [
    "pdbqt转fp"
   ],
   "metadata": {
    "collapsed": false,
    "pycharm": {
     "name": "#%% md\n"
    }
   }
  },
  {
   "cell_type": "code",
   "execution_count": 211,
   "outputs": [],
   "source": [
    "from data.tools.pipeline import  _pdbqt2fingerprint\n",
    "from data.tools import pipeline\n",
    "\n",
    "path = os.path.join('tmpycuut84t', 'AABBAC', '00000')\n",
    "# out = os.path.join('tmp93eb8ia2','out')\n",
    "os.makedirs('out')\n",
    "for f in os.listdir(path):\n",
    "    # print(f)\n",
    "    file_id = os.path.splitext(f)[0]\n",
    "    _pdbqt2fingerprint(path, file_id, '.sdf', 'out')"
   ],
   "metadata": {
    "collapsed": false,
    "pycharm": {
     "name": "#%%\n"
    }
   }
  },
  {
   "cell_type": "code",
   "execution_count": 10,
   "outputs": [
    {
     "data": {
      "text/plain": "['Z1252751589_1_T1',\n 'Z1509950178_1_T1',\n 'Z1510155714_1_T1',\n 'Z1614339982_1_T1',\n 'Z1692816331_1_T1',\n 'Z1692816331_2_T1',\n 'Z2027307024_1_T1',\n 'Z2027307024_1_T2',\n 'Z2027307024_1_T3',\n 'Z2499074481_1_T1',\n 'Z2499074481_1_T2',\n 'Z2499074481_1_T3',\n 'Z2890544298_1_T1',\n 'Z2890544298_2_T1',\n 'Z2977592255_1_T1',\n 'Z2980972959_1_T1']"
     },
     "execution_count": 10,
     "metadata": {},
     "output_type": "execute_result"
    }
   ],
   "source": [
    "from meeko import PDBQTMolecule\n",
    "from openbabel import openbabel\n",
    "\n",
    "path='tmpbqzs_1_d/AABCAF/00000'\n",
    "file_id = 'Z1692919946_1_T1.pdbqt'\n",
    "in_full_path = os.path.join(path, file_id)\n",
    "out_full_path = 'Z1692919946_1_T1.sdf'\n",
    "conv = openbabel.OBConversion(in_full_path, out_full_path)\n",
    "conv.OpenInAndOutFiles('.pdbqt','.smiles')\n",
    "conv.Convert()\n",
    "conv.CloseOutFile()"
   ],
   "metadata": {
    "collapsed": false,
    "pycharm": {
     "name": "#%%\n"
    }
   }
  },
  {
   "cell_type": "code",
   "execution_count": 62,
   "outputs": [],
   "source": [
    "a = os.path.splitext(os.path.join(path, file_id))[0]\n",
    "os.path.basename(a)"
   ],
   "metadata": {
    "collapsed": false,
    "pycharm": {
     "name": "#%%\n"
    }
   }
  },
  {
   "cell_type": "code",
   "execution_count": 80,
   "outputs": [
    {
     "data": {
      "text/plain": "'Z1692919946_1_T1'"
     },
     "execution_count": 80,
     "metadata": {},
     "output_type": "execute_result"
    }
   ],
   "source": [
    "os.path.basename(os.path.join(path, file_id))"
   ],
   "metadata": {
    "collapsed": false,
    "pycharm": {
     "name": "#%%\n"
    }
   }
  },
  {
   "cell_type": "code",
   "execution_count": 78,
   "outputs": [
    {
     "data": {
      "text/plain": "'Z1692919946_1_T1.pdbqt'"
     },
     "execution_count": 78,
     "metadata": {},
     "output_type": "execute_result"
    }
   ],
   "source": [
    "from data.tools.pipeline import _cal_single_fingerprint\n",
    "from openbabel import pybel\n",
    "path='tmpbqzs_1_d/AABCAF/00000'\n",
    "file_id = 'Z1692919946_1_T1.pdbqt'\n",
    "in_full_path = os.path.join(path, file_id)\n",
    "f = pybel.readfile('pdbqt',in_full_path)\n",
    "mol = f.__next__()\n",
    "print(mol.write(\"sdf\", 'mol1.sdf',overwrite=True))\n",
    "print(mol.write(\"smiles\", 'mol1.smi', overwrite=True))\n",
    "f.close()\n",
    "\n",
    "# _cal_single_fingerprint(dir_path, file_id, 'smiles')"
   ],
   "metadata": {
    "collapsed": false,
    "pycharm": {
     "name": "#%%\n"
    }
   }
  },
  {
   "cell_type": "code",
   "execution_count": 12,
   "outputs": [
    {
     "name": "stdout",
     "output_type": "stream",
     "text": [
      "None\n",
      "None\n"
     ]
    }
   ],
   "source": [
    "from rdkit import Chem\n",
    "sup = Chem.SDMolSupplier(\"mol1.sdf\")\n",
    "sup = Chem.SmilesMolSupplier(\"mol1.smi\", titleLine=1, smilesColumn=1 )\n",
    "mol = sup.__next__()\n",
    "mol"
   ],
   "metadata": {
    "collapsed": false,
    "pycharm": {
     "name": "#%%\n"
    }
   }
  },
  {
   "cell_type": "code",
   "execution_count": 1,
   "outputs": [
    {
     "ename": "RuntimeError",
     "evalue": "File parsing error: ERROR: Index error (idx = 0): ran out of lines\n",
     "output_type": "error",
     "traceback": [
      "\u001B[1;31m---------------------------------------------------------------------------\u001B[0m",
      "\u001B[1;31mRuntimeError\u001B[0m                              Traceback (most recent call last)",
      "\u001B[1;32m<ipython-input-1-8a2b3066880d>\u001B[0m in \u001B[0;36m<module>\u001B[1;34m\u001B[0m\n\u001B[0;32m      2\u001B[0m \u001B[0msup\u001B[0m \u001B[1;33m=\u001B[0m \u001B[0mChem\u001B[0m\u001B[1;33m.\u001B[0m\u001B[0mSDMolSupplier\u001B[0m\u001B[1;33m(\u001B[0m\u001B[1;34m\"mol1.sdf\"\u001B[0m\u001B[1;33m)\u001B[0m\u001B[1;33m\u001B[0m\u001B[1;33m\u001B[0m\u001B[0m\n\u001B[0;32m      3\u001B[0m \u001B[0msup\u001B[0m \u001B[1;33m=\u001B[0m \u001B[0mChem\u001B[0m\u001B[1;33m.\u001B[0m\u001B[0mSmilesMolSupplier\u001B[0m\u001B[1;33m(\u001B[0m\u001B[1;34m\"mol1.smi\"\u001B[0m\u001B[1;33m,\u001B[0m \u001B[0mtitleLine\u001B[0m\u001B[1;33m=\u001B[0m\u001B[1;36m1\u001B[0m\u001B[1;33m,\u001B[0m \u001B[0msmilesColumn\u001B[0m\u001B[1;33m=\u001B[0m\u001B[1;36m1\u001B[0m \u001B[1;33m)\u001B[0m\u001B[1;33m\u001B[0m\u001B[1;33m\u001B[0m\u001B[0m\n\u001B[1;32m----> 4\u001B[1;33m \u001B[0mmol\u001B[0m \u001B[1;33m=\u001B[0m \u001B[0msup\u001B[0m\u001B[1;33m.\u001B[0m\u001B[0m__next__\u001B[0m\u001B[1;33m(\u001B[0m\u001B[1;33m)\u001B[0m\u001B[1;33m\u001B[0m\u001B[1;33m\u001B[0m\u001B[0m\n\u001B[0m\u001B[0;32m      5\u001B[0m \u001B[0mmol\u001B[0m\u001B[1;33m\u001B[0m\u001B[1;33m\u001B[0m\u001B[0m\n",
      "\u001B[1;31mRuntimeError\u001B[0m: File parsing error: ERROR: Index error (idx = 0): ran out of lines\n"
     ]
    }
   ],
   "source": [
    "from scripts.rdkit2pdbqt import MolFromPDBQTBlock,MolToPDBQTBlock\n",
    "\n",
    "MolToPDBQTBlock(mol)\n",
    "with open(\"tmpbqzs_1_d/AABCAF/00000/Z1692919946_1_T1.pdbqt\") as f:\n",
    "    mol = MolFromPDBQTBlock(f.read())\n",
    "mol"
   ],
   "metadata": {
    "collapsed": false,
    "pycharm": {
     "name": "#%%\n"
    }
   }
  },
  {
   "cell_type": "code",
   "execution_count": 10,
   "outputs": [
    {
     "data": {
      "text/plain": "<rdkit.Chem.rdchem.Mol at 0x17841caf260>",
      "image/png": "[encoded data removed]"
     },
     "execution_count": 10,
     "metadata": {},
     "output_type": "execute_result"
    }
   ],
   "source": [
    "import os\n",
    "from openbabel import pybel\n",
    "from rdkit import Chem\n",
    "\n",
    "f = pybel.readfile('smiles','mo2.smiles')\n",
    "smi_str = f.__next__().write().split('\\t')[0]\n",
    "mol = Chem.MolFromSmiles(smi_str)\n",
    "\n",
    "base64 = mol\n",
    "# base64[0]\n",
    "base64"
   ],
   "metadata": {
    "collapsed": false,
    "pycharm": {
     "name": "#%%\n"
    }
   }
  },
  {
   "cell_type": "code",
   "execution_count": 14,
   "outputs": [
    {
     "data": {
      "text/plain": "<rdkit.Chem.rdchem.Mol at 0x137849fd8a0>",
      "image/png": "[encoded data removed]"
     },
     "execution_count": 14,
     "metadata": {},
     "output_type": "execute_result"
    }
   ],
   "source": [
    "# smi_str\n",
    "Chem.SmilesMolSupplierFromText('CO')\n"
   ],
   "metadata": {
    "collapsed": false,
    "pycharm": {
     "name": "#%%\n"
    }
   }
  },
  {
   "cell_type": "markdown",
   "source": [
    "那么上面这段就说明，pybel造的格式只有自己看得懂，SmilesMolSupplier看不懂，那么就用pybel的read，然后转为smiles字符串读取。\n",
    "2022年7月8日15:19:25 smiles转换失败率太高了..."
   ],
   "metadata": {
    "collapsed": false,
    "pycharm": {
     "name": "#%% md\n"
    }
   }
  },
  {
   "cell_type": "markdown",
   "source": [
    "删除output"
   ],
   "metadata": {
    "collapsed": false,
    "pycharm": {
     "name": "#%% md\n"
    }
   }
  },
  {
   "cell_type": "code",
   "source": [
    "import shutil\n",
    "\n",
    "out_dir = './debug/output'\n",
    "shutil.rmtree(out_dir, ignore_errors=True)"
   ],
   "metadata": {
    "collapsed": false,
    "pycharm": {
     "name": "#%%\n"
    }
   },
   "execution_count": null,
   "outputs": []
  },
  {
   "cell_type": "markdown",
   "source": [
    "下面这几段，发现有些没转化成功的就是因为坐标重合了，或者是直接是空的\n",
    "3w个里有差不多30个左右吧"
   ],
   "metadata": {
    "collapsed": false,
    "pycharm": {
     "name": "#%% md\n"
    }
   }
  },
  {
   "cell_type": "code",
   "execution_count": 37,
   "outputs": [],
   "source": [
    "import  glob\n",
    "import pandas as pd\n",
    "df_fp = pd.DataFrame([os.path.splitext(os.path.basename(i))[0] for i in glob.glob('./debug/output/*.fp')])\n",
    "df_pdbqt = pd.DataFrame([os.path.splitext(os.path.basename(i))[0] for i in glob.glob(r'./tmp626uhmgx/**/*.pdbqt', recursive=True)])"
   ],
   "metadata": {
    "collapsed": false,
    "pycharm": {
     "name": "#%%\n"
    }
   }
  },
  {
   "cell_type": "code",
   "execution_count": 60,
   "outputs": [
    {
     "name": "stdout",
     "output_type": "stream",
     "text": [
      "\n",
      "REMARK    Small molecule (ligand)\n",
      "REMARK    Compound: Z2916152125_3_T1\n",
      "REMARK    SMILES: CN1C[C@@H]2CC[C@@H](C1)N2C(=O)C(N)=O\n",
      "REMARK    The ligand was originally not a salt, therefore no desalting was carried out.\n",
      "REMARK    The tautomeric state was generated by cxcalc version 18.20.0 of ChemAxons JChem Suite.\n",
      "REMARK    Protonation state was generated at pH 7.4 by cxcalc version 18.20.0 of ChemAxons JChem Suite.\n",
      "REMARK    Generation of the 3D conformation was carried out by Open Babel version 2.4.1\n",
      "REMARK    Generation of the the target format file (pdbqt) was carried out by Open Babel version 2.4.1.\n",
      "REMARK    Created on Sun Nov  4 17:42:55 EST 2018\n",
      "REMARK  4 active torsions:\n",
      "REMARK  status: ('A' for Active; 'I' for Inactive)\n",
      "REMARK    1  A    between atoms: _1  and  _2\n",
      "REMARK    2  A    between atoms: _11  and  _12\n",
      "REMARK    3  A    between atoms: _12  and  _14\n",
      "REMARK    4  A    between atoms: _14  and  _15\n",
      "REMARK                            x       y       z     vdW  Elec       q    Type\n",
      "REMARK                         _______ _______ _______ _____ _____    ______ ____\n",
      "ROOT\n",
      "ATOM      1  C   LIG     1      -0.886  -0.010  -0.366  0.00  0.00    +0.105 C \n",
      "ATOM      2  N   LIG     1      -0.886  -0.010  -0.366  0.00  0.00    -0.302 NA\n",
      "ATOM      3  C   LIG     1      -0.886  -0.010  -0.366  0.00  0.00    +0.103 C \n",
      "ATOM      4  C   LIG     1      -0.886  -0.010  -0.366  0.00  0.00    +0.074 C \n",
      "ATOM      5  N   LIG     1      -0.903  -0.010   1.067  0.00  0.00    -0.257 NA\n",
      "ATOM      6  C   LIG     1      -0.886  -0.010  -0.366  0.00  0.00    +0.074 C \n",
      "ATOM      7  C   LIG     1      -0.886  -0.010  -0.366  0.00  0.00    +0.022 C \n",
      "ATOM      8  C   LIG     1      -0.886  -0.010  -0.366  0.00  0.00    +0.022 C \n",
      "ATOM      9  C   LIG     1      -0.886  -0.010  -0.366  0.00  0.00    +0.103 C \n",
      "ENDROOT\n",
      "BRANCH   5  10\n",
      "ATOM     10  C   LIG     1      -0.886  -0.010  -0.366  0.00  0.00    +0.258 C \n",
      "ATOM     11  O   LIG     1       1.153   0.110   0.751  0.00  0.00    -0.201 OA\n",
      "BRANCH  10  12\n",
      "ATOM     12  C   LIG     1       2.065   0.599   0.362  0.00  0.00    +0.253 C \n",
      "ATOM     13  O   LIG     1       2.414   1.634   0.214  0.00  0.00    -0.201 OA\n",
      "BRANCH  12  14\n",
      "ATOM     14  N   LIG     1       0.772   0.765  -0.130  0.00  0.00    -0.293 NA\n",
      "ATOM     15  H   LIG     1      -1.367   1.095  -0.414  0.00  0.00    +0.121 HD\n",
      "ATOM     16  H   LIG     1      -1.183  -0.939  -0.672  0.00  0.00    +0.121 HD\n",
      "ENDBRANCH  12  14\n",
      "ENDBRANCH  10  12\n",
      "ENDBRANCH   5  10\n",
      "TORSDOF 3\n",
      "\n",
      "REMARK    Small molecule (ligand)\n",
      "REMARK    Compound: Z2173929911_2_T1\n",
      "REMARK    SMILES: OC[C@]12C[C@@H]1CN(C2)C(=O)C(O)=O\n",
      "REMARK    The ligand was originally not a salt, therefore no desalting was carried out.\n",
      "REMARK    The tautomeric state was generated by cxcalc version 18.20.0 of ChemAxons JChem Suite.\n",
      "REMARK    Protonation state was generated at pH 7.4 by cxcalc version 18.20.0 of ChemAxons JChem Suite.\n",
      "REMARK    Generation of the 3D conformation was carried out by Open Babel version 2.4.1\n",
      "REMARK    Generation of the the target format file (pdbqt) was carried out by Open Babel version 2.4.1.\n",
      "REMARK    Created on Sun Nov  4 18:25:49 EST 2018\n",
      "REMARK  5 active torsions:\n",
      "REMARK  status: ('A' for Active; 'I' for Inactive)\n",
      "REMARK    1  A    between atoms: _1  and  _2\n",
      "REMARK    2  A    between atoms: _2  and  _3\n",
      "REMARK    3  A    between atoms: _8  and  _10\n",
      "REMARK    4  A    between atoms: _10  and  _12\n",
      "REMARK    5  A    between atoms: _12  and  _13\n",
      "REMARK                            x       y       z     vdW  Elec       q    Type\n",
      "REMARK                         _______ _______ _______ _____ _____    ______ ____\n",
      "ROOT\n",
      "ATOM      1  C   LIG     1      -0.130  -0.643  -0.015  0.00  0.00    +0.011 C \n",
      "ATOM      2  C   LIG     1      -0.130  -0.643  -0.015  0.00  0.00    +0.097 C \n",
      "ATOM      3  N   LIG     1      -0.130  -0.643  -0.015  0.00  0.00    -0.263 NA\n",
      "ATOM      4  C   LIG     1      -0.130  -0.643  -0.015  0.00  0.00    +0.091 C \n",
      "ATOM      5  C   LIG     1      -0.130  -0.643  -0.015  0.00  0.00    +0.013 C \n",
      "ATOM      6  C   LIG     1      -0.130  -0.643  -0.015  0.00  0.00    +0.016 C \n",
      "ENDROOT\n",
      "BRANCH   3   7\n",
      "ATOM      7  C   LIG     1      -0.130  -0.643  -0.015  0.00  0.00    +0.271 C \n",
      "ATOM      8  O   LIG     1      -0.131  -0.645   1.505  0.00  0.00    -0.199 OA\n",
      "BRANCH   7   9\n",
      "ATOM      9  C   LIG     1      -0.130  -0.643  -0.015  0.00  0.00    +0.312 C \n",
      "ATOM     10  O   LIG     1      -0.589  -2.841   0.263  0.00  0.00    -0.186 OA\n",
      "BRANCH   9  11\n",
      "ATOM     11  O   LIG     1      -0.753  -3.884   0.529  0.00  0.00    -0.355 OA\n",
      "ATOM     12  H   LIG     1      -0.547  -4.404   1.371  0.00  0.00    +0.213 HD\n",
      "ENDBRANCH   9  11\n",
      "ENDBRANCH   7   9\n",
      "ENDBRANCH   3   7\n",
      "BRANCH   1  13\n",
      "ATOM     13  C   LIG     1      -0.130  -0.643  -0.015  0.00  0.00    +0.164 C \n",
      "BRANCH  13  14\n",
      "ATOM     14  O   LIG     1      -0.130  -0.643  -0.015  0.00  0.00    -0.394 OA\n",
      "ATOM     15  H   LIG     1      -0.065  -0.321  -0.008  0.00  0.00    +0.209 HD\n",
      "ENDBRANCH  13  14\n",
      "ENDBRANCH   1  13\n",
      "TORSDOF 5\n",
      "\n",
      "REMARK    Small molecule (ligand)\n",
      "REMARK    Compound: Z2920307585_2_T1\n",
      "REMARK    SMILES: C[C@H](O)C(=O)N1C[C@H]2C[C@]2(O)C1\n",
      "REMARK    The ligand was originally not a salt, therefore no desalting was carried out.\n",
      "REMARK    The tautomeric state was generated by cxcalc version 18.20.0 of ChemAxons JChem Suite.\n",
      "REMARK    Protonation state was generated at pH 7.4 by cxcalc version 18.20.0 of ChemAxons JChem Suite.\n",
      "REMARK    Generation of the 3D conformation was carried out by Open Babel version 2.4.1\n",
      "REMARK    Generation of the the target format file (pdbqt) was carried out by Open Babel version 2.4.1.\n",
      "REMARK    Created on Sun Nov  4 18:05:42 EST 2018\n",
      "REMARK  5 active torsions:\n",
      "REMARK  status: ('A' for Active; 'I' for Inactive)\n",
      "REMARK    1  A    between atoms: _1  and  _2\n",
      "REMARK    2  A    between atoms: _2  and  _4\n",
      "REMARK    3  A    between atoms: _2  and  _5\n",
      "REMARK    4  A    between atoms: _5  and  _7\n",
      "REMARK    5  A    between atoms: _12  and  _13\n",
      "REMARK                            x       y       z     vdW  Elec       q    Type\n",
      "REMARK                         _______ _______ _______ _____ _____    ______ ____\n",
      "ROOT\n",
      "ATOM      1  N   LIG     1      -0.837  -0.441  -0.107  0.00  0.00    -0.264 NA\n",
      "ATOM      2  C   LIG     1       1.252   0.247   0.854  0.00  0.00    +0.122 C \n",
      "ATOM      3  C   LIG     1      -0.837  -0.441  -0.107  0.00  0.00    +0.083 C \n",
      "ATOM      4  C   LIG     1      -0.697  -0.366   1.686  0.00  0.00    +0.044 C \n",
      "ATOM      5  C   LIG     1      -0.837  -0.441  -0.107  0.00  0.00    +0.039 C \n",
      "ATOM      6  C   LIG     1      -0.837  -0.441  -0.107  0.00  0.00    +0.094 C \n",
      "ENDROOT\n",
      "BRANCH   1   7\n",
      "ATOM      7  C   LIG     1      -0.837  -0.441  -0.107  0.00  0.00    +0.231 C \n",
      "ATOM      8  O   LIG     1      -0.837  -0.441  -0.107  0.00  0.00    -0.203 OA\n",
      "BRANCH   7  10\n",
      "ATOM      9  C   LIG     1      -0.837  -0.441  -0.107  0.00  0.00    +0.042 C \n",
      "ATOM     10  C   LIG     1      -0.837  -0.441  -0.107  0.00  0.00    +0.166 C \n",
      "BRANCH  10  11\n",
      "ATOM     11  O   LIG     1      -0.837  -0.441  -0.107  0.00  0.00    -0.388 OA\n",
      "ATOM     12  H   LIG     1      -1.675  -0.882  -0.214  0.00  0.00    +0.210 HD\n",
      "ENDBRANCH  10  11\n",
      "ENDBRANCH   7  10\n",
      "ENDBRANCH   1   7\n",
      "BRANCH   3  13\n",
      "ATOM     13  O   LIG     1       1.322   1.158  -1.121  0.00  0.00    -0.387 OA\n",
      "ATOM     14  H   LIG     1       3.109   1.856  -0.335  0.00  0.00    +0.210 HD\n",
      "ENDBRANCH   3  13\n",
      "TORSDOF 4\n",
      "\n",
      "REMARK    Small molecule (ligand)\n",
      "REMARK    Compound: Z2801459431_4_T1\n",
      "REMARK    SMILES: NC(=O)C(=O)N1[C@H]2CC[C@H]1[C@H](CO)C2\n",
      "REMARK    The ligand was originally not a salt, therefore no desalting was carried out.\n",
      "REMARK    The tautomeric state was generated by cxcalc version 18.20.0 of ChemAxons JChem Suite.\n",
      "REMARK    Protonation state was generated at pH 7.4 by cxcalc version 18.20.0 of ChemAxons JChem Suite.\n",
      "REMARK    Generation of the 3D conformation was carried out by Open Babel version 2.4.1\n",
      "REMARK    Generation of the the target format file (pdbqt) was carried out by Open Babel version 2.4.1.\n",
      "REMARK    Created on Sun Nov  4 18:37:39 EST 2018\n",
      "REMARK  5 active torsions:\n",
      "REMARK  status: ('A' for Active; 'I' for Inactive)\n",
      "REMARK    1  A    between atoms: _1  and  _2\n",
      "REMARK    2  A    between atoms: _2  and  _4\n",
      "REMARK    3  A    between atoms: _4  and  _6\n",
      "REMARK    4  A    between atoms: _13  and  _15\n",
      "REMARK    5  A    between atoms: _15  and  _16\n",
      "REMARK                            x       y       z     vdW  Elec       q    Type\n",
      "REMARK                         _______ _______ _______ _____ _____    ______ ____\n",
      "ROOT\n",
      "ATOM      1  N   LIG     1       0.000   0.000   0.058  0.00  0.00    -0.259 NA\n",
      "ATOM      2  C   LIG     1       0.000   0.000   0.058  0.00  0.00    +0.065 C \n",
      "ATOM      3  C   LIG     1       0.000   0.000   0.058  0.00  0.00    +0.033 C \n",
      "ATOM      4  C   LIG     1       0.000   0.000  -1.048  0.00  0.00    +0.026 C \n",
      "ATOM      5  C   LIG     1       0.000   0.000   0.058  0.00  0.00    +0.021 C \n",
      "ATOM      6  C   LIG     1       0.000   0.000   0.058  0.00  0.00    +0.020 C \n",
      "ATOM      7  C   LIG     1       0.000   0.000   0.058  0.00  0.00    +0.060 C \n",
      "ENDROOT\n",
      "BRANCH   1   8\n",
      "ATOM      8  C   LIG     1       0.000   0.000   0.058  0.00  0.00    +0.258 C \n",
      "ATOM      9  O   LIG     1       0.000   0.000   0.058  0.00  0.00    -0.201 OA\n",
      "BRANCH   8  10\n",
      "ATOM     10  C   LIG     1       0.000   0.000   0.058  0.00  0.00    +0.253 C \n",
      "ATOM     11  O   LIG     1       0.000   0.000   0.058  0.00  0.00    -0.201 OA\n",
      "BRANCH  10  12\n",
      "ATOM     12  N   LIG     1       0.000   0.000   0.058  0.00  0.00    -0.293 NA\n",
      "ATOM     13  H   LIG     1       0.000   0.000   1.156  0.00  0.00    +0.121 HD\n",
      "ATOM     14  H   LIG     1       0.000   0.000   1.156  0.00  0.00    +0.121 HD\n",
      "ENDBRANCH  10  12\n",
      "ENDBRANCH   8  10\n",
      "ENDBRANCH   1   8\n",
      "BRANCH   3  15\n",
      "ATOM     15  C   LIG     1       0.000   0.000   0.058  0.00  0.00    +0.161 C \n",
      "BRANCH  15  16\n",
      "ATOM     16  O   LIG     1       0.000   0.000   0.058  0.00  0.00    -0.395 OA\n",
      "ATOM     17  H   LIG     1       0.000   0.000   0.073  0.00  0.00    +0.209 HD\n",
      "ENDBRANCH  15  16\n",
      "ENDBRANCH   3  15\n",
      "TORSDOF 5\n",
      "\n",
      "REMARK    Small molecule (ligand)\n",
      "REMARK    Compound: Z3137795513_1_T1\n",
      "REMARK    SMILES: N[C@H]1C[C@@H]2C[C@@H](C1)N(C2)C(=O)C(N)=O\n",
      "REMARK    The ligand was originally not a salt, therefore no desalting was carried out.\n",
      "REMARK    The tautomeric state was generated by cxcalc version 18.20.0 of ChemAxons JChem Suite.\n",
      "REMARK    Protonation state was generated at pH 7.4 by cxcalc version 18.20.0 of ChemAxons JChem Suite.\n",
      "REMARK    Generation of the 3D conformation was carried out by Open Babel version 2.4.1\n",
      "REMARK    Generation of the the target format file (pdbqt) was carried out by Open Babel version 2.4.1.\n",
      "REMARK    Created on Sun Nov  4 18:29:20 EST 2018\n",
      "REMARK  4 active torsions:\n",
      "REMARK  status: ('A' for Active; 'I' for Inactive)\n",
      "REMARK    1  A    between atoms: _1  and  _2\n",
      "REMARK    2  A    between atoms: _11  and  _13\n",
      "REMARK    3  A    between atoms: _13  and  _15\n",
      "REMARK    4  A    between atoms: _15  and  _16\n",
      "REMARK                            x       y       z     vdW  Elec       q    Type\n",
      "REMARK                         _______ _______ _______ _____ _____    ______ ____\n",
      "ROOT\n",
      "ATOM      1  C   LIG     1      -0.226   0.023  -0.234  0.00  0.00    +0.052 C \n",
      "ATOM      2  C   LIG     1      -0.226   0.023  -0.234  0.00  0.00    +0.037 C \n",
      "ATOM      3  C   LIG     1      -0.226   0.023  -0.234  0.00  0.00    +0.061 C \n",
      "ATOM      4  N   LIG     1      -0.226   0.023  -0.234  0.00  0.00    -0.262 NA\n",
      "ATOM      5  C   LIG     1      -0.226   0.023  -0.234  0.00  0.00    +0.091 C \n",
      "ATOM      6  C   LIG     1      -0.226   0.023  -0.234  0.00  0.00    +0.006 C \n",
      "ATOM      7  C   LIG     1      -0.226   0.023  -0.234  0.00  0.00    +0.024 C \n",
      "ATOM      8  C   LIG     1      -0.226   0.023  -0.234  0.00  0.00    +0.023 C \n",
      "ENDROOT\n",
      "BRANCH   1   9\n",
      "ATOM      9  N   LIG     1      -0.226   0.023  -0.234  0.00  0.00    -0.327 NA\n",
      "ATOM     10  H   LIG     1       0.000   0.000   0.000  0.00  0.00    +0.118 HD\n",
      "ATOM     11  H   LIG     1       0.000   0.000   0.000  0.00  0.00    +0.118 HD\n",
      "ENDBRANCH   1   9\n",
      "BRANCH   4  12\n",
      "ATOM     12  C   LIG     1      -0.226   0.023  -0.234  0.00  0.00    +0.258 C \n",
      "ATOM     13  O   LIG     1      -0.255   2.328  -0.264  0.00  0.00    -0.201 OA\n",
      "BRANCH  12  14\n",
      "ATOM     14  C   LIG     1       0.995  -0.194   1.030  0.00  0.00    +0.253 C \n",
      "ATOM     15  O   LIG     1      -0.226   0.023  -0.234  0.00  0.00    -0.201 OA\n",
      "BRANCH  14  16\n",
      "ATOM     16  N   LIG     1      -0.226   0.023  -0.234  0.00  0.00    -0.293 NA\n",
      "ATOM     17  H   LIG     1      -0.626   1.207  -0.652  0.00  0.00    +0.121 HD\n",
      "ATOM     18  H   LIG     1      -0.836  -1.125  -0.862  0.00  0.00    +0.121 HD\n",
      "ENDBRANCH  14  16\n",
      "ENDBRANCH  12  14\n",
      "ENDBRANCH   4  12\n",
      "TORSDOF 4\n",
      "\n",
      "REMARK    Small molecule (ligand)\n",
      "REMARK    Compound: Z2772959294_3_T1\n",
      "REMARK    SMILES: NC(=O)CN1C[C@@H]2CC[C@@H](C1)N2\n",
      "REMARK    The ligand was originally not a salt, therefore no desalting was carried out.\n",
      "REMARK    The tautomeric state was generated by cxcalc version 18.20.0 of ChemAxons JChem Suite.\n",
      "REMARK    Protonation state was generated at pH 7.4 by cxcalc version 18.20.0 of ChemAxons JChem Suite.\n",
      "REMARK    Generation of the 3D conformation was carried out by Open Babel version 2.4.1\n",
      "REMARK    Generation of the the target format file (pdbqt) was carried out by Open Babel version 2.4.1.\n",
      "REMARK    Created on Sun Nov  4 18:44:11 EST 2018\n",
      "REMARK  3 active torsions:\n",
      "REMARK  status: ('A' for Active; 'I' for Inactive)\n",
      "REMARK    1  A    between atoms: _1  and  _2\n",
      "REMARK    2  A    between atoms: _2  and  _4\n",
      "REMARK    3  A    between atoms: _4  and  _5\n",
      "REMARK                            x       y       z     vdW  Elec       q    Type\n",
      "REMARK                         _______ _______ _______ _____ _____    ______ ____\n",
      "ROOT\n",
      "ATOM      1  N   LIG     1       0.000   0.000   0.000  0.00  0.00    -0.295 NA\n",
      "ATOM      2  C   LIG     1       0.000   0.000   0.000  0.00  0.00    +0.103 C \n",
      "ATOM      3  C   LIG     1       0.000   0.000   0.000  0.00  0.00    +0.068 C \n",
      "ATOM      4  N   LIG     1       0.000   0.000   1.042  0.00  0.00    -0.308 NA\n",
      "ATOM      5  H   LIG     1       0.000   0.000   0.000  0.00  0.00    +0.123 HD\n",
      "ATOM      6  C   LIG     1       0.000   0.000   0.000  0.00  0.00    +0.068 C \n",
      "ATOM      7  C   LIG     1       0.000   0.000   0.000  0.00  0.00    +0.021 C \n",
      "ATOM      8  C   LIG     1       0.000   0.000   0.000  0.00  0.00    +0.021 C \n",
      "ATOM      9  C   LIG     1       0.000   0.000   0.000  0.00  0.00    +0.103 C \n",
      "ENDROOT\n",
      "BRANCH   1  10\n",
      "ATOM     10  C   LIG     1       0.000   0.000   0.000  0.00  0.00    +0.143 C \n",
      "BRANCH  10  11\n",
      "ATOM     11  C   LIG     1       0.000   0.000   0.000  0.00  0.00    +0.212 C \n",
      "ATOM     12  O   LIG     1       0.000   0.000   0.000  0.00  0.00    -0.205 OA\n",
      "BRANCH  11  13\n",
      "ATOM     13  N   LIG     1       0.000   0.000   0.000  0.00  0.00    -0.296 NA\n",
      "ATOM     14  H   LIG     1       0.000   0.001   0.464  0.00  0.00    +0.121 HD\n",
      "ATOM     15  H   LIG     1       0.000  -0.001   0.464  0.00  0.00    +0.121 HD\n",
      "ENDBRANCH  11  13\n",
      "ENDBRANCH  10  11\n",
      "ENDBRANCH   1  10\n",
      "TORSDOF 3\n",
      "\n",
      "REMARK    Small molecule (ligand)\n",
      "REMARK    Compound: Z2843053941_2_T1\n",
      "REMARK    SMILES: CNC(=O)CN1C[C@H]2C[C@]2(O)C1\n",
      "REMARK    The ligand was originally not a salt, therefore no desalting was carried out.\n",
      "REMARK    The tautomeric state was generated by cxcalc version 18.20.0 of ChemAxons JChem Suite.\n",
      "REMARK    Protonation state was generated at pH 7.4 by cxcalc version 18.20.0 of ChemAxons JChem Suite.\n",
      "REMARK    Generation of the 3D conformation was carried out by Open Babel version 2.4.1\n",
      "REMARK    Generation of the the target format file (pdbqt) was carried out by Open Babel version 2.4.1.\n",
      "REMARK    Created on Sun Nov  4 18:43:46 EST 2018\n",
      "REMARK  5 active torsions:\n",
      "REMARK  status: ('A' for Active; 'I' for Inactive)\n",
      "REMARK    1  A    between atoms: _1  and  _2\n",
      "REMARK    2  A    between atoms: _2  and  _3\n",
      "REMARK    3  A    between atoms: _3  and  _5\n",
      "REMARK    4  A    between atoms: _5  and  _6\n",
      "REMARK    5  A    between atoms: _11  and  _12\n",
      "REMARK                            x       y       z     vdW  Elec       q    Type\n",
      "REMARK                         _______ _______ _______ _____ _____    ______ ____\n",
      "ROOT\n",
      "ATOM      1  N   LIG     1       0.000   0.000  -0.003  0.00  0.00    -0.295 NA\n",
      "ATOM      2  C   LIG     1      -0.026   0.467   1.562  0.00  0.00    +0.119 C \n",
      "ATOM      3  C   LIG     1       0.000   0.000  -0.003  0.00  0.00    +0.083 C \n",
      "ATOM      4  C   LIG     1       0.000   0.000  -0.003  0.00  0.00    +0.044 C \n",
      "ATOM      5  C   LIG     1       0.000   0.000  -0.003  0.00  0.00    +0.039 C \n",
      "ATOM      6  C   LIG     1       0.000   0.000  -0.003  0.00  0.00    +0.091 C \n",
      "ENDROOT\n",
      "BRANCH   3   7\n",
      "ATOM      7  O   LIG     1       0.000   0.000  -0.003  0.00  0.00    -0.387 OA\n",
      "ATOM      8  H   LIG     1       0.000   0.000   0.000  0.00  0.00    +0.210 HD\n",
      "ENDBRANCH   3   7\n",
      "BRANCH   1   9\n",
      "ATOM      9  C   LIG     1       0.000   0.000  -0.003  0.00  0.00    +0.143 C \n",
      "BRANCH   9  10\n",
      "ATOM     10  C   LIG     1       0.000   0.000  -0.003  0.00  0.00    +0.214 C \n",
      "ATOM     11  O   LIG     1       0.000   0.000  -0.003  0.00  0.00    -0.204 OA\n",
      "BRANCH  10  13\n",
      "ATOM     12  C   LIG     1       0.000   0.000  -0.003  0.00  0.00    +0.104 C \n",
      "ATOM     13  N   LIG     1       0.000   0.000  -0.003  0.00  0.00    -0.285 NA\n",
      "ATOM     14  H   LIG     1       0.000   0.000  -0.005  0.00  0.00    +0.125 HD\n",
      "ENDBRANCH  10  13\n",
      "ENDBRANCH   9  10\n",
      "ENDBRANCH   1   9\n",
      "TORSDOF 4\n",
      "\n",
      "REMARK    Small molecule (ligand)\n",
      "REMARK    Compound: Z2843053632_6_T1\n",
      "REMARK    SMILES: C[C@H](N1C[C@@H]2C[C@@]2(O)C1)C(N)=O\n",
      "REMARK    The ligand was originally not a salt, therefore no desalting was carried out.\n",
      "REMARK    The tautomeric state was generated by cxcalc version 18.20.0 of ChemAxons JChem Suite.\n",
      "REMARK    Protonation state was generated at pH 7.4 by cxcalc version 18.20.0 of ChemAxons JChem Suite.\n",
      "REMARK    Generation of the 3D conformation was carried out by Open Babel version 2.4.1\n",
      "REMARK    Generation of the the target format file (pdbqt) was carried out by Open Babel version 2.4.1.\n",
      "REMARK    Created on Sun Nov  4 19:22:13 EST 2018\n",
      "REMARK  5 active torsions:\n",
      "REMARK  status: ('A' for Active; 'I' for Inactive)\n",
      "REMARK    1  A    between atoms: _1  and  _2\n",
      "REMARK    2  A    between atoms: _2  and  _4\n",
      "REMARK    3  A    between atoms: _2  and  _12\n",
      "REMARK    4  A    between atoms: _9  and  _10\n",
      "REMARK    5  A    between atoms: _12  and  _13\n",
      "REMARK                            x       y       z     vdW  Elec       q    Type\n",
      "REMARK                         _______ _______ _______ _____ _____    ______ ____\n",
      "ROOT\n",
      "ATOM      1  N   LIG     1       0.000   0.100  -0.070  0.00  0.00    -0.292 NA\n",
      "ATOM      2  C   LIG     1       0.000   0.100  -0.070  0.00  0.00    +0.119 C \n",
      "ATOM      3  C   LIG     1       0.000   0.100  -0.070  0.00  0.00    +0.083 C \n",
      "ATOM      4  C   LIG     1       0.000   0.100  -0.070  0.00  0.00    +0.044 C \n",
      "ATOM      5  C   LIG     1       0.000   0.100  -0.070  0.00  0.00    +0.039 C \n",
      "ATOM      6  C   LIG     1       0.000   0.100  -0.070  0.00  0.00    +0.091 C \n",
      "ENDROOT\n",
      "BRANCH   1   8\n",
      "ATOM      7  C   LIG     1       0.000   0.100  -0.070  0.00  0.00    +0.029 C \n",
      "ATOM      8  C   LIG     1       0.000   0.100  -0.070  0.00  0.00    +0.108 C \n",
      "BRANCH   8   9\n",
      "ATOM      9  C   LIG     1       0.000   0.100  -0.070  0.00  0.00    +0.215 C \n",
      "ATOM     10  O   LIG     1       0.000   1.505  -1.055  0.00  0.00    -0.204 OA\n",
      "BRANCH   9  11\n",
      "ATOM     11  N   LIG     1       0.000   0.100  -0.070  0.00  0.00    -0.296 NA\n",
      "ATOM     12  H   LIG     1       0.000   1.038  -0.727  0.00  0.00    +0.121 HD\n",
      "ATOM     13  H   LIG     1       0.000   1.038  -0.727  0.00  0.00    +0.121 HD\n",
      "ENDBRANCH   9  11\n",
      "ENDBRANCH   8   9\n",
      "ENDBRANCH   1   8\n",
      "BRANCH   3  14\n",
      "ATOM     14  O   LIG     1       0.000   0.100  -0.070  0.00  0.00    -0.387 OA\n",
      "ATOM     15  H   LIG     1       0.000   0.000   0.000  0.00  0.00    +0.210 HD\n",
      "ENDBRANCH   3  14\n",
      "TORSDOF 4\n",
      "\n",
      "REMARK    Small molecule (ligand)\n",
      "REMARK    Compound: Z2827197829_8_T1\n",
      "REMARK    SMILES: O=C(N[C@H]1[C@@H]2C[C@@H]1NC2)[C@H]1CCN1\n",
      "REMARK    The ligand was originally not a salt, therefore no desalting was carried out.\n",
      "REMARK    The tautomeric state was generated by cxcalc version 18.20.0 of ChemAxons JChem Suite.\n",
      "REMARK    Protonation state was generated at pH 7.4 by cxcalc version 18.20.0 of ChemAxons JChem Suite.\n",
      "REMARK    Generation of the 3D conformation was carried out by Open Babel version 2.4.1\n",
      "REMARK    Generation of the the target format file (pdbqt) was carried out by Open Babel version 2.4.1.\n",
      "REMARK    Created on Sun Nov  4 19:55:37 EST 2018\n",
      "REMARK  3 active torsions:\n",
      "REMARK  status: ('A' for Active; 'I' for Inactive)\n",
      "REMARK    1  A    between atoms: _2  and  _3\n",
      "REMARK    2  A    between atoms: _2  and  _13\n",
      "REMARK    3  A    between atoms: _3  and  _4\n",
      "REMARK                            x       y       z     vdW  Elec       q    Type\n",
      "REMARK                         _______ _______ _______ _____ _____    ______ ____\n",
      "ROOT\n",
      "ATOM      1  N   LIG     1       0.000   0.000   0.000  0.00  0.00    -0.277 NA\n",
      "ATOM      2  H   LIG     1       0.000   0.000   0.797  0.00  0.00    +0.125 HD\n",
      "ENDROOT\n",
      "BRANCH   1   3\n",
      "ATOM      3  C   LIG     1       0.000   0.000   0.000  0.00  0.00    +0.078 C \n",
      "ATOM      4  C   LIG     1       0.000   0.000   0.000  0.00  0.00    +0.071 C \n",
      "ATOM      5  N   LIG     1       0.000   0.000   0.000  0.00  0.00    -0.311 NA\n",
      "ATOM      6  H   LIG     1       0.000   0.000   0.000  0.00  0.00    +0.122 HD\n",
      "ATOM      7  C   LIG     1       0.000   0.000   0.000  0.00  0.00    +0.086 C \n",
      "ATOM      8  C   LIG     1       0.000   0.000   0.000  0.00  0.00    +0.026 C \n",
      "ATOM      9  C   LIG     1       0.000   0.000   0.000  0.00  0.00    +0.023 C \n",
      "ENDBRANCH   1   3\n",
      "BRANCH   1  11\n",
      "ATOM     10  O   LIG     1       0.000   0.000   0.000  0.00  0.00    -0.204 OA\n",
      "ATOM     11  C   LIG     1       0.000   0.000   0.000  0.00  0.00    +0.218 C \n",
      "BRANCH  11  12\n",
      "ATOM     12  C   LIG     1       0.000   0.000   0.000  0.00  0.00    +0.110 C \n",
      "ATOM     13  N   LIG     1       0.000   0.000   0.000  0.00  0.00    -0.309 NA\n",
      "ATOM     14  H   LIG     1       0.000   0.000   0.000  0.00  0.00    +0.122 HD\n",
      "ATOM     15  C   LIG     1       0.003   0.010   1.584  0.00  0.00    +0.083 C \n",
      "ATOM     16  C   LIG     1       0.000   0.000   0.000  0.00  0.00    +0.038 C \n",
      "ENDBRANCH  11  12\n",
      "ENDBRANCH   1  11\n",
      "TORSDOF 3\n",
      "\n",
      "REMARK    Small molecule (ligand)\n",
      "REMARK    Compound: Z2726614023_1_T1\n",
      "REMARK    SMILES: OCC(=O)NNC(=O)C12CC(C1)C2\n",
      "REMARK    The ligand was originally not a salt, therefore no desalting was carried out.\n",
      "REMARK    The tautomeric state was generated by cxcalc version 18.20.0 of ChemAxons JChem Suite.\n",
      "REMARK    Protonation state was generated at pH 7.4 by cxcalc version 18.20.0 of ChemAxons JChem Suite.\n",
      "REMARK    Generation of the 3D conformation was carried out by molconvert version 18.20.0 of ChemAxons JChem Suite.\n",
      "REMARK    Generation of the the target format file (pdbqt) was carried out by Open Babel version 2.4.1.\n",
      "REMARK    Created on Sun Nov  4 20:01:42 EST 2018\n",
      "REMARK  4 active torsions:\n",
      "REMARK  status: ('A' for Active; 'I' for Inactive)\n",
      "REMARK    1  A    between atoms: _1  and  _2\n",
      "REMARK    2  A    between atoms: _2  and  _3\n",
      "REMARK    3  A    between atoms: _5  and  _6\n",
      "REMARK    4  A    between atoms: _7  and  _9\n",
      "REMARK                            x       y       z     vdW  Elec       q    Type\n",
      "REMARK                         _______ _______ _______ _____ _____    ______ ____\n",
      "ROOT\n",
      "ATOM      1  N   LIG     1      -2.726   0.082  -1.682  0.00  0.00    -0.234 N \n",
      "ATOM      2  H   LIG     1      -2.941  -0.743  -2.222  0.00  0.00    +0.173 HD\n",
      "ATOM      3  C   LIG     1      -3.692   0.987  -1.391  0.00  0.00    +0.235 C \n",
      "ATOM      4  O   LIG     1      -3.435   2.049  -0.777  0.00  0.00    -0.274 OA\n",
      "ENDROOT\n",
      "BRANCH   3   5\n",
      "ATOM      5  C   LIG     1      -5.090   0.729  -1.772  0.00  0.00    +0.049 C \n",
      "ATOM      6  C   LIG     1      -5.614  -0.550  -2.486  0.00  0.00    +0.019 C \n",
      "ATOM      7  C   LIG     1      -6.757   0.453  -2.178  0.00  0.00    -0.008 C \n",
      "ATOM      8  C   LIG     1      -5.921   1.646  -2.708  0.00  0.00    +0.019 C \n",
      "ATOM      9  C   LIG     1      -6.242   0.672  -0.733  0.00  0.00    +0.019 C \n",
      "ENDBRANCH   3   5\n",
      "BRANCH   1  11\n",
      "ATOM     10  C   LIG     1      -0.549   0.892  -1.995  0.00  0.00    +0.255 C \n",
      "ATOM     11  N   LIG     1      -1.491   0.217  -1.291  0.00  0.00    -0.232 N \n",
      "ATOM     12  H   LIG     1      -1.255  -0.219  -0.411  0.00  0.00    +0.173 HD\n",
      "ATOM     13  O   LIG     1      -0.826   1.436  -3.091  0.00  0.00    -0.272 OA\n",
      "BRANCH  10  14\n",
      "ATOM     14  C   LIG     1       0.814   0.999  -1.452  0.00  0.00    +0.252 C \n",
      "BRANCH  14  15\n",
      "ATOM     15  O   LIG     1       1.398  -0.294  -1.348  0.00  0.00    -0.386 OA\n",
      "ATOM     16  H   LIG     1       1.502  -0.525  -0.422  0.00  0.00    +0.210 HD\n",
      "ENDBRANCH  14  15\n",
      "ENDBRANCH  10  14\n",
      "ENDBRANCH   1  11\n",
      "TORSDOF 4\n",
      "\n",
      "REMARK    Small molecule (ligand)\n",
      "REMARK    Compound: Z2995999308_7_T1\n",
      "REMARK    SMILES: CNS(=O)(=O)N[C@@H]1[C@@H]2C[C@@H]1NC2\n",
      "REMARK    The ligand was originally not a salt, therefore no desalting was carried out.\n",
      "REMARK    The tautomeric state was generated by cxcalc version 18.20.0 of ChemAxons JChem Suite.\n",
      "REMARK    Protonation state was generated at pH 7.4 by cxcalc version 18.20.0 of ChemAxons JChem Suite.\n",
      "REMARK    Generation of the 3D conformation was carried out by Open Babel version 2.4.1\n",
      "REMARK    Generation of the the target format file (pdbqt) was carried out by Open Babel version 2.4.1.\n",
      "REMARK    Created on Sun Nov  4 19:58:17 EST 2018\n",
      "REMARK  4 active torsions:\n",
      "REMARK  status: ('A' for Active; 'I' for Inactive)\n",
      "REMARK    1  A    between atoms: _1  and  _2\n",
      "REMARK    2  A    between atoms: _2  and  _3\n",
      "REMARK    3  A    between atoms: _3  and  _6\n",
      "REMARK    4  A    between atoms: _6  and  _7\n",
      "REMARK                            x       y       z     vdW  Elec       q    Type\n",
      "REMARK                         _______ _______ _______ _____ _____    ______ ____\n",
      "ROOT\n",
      "ATOM      1  N   LIG     1       0.000  -0.070   0.000  0.00  0.00    -0.175 NA\n",
      "ATOM      2  H   LIG     1       0.001   0.658  -0.001  0.00  0.00    +0.149 HD\n",
      "ENDROOT\n",
      "BRANCH   1   3\n",
      "ATOM      3  C   LIG     1       0.000  -0.070   0.000  0.00  0.00    +0.099 C \n",
      "ATOM      4  C   LIG     1       0.000  -0.070   0.000  0.00  0.00    +0.073 C \n",
      "ATOM      5  N   LIG     1       0.001   1.013   0.001  0.00  0.00    -0.311 NA\n",
      "ATOM      6  H   LIG     1       0.000   0.000   0.000  0.00  0.00    +0.122 HD\n",
      "ATOM      7  C   LIG     1       0.000  -0.070   0.000  0.00  0.00    +0.086 C \n",
      "ATOM      8  C   LIG     1       0.000  -0.070   0.000  0.00  0.00    +0.026 C \n",
      "ATOM      9  C   LIG     1       0.000  -0.070   0.000  0.00  0.00    +0.024 C \n",
      "ENDBRANCH   1   3\n",
      "BRANCH   1  10\n",
      "ATOM     10  S   LIG     1       0.000  -0.070   0.000  0.00  0.00    +0.095 S \n",
      "ATOM     11  O   LIG     1       0.000  -0.070   0.000  0.00  0.00    -0.141 OA\n",
      "ATOM     12  O   LIG     1       0.000  -0.070   0.000  0.00  0.00    -0.141 OA\n",
      "BRANCH  10  14\n",
      "ATOM     13  C   LIG     1       0.000  -0.070   0.000  0.00  0.00    +0.129 C \n",
      "ATOM     14  N   LIG     1       0.000  -0.070   0.000  0.00  0.00    -0.183 NA\n",
      "ATOM     15  H   LIG     1       0.000  -0.061   0.000  0.00  0.00    +0.149 HD\n",
      "ENDBRANCH  10  14\n",
      "ENDBRANCH   1  10\n",
      "TORSDOF 3\n",
      "\n",
      "REMARK    Small molecule (ligand)\n",
      "REMARK    Compound: Z2711168684_1_T1\n",
      "REMARK    SMILES: NC(=O)[C@H](O)CNC(=O)C12CC(C1)C2\n",
      "REMARK    The ligand was originally not a salt, therefore no desalting was carried out.\n",
      "REMARK    The tautomeric state was generated by cxcalc version 18.20.0 of ChemAxons JChem Suite.\n",
      "REMARK    Protonation state was generated at pH 7.4 by cxcalc version 18.20.0 of ChemAxons JChem Suite.\n",
      "REMARK    Generation of the 3D conformation was carried out by molconvert version 18.20.0 of ChemAxons JChem Suite.\n",
      "REMARK    Generation of the the target format file (pdbqt) was carried out by Open Babel version 2.4.1.\n",
      "REMARK    Created on Sun Nov  4 20:44:01 EST 2018\n",
      "REMARK  5 active torsions:\n",
      "REMARK  status: ('A' for Active; 'I' for Inactive)\n",
      "REMARK    1  A    between atoms: _2  and  _4\n",
      "REMARK    2  A    between atoms: _4  and  _5\n",
      "REMARK    3  A    between atoms: _4  and  _6\n",
      "REMARK    4  A    between atoms: _6  and  _7\n",
      "REMARK    5  A    between atoms: _8  and  _10\n",
      "REMARK                            x       y       z     vdW  Elec       q    Type\n",
      "REMARK                         _______ _______ _______ _____ _____    ______ ____\n",
      "ROOT\n",
      "ATOM      1  C   LIG     1       1.305  -0.941  -0.602  0.00  0.00    +0.145 C \n",
      "ENDROOT\n",
      "BRANCH   1   2\n",
      "ATOM      2  N   LIG     1       0.738  -2.071   0.071  0.00  0.00    -0.312 N \n",
      "ATOM      3  H   LIG     1      -0.196  -2.021   0.451  0.00  0.00    +0.149 HD\n",
      "ATOM      4  C   LIG     1       1.358  -3.265   0.263  0.00  0.00    +0.219 C \n",
      "ATOM      5  O   LIG     1       2.455  -3.536  -0.279  0.00  0.00    -0.275 OA\n",
      "BRANCH   4   6\n",
      "ATOM      6  C   LIG     1       0.756  -4.254   1.179  0.00  0.00    +0.048 C \n",
      "ATOM      7  C   LIG     1      -0.747  -4.644   1.243  0.00  0.00    +0.019 C \n",
      "ATOM      8  C   LIG     1       0.091  -5.411   2.299  0.00  0.00    -0.008 C \n",
      "ATOM      9  C   LIG     1       0.824  -4.114   2.725  0.00  0.00    +0.019 C \n",
      "ATOM     10  C   LIG     1       1.189  -5.745   1.258  0.00  0.00    +0.019 C \n",
      "ENDBRANCH   4   6\n",
      "ENDBRANCH   1   2\n",
      "BRANCH   1  11\n",
      "ATOM     11  C   LIG     1       0.246   0.126  -1.013  0.00  0.00    +0.217 C \n",
      "BRANCH  11  15\n",
      "ATOM     12  N   LIG     1       1.430   1.990  -2.096  0.00  0.00    -0.327 N \n",
      "ATOM     13  H   LIG     1       2.422   2.176  -2.073  0.00  0.00    +0.145 HD\n",
      "ATOM     14  H   LIG     1       0.901   2.176  -2.936  0.00  0.00    +0.145 HD\n",
      "ATOM     15  C   LIG     1       0.814   1.493  -1.011  0.00  0.00    +0.241 C \n",
      "ATOM     16  O   LIG     1       0.752   2.214   0.011  0.00  0.00    -0.273 OA\n",
      "ENDBRANCH  11  15\n",
      "BRANCH  11  17\n",
      "ATOM     17  O   LIG     1      -0.903   0.111  -0.165  0.00  0.00    -0.381 OA\n",
      "ATOM     18  H   LIG     1      -0.622   0.114   0.753  0.00  0.00    +0.210 HD\n",
      "ENDBRANCH  11  17\n",
      "ENDBRANCH   1  11\n",
      "TORSDOF 5\n",
      "\n",
      "REMARK    Small molecule (ligand)\n",
      "REMARK    Compound: Z2711168684_2_T1\n",
      "REMARK    SMILES: NC(=O)[C@@H](O)CNC(=O)C12CC(C1)C2\n",
      "REMARK    The ligand was originally not a salt, therefore no desalting was carried out.\n",
      "REMARK    The tautomeric state was generated by cxcalc version 18.20.0 of ChemAxons JChem Suite.\n",
      "REMARK    Protonation state was generated at pH 7.4 by cxcalc version 18.20.0 of ChemAxons JChem Suite.\n",
      "REMARK    Generation of the 3D conformation was carried out by molconvert version 18.20.0 of ChemAxons JChem Suite.\n",
      "REMARK    Generation of the the target format file (pdbqt) was carried out by Open Babel version 2.4.1.\n",
      "REMARK    Created on Sun Nov  4 20:44:01 EST 2018\n",
      "REMARK  5 active torsions:\n",
      "REMARK  status: ('A' for Active; 'I' for Inactive)\n",
      "REMARK    1  A    between atoms: _2  and  _4\n",
      "REMARK    2  A    between atoms: _4  and  _5\n",
      "REMARK    3  A    between atoms: _4  and  _6\n",
      "REMARK    4  A    between atoms: _6  and  _7\n",
      "REMARK    5  A    between atoms: _8  and  _10\n",
      "REMARK                            x       y       z     vdW  Elec       q    Type\n",
      "REMARK                         _______ _______ _______ _____ _____    ______ ____\n",
      "ROOT\n",
      "ATOM      1  C   LIG     1      -0.507  -1.929  -0.732  0.00  0.00    +0.145 C \n",
      "ENDROOT\n",
      "BRANCH   1   2\n",
      "ATOM      2  N   LIG     1      -0.471  -1.845  -2.160  0.00  0.00    -0.312 N \n",
      "ATOM      3  H   LIG     1      -0.867  -1.043  -2.630  0.00  0.00    +0.149 HD\n",
      "ATOM      4  C   LIG     1       0.065  -2.776  -2.992  0.00  0.00    +0.219 C \n",
      "ATOM      5  O   LIG     1       0.684  -3.774  -2.552  0.00  0.00    -0.275 OA\n",
      "BRANCH   4   6\n",
      "ATOM      6  C   LIG     1      -0.098  -2.635  -4.450  0.00  0.00    +0.048 C \n",
      "ATOM      7  C   LIG     1       0.205  -1.347  -5.265  0.00  0.00    +0.019 C \n",
      "ATOM      8  C   LIG     1      -0.308  -2.499  -6.170  0.00  0.00    -0.008 C \n",
      "ATOM      9  C   LIG     1      -1.453  -2.830  -5.182  0.00  0.00    +0.019 C \n",
      "ATOM     10  C   LIG     1       0.636  -3.524  -5.493  0.00  0.00    +0.019 C \n",
      "ENDBRANCH   4   6\n",
      "ENDBRANCH   1   2\n",
      "BRANCH   1  11\n",
      "ATOM     11  C   LIG     1      -0.655  -0.521  -0.080  0.00  0.00    +0.217 C \n",
      "BRANCH  11  15\n",
      "ATOM     12  N   LIG     1      -2.850  -0.636   0.987  0.00  0.00    -0.327 N \n",
      "ATOM     13  H   LIG     1      -3.287  -1.545   0.936  0.00  0.00    +0.145 HD\n",
      "ATOM     14  H   LIG     1      -3.415   0.200   0.936  0.00  0.00    +0.145 HD\n",
      "ATOM     15  C   LIG     1      -1.517  -0.537   1.122  0.00  0.00    +0.241 C \n",
      "ATOM     16  O   LIG     1      -1.049  -0.446   2.280  0.00  0.00    -0.273 OA\n",
      "ENDBRANCH  11  15\n",
      "BRANCH  11  17\n",
      "ATOM     17  O   LIG     1       0.632   0.003   0.250  0.00  0.00    -0.381 OA\n",
      "ATOM     18  H   LIG     1       0.727   0.042   1.205  0.00  0.00    +0.210 HD\n",
      "ENDBRANCH  11  17\n",
      "ENDBRANCH   1  11\n",
      "TORSDOF 5\n",
      "\n",
      "REMARK    Small molecule (ligand)\n",
      "REMARK    Compound: Z2712630551_1_T1\n",
      "REMARK    SMILES: NC(=O)[C@H](CO)NC(=O)C12CC(C1)C2\n",
      "REMARK    The ligand was originally not a salt, therefore no desalting was carried out.\n",
      "REMARK    The tautomeric state was generated by cxcalc version 18.20.0 of ChemAxons JChem Suite.\n",
      "REMARK    Protonation state was generated at pH 7.4 by cxcalc version 18.20.0 of ChemAxons JChem Suite.\n",
      "REMARK    Generation of the 3D conformation was carried out by molconvert version 18.20.0 of ChemAxons JChem Suite.\n",
      "REMARK    Generation of the the target format file (pdbqt) was carried out by Open Babel version 2.4.1.\n",
      "REMARK    Created on Sun Nov  4 20:43:57 EST 2018\n",
      "REMARK  5 active torsions:\n",
      "REMARK  status: ('A' for Active; 'I' for Inactive)\n",
      "REMARK    1  A    between atoms: _2  and  _4\n",
      "REMARK    2  A    between atoms: _4  and  _5\n",
      "REMARK    3  A    between atoms: _4  and  _7\n",
      "REMARK    4  A    between atoms: _5  and  _6\n",
      "REMARK    5  A    between atoms: _8  and  _10\n",
      "REMARK                            x       y       z     vdW  Elec       q    Type\n",
      "REMARK                         _______ _______ _______ _____ _____    ______ ____\n",
      "ROOT\n",
      "ATOM      1  CA  LIG     1      -1.466  -1.675  -2.010  0.00  0.00    +0.184 C \n",
      "ENDROOT\n",
      "BRANCH   1   5\n",
      "ATOM      2  N   LIG     1      -0.279  -3.229  -3.499  0.00  0.00    -0.328 N \n",
      "ATOM      3  H   LIG     1       0.694  -3.476  -3.616  0.00  0.00    +0.145 HD\n",
      "ATOM      4  H   LIG     1      -0.996  -3.930  -3.616  0.00  0.00    +0.145 HD\n",
      "ATOM      5  C   LIG     1      -0.619  -1.966  -3.189  0.00  0.00    +0.233 C \n",
      "ATOM      6  O   LIG     1      -0.213  -1.045  -3.935  0.00  0.00    -0.274 OA\n",
      "ENDBRANCH   1   5\n",
      "BRANCH   1   7\n",
      "ATOM      7  N   LIG     1      -0.775  -0.726  -1.189  0.00  0.00    -0.302 N \n",
      "ATOM      8  H   LIG     1      -0.141  -0.064  -1.614  0.00  0.00    +0.150 HD\n",
      "ATOM      9  C   LIG     1      -0.873  -0.601   0.161  0.00  0.00    +0.220 C \n",
      "ATOM     10  O   LIG     1      -1.556  -1.386   0.860  0.00  0.00    -0.275 OA\n",
      "BRANCH   9  11\n",
      "ATOM     11  C   LIG     1      -0.184   0.532   0.803  0.00  0.00    +0.048 C \n",
      "ATOM     12  C   LIG     1      -0.369   0.975   2.281  0.00  0.00    +0.019 C \n",
      "ATOM     13  C   LIG     1       0.612   1.904   1.520  0.00  0.00    -0.008 C \n",
      "ATOM     14  C   LIG     1      -0.344   1.995   0.305  0.00  0.00    +0.019 C \n",
      "ATOM     15  C   LIG     1       1.358   0.690   0.905  0.00  0.00    +0.019 C \n",
      "ENDBRANCH   9  11\n",
      "ENDBRANCH   1   7\n",
      "BRANCH   1  16\n",
      "ATOM     16  C   LIG     1      -2.849  -1.128  -2.453  0.00  0.00    +0.187 C \n",
      "BRANCH  16  17\n",
      "ATOM     17  O   LIG     1      -3.708  -0.937  -1.333  0.00  0.00    -0.393 OA\n",
      "ATOM     18  H   LIG     1      -3.975  -1.791  -0.986  0.00  0.00    +0.209 HD\n",
      "ENDBRANCH  16  17\n",
      "ENDBRANCH   1  16\n",
      "TORSDOF 5\n",
      "\n",
      "REMARK    Small molecule (ligand)\n",
      "REMARK    Compound: Z2827237594_8_T1\n",
      "REMARK    SMILES: C[C@@H](N)C(=O)N1C[C@H]2C[C@H]1C(=O)O2\n",
      "REMARK    The ligand was originally not a salt, therefore no desalting was carried out.\n",
      "REMARK    The tautomeric state was generated by cxcalc version 18.20.0 of ChemAxons JChem Suite.\n",
      "REMARK    Protonation state was generated at pH 7.4 by cxcalc version 18.20.0 of ChemAxons JChem Suite.\n",
      "REMARK    Generation of the 3D conformation was carried out by Open Babel version 2.4.1\n",
      "REMARK    Generation of the the target format file (pdbqt) was carried out by Open Babel version 2.4.1.\n",
      "REMARK    Created on Sun Nov  4 18:05:12 EST 2018\n",
      "REMARK  4 active torsions:\n",
      "REMARK  status: ('A' for Active; 'I' for Inactive)\n",
      "REMARK    1  A    between atoms: _1  and  _2\n",
      "REMARK    2  A    between atoms: _2  and  _4\n",
      "REMARK    3  A    between atoms: _2  and  _5\n",
      "REMARK    4  A    between atoms: _5  and  _7\n",
      "REMARK                            x       y       z     vdW  Elec       q    Type\n",
      "REMARK                         _______ _______ _______ _____ _____    ______ ____\n",
      "ROOT\n",
      "ATOM      1  N   LIG     1       0.000   0.050  -0.023  0.00  0.00    -0.257 NA\n",
      "ATOM      2  C   LIG     1       0.000   0.050  -0.023  0.00  0.00    +0.130 C \n",
      "ATOM      3  C   LIG     1       0.000   0.050  -0.023  0.00  0.00    +0.278 C \n",
      "ATOM      4  O   LIG     1       0.000   0.050  -0.023  0.00  0.00    -0.189 OA\n",
      "ATOM      5  O   LIG     1       0.000  -1.423   0.657  0.00  0.00    -0.336 OA\n",
      "ATOM      6  C   LIG     1       0.000   0.050  -0.023  0.00  0.00    +0.138 C \n",
      "ATOM      7  C   LIG     1       0.000   0.050  -0.023  0.00  0.00    +0.057 C \n",
      "ATOM      8  C   LIG     1       0.000   0.050  -0.023  0.00  0.00    +0.119 C \n",
      "ENDROOT\n",
      "BRANCH   1   9\n",
      "ATOM      9  C   LIG     1       0.000   0.050  -0.023  0.00  0.00    +0.220 C \n",
      "ATOM     10  O   LIG     1       0.000   0.050  -0.023  0.00  0.00    -0.204 OA\n",
      "BRANCH   9  12\n",
      "ATOM     11  C   LIG     1       0.000   0.050  -0.023  0.00  0.00    +0.028 C \n",
      "ATOM     12  C   LIG     1       0.000   0.050  -0.023  0.00  0.00    +0.103 C \n",
      "BRANCH  12  13\n",
      "ATOM     13  N   LIG     1       0.000   0.050  -0.023  0.00  0.00    -0.324 NA\n",
      "ATOM     14  H   LIG     1       0.000   0.101  -0.046  0.00  0.00    +0.119 HD\n",
      "ATOM     15  H   LIG     1       0.000   0.101  -0.046  0.00  0.00    +0.119 HD\n",
      "ENDBRANCH  12  13\n",
      "ENDBRANCH   9  12\n",
      "ENDBRANCH   1   9\n",
      "TORSDOF 3\n",
      "\n",
      "REMARK    Small molecule (ligand)\n",
      "REMARK    Compound: Z2827237605_4_T1\n",
      "REMARK    SMILES: C[C@@H](N)C(=O)N1C[C@H]2C[C@H]1C(=O)O2\n",
      "REMARK    The ligand was originally not a salt, therefore no desalting was carried out.\n",
      "REMARK    The tautomeric state was generated by cxcalc version 18.20.0 of ChemAxons JChem Suite.\n",
      "REMARK    Protonation state was generated at pH 7.4 by cxcalc version 18.20.0 of ChemAxons JChem Suite.\n",
      "REMARK    Generation of the 3D conformation was carried out by Open Babel version 2.4.1\n",
      "REMARK    Generation of the the target format file (pdbqt) was carried out by Open Babel version 2.4.1.\n",
      "REMARK    Created on Sun Nov  4 18:05:07 EST 2018\n",
      "REMARK  4 active torsions:\n",
      "REMARK  status: ('A' for Active; 'I' for Inactive)\n",
      "REMARK    1  A    between atoms: _1  and  _2\n",
      "REMARK    2  A    between atoms: _2  and  _4\n",
      "REMARK    3  A    between atoms: _2  and  _5\n",
      "REMARK    4  A    between atoms: _5  and  _7\n",
      "REMARK                            x       y       z     vdW  Elec       q    Type\n",
      "REMARK                         _______ _______ _______ _____ _____    ______ ____\n",
      "ROOT\n",
      "ATOM      1  N   LIG     1       0.000   0.080   0.053  0.00  0.00    -0.257 NA\n",
      "ATOM      2  C   LIG     1       0.000   0.080   0.053  0.00  0.00    +0.130 C \n",
      "ATOM      3  C   LIG     1       0.000   0.080   0.053  0.00  0.00    +0.278 C \n",
      "ATOM      4  O   LIG     1       0.000   0.080   0.053  0.00  0.00    -0.189 OA\n",
      "ATOM      5  O   LIG     1       0.000  -1.195  -0.796  0.00  0.00    -0.336 OA\n",
      "ATOM      6  C   LIG     1       0.000   0.080   0.053  0.00  0.00    +0.138 C \n",
      "ATOM      7  C   LIG     1       0.000   0.080   0.053  0.00  0.00    +0.057 C \n",
      "ATOM      8  C   LIG     1       0.000   0.080   0.053  0.00  0.00    +0.119 C \n",
      "ENDROOT\n",
      "BRANCH   1   9\n",
      "ATOM      9  C   LIG     1       0.000   0.080   0.053  0.00  0.00    +0.220 C \n",
      "ATOM     10  O   LIG     1       0.000   0.080   0.053  0.00  0.00    -0.204 OA\n",
      "BRANCH   9  12\n",
      "ATOM     11  C   LIG     1       0.000   0.080   0.053  0.00  0.00    +0.028 C \n",
      "ATOM     12  C   LIG     1       0.000   0.080   0.053  0.00  0.00    +0.103 C \n",
      "BRANCH  12  13\n",
      "ATOM     13  N   LIG     1       0.000   0.080   0.053  0.00  0.00    -0.324 NA\n",
      "ATOM     14  H   LIG     1       0.000   0.159   0.106  0.00  0.00    +0.119 HD\n",
      "ATOM     15  H   LIG     1       0.000   0.159   0.106  0.00  0.00    +0.119 HD\n",
      "ENDBRANCH  12  13\n",
      "ENDBRANCH   9  12\n",
      "ENDBRANCH   1   9\n",
      "TORSDOF 3\n",
      "\n",
      "\n",
      "\n",
      "\n",
      "REMARK    Small molecule (ligand)\n",
      "REMARK    Compound: Z3133425192_2_T1\n",
      "REMARK    SMILES: N[C@H](CO)C(=O)N1C[C@H]2CC[C@H](C1)N2\n",
      "REMARK    The ligand was originally not a salt, therefore no desalting was carried out.\n",
      "REMARK    The tautomeric state was generated by cxcalc version 18.20.0 of ChemAxons JChem Suite.\n",
      "REMARK    Protonation state was generated at pH 7.4 by cxcalc version 18.20.0 of ChemAxons JChem Suite.\n",
      "REMARK    Generation of the 3D conformation was carried out by Open Babel version 2.4.1\n",
      "REMARK    Generation of the the target format file (pdbqt) was carried out by Open Babel version 2.4.1.\n",
      "REMARK    Created on Sun Nov  4 20:02:23 EST 2018\n",
      "REMARK  5 active torsions:\n",
      "REMARK  status: ('A' for Active; 'I' for Inactive)\n",
      "REMARK    1  A    between atoms: _1  and  _2\n",
      "REMARK    2  A    between atoms: _2  and  _4\n",
      "REMARK    3  A    between atoms: _2  and  _6\n",
      "REMARK    4  A    between atoms: _4  and  _5\n",
      "REMARK    5  A    between atoms: _6  and  _8\n",
      "REMARK                            x       y       z     vdW  Elec       q    Type\n",
      "REMARK                         _______ _______ _______ _____ _____    ______ ____\n",
      "ROOT\n",
      "ATOM      1  C   LIG     1       0.000   0.000   0.000  0.00  0.00    +0.222 C \n",
      "ATOM      2  O   LIG     1       0.000   0.000   0.000  0.00  0.00    -0.204 OA\n",
      "ENDROOT\n",
      "BRANCH   1   3\n",
      "ATOM      3  N   LIG     1       0.000   0.000   0.000  0.00  0.00    -0.265 NA\n",
      "ATOM      4  C   LIG     1       0.000   0.000   0.000  0.00  0.00    +0.106 C \n",
      "ATOM      5  C   LIG     1       0.000   0.000   0.000  0.00  0.00    +0.068 C \n",
      "ATOM      6  N   LIG     1       0.000   0.521   0.000  0.00  0.00    -0.308 NA\n",
      "ATOM      7  H   LIG     1       0.000   0.000   0.000  0.00  0.00    +0.123 HD\n",
      "ATOM      8  C   LIG     1       0.000   0.000   0.000  0.00  0.00    +0.068 C \n",
      "ATOM      9  C   LIG     1       0.000   0.000   0.000  0.00  0.00    +0.021 C \n",
      "ATOM     10  C   LIG     1       0.000   0.000   0.000  0.00  0.00    +0.021 C \n",
      "ATOM     11  C   LIG     1       0.000   0.000   0.000  0.00  0.00    +0.106 C \n",
      "ENDBRANCH   1   3\n",
      "BRANCH   1  12\n",
      "ATOM     12  CA  LIG     1       0.000   0.000   0.000  0.00  0.00    +0.132 C \n",
      "BRANCH  12  13\n",
      "ATOM     13  N   LIG     1       0.000   0.000   0.000  0.00  0.00    -0.322 NA\n",
      "ATOM     14  H1  LIG     1       0.000   0.371   0.000  0.00  0.00    +0.119 HD\n",
      "ATOM     15  H2  LIG     1       0.000   0.371   0.000  0.00  0.00    +0.119 HD\n",
      "ENDBRANCH  12  13\n",
      "BRANCH  12  16\n",
      "ATOM     16  C   LIG     1       0.000   0.000   0.000  0.00  0.00    +0.178 C \n",
      "BRANCH  16  17\n",
      "ATOM     17  O   LIG     1       0.000   0.000   0.000  0.00  0.00    -0.393 OA\n",
      "ATOM     18  H   LIG     1       0.000   0.000   0.000  0.00  0.00    +0.209 HD\n",
      "ENDBRANCH  16  17\n",
      "ENDBRANCH  12  16\n",
      "ENDBRANCH   1  12\n",
      "TORSDOF 5\n",
      "\n",
      "\n",
      "REMARK    Small molecule (ligand)\n",
      "REMARK    Compound: Z2843052856_2_T1\n",
      "REMARK    SMILES: NC(=O)NC(=O)CN1C[C@H]2C[C@]2(O)C1\n",
      "REMARK    The ligand was originally not a salt, therefore no desalting was carried out.\n",
      "REMARK    The tautomeric state was generated by cxcalc version 18.20.0 of ChemAxons JChem Suite.\n",
      "REMARK    Protonation state was generated at pH 7.4 by cxcalc version 18.20.0 of ChemAxons JChem Suite.\n",
      "REMARK    Generation of the 3D conformation was carried out by Open Babel version 2.4.1\n",
      "REMARK    Generation of the the target format file (pdbqt) was carried out by Open Babel version 2.4.1.\n",
      "REMARK    Created on Sun Nov  4 20:19:58 EST 2018\n",
      "REMARK  6 active torsions:\n",
      "REMARK  status: ('A' for Active; 'I' for Inactive)\n",
      "REMARK    1  A    between atoms: _1  and  _2\n",
      "REMARK    2  A    between atoms: _2  and  _4\n",
      "REMARK    3  A    between atoms: _4  and  _5\n",
      "REMARK    4  A    between atoms: _5  and  _7\n",
      "REMARK    5  A    between atoms: _7  and  _8\n",
      "REMARK    6  A    between atoms: _13  and  _14\n",
      "REMARK                            x       y       z     vdW  Elec       q    Type\n",
      "REMARK                         _______ _______ _______ _____ _____    ______ ____\n",
      "ROOT\n",
      "ATOM      1  C   LIG     1       0.000  -0.061   0.000  0.00  0.00    +0.218 C \n",
      "ATOM      2  O   LIG     1       0.000  -0.061   0.000  0.00  0.00    -0.204 OA\n",
      "ENDROOT\n",
      "BRANCH   1   3\n",
      "ATOM      3  N   LIG     1       0.000  -0.061   0.000  0.00  0.00    -0.234 NA\n",
      "ATOM      4  H   LIG     1      -0.002  -0.805  -0.006  0.00  0.00    +0.129 HD\n",
      "BRANCH   3   5\n",
      "ATOM      5  C   LIG     1       0.000  -0.061   0.000  0.00  0.00    +0.270 C \n",
      "ATOM      6  O   LIG     1       0.000  -0.061   0.000  0.00  0.00    -0.186 OA\n",
      "BRANCH   5   7\n",
      "ATOM      7  N   LIG     1       0.000  -0.061   0.000  0.00  0.00    -0.283 NA\n",
      "ATOM      8  H   LIG     1       0.000   0.800   0.000  0.00  0.00    +0.122 HD\n",
      "ATOM      9  H   LIG     1       0.000   0.800   0.000  0.00  0.00    +0.122 HD\n",
      "ENDBRANCH   5   7\n",
      "ENDBRANCH   3   5\n",
      "ENDBRANCH   1   3\n",
      "BRANCH   1  10\n",
      "ATOM     10  C   LIG     1       0.000  -0.061   0.000  0.00  0.00    +0.143 C \n",
      "BRANCH  10  11\n",
      "ATOM     11  N   LIG     1       0.000  -0.061   0.000  0.00  0.00    -0.295 NA\n",
      "ATOM     12  C   LIG     1       0.000  -0.061   0.000  0.00  0.00    +0.119 C \n",
      "ATOM     13  C   LIG     1       0.000  -0.061   0.000  0.00  0.00    +0.083 C \n",
      "ATOM     14  C   LIG     1       0.000  -0.061   0.000  0.00  0.00    +0.044 C \n",
      "ATOM     15  C   LIG     1       0.000  -0.061   0.000  0.00  0.00    +0.039 C \n",
      "ATOM     16  C   LIG     1       0.000  -0.061   0.000  0.00  0.00    +0.091 C \n",
      "BRANCH  13  17\n",
      "ATOM     17  O   LIG     1       0.000   1.600   0.000  0.00  0.00    -0.387 OA\n",
      "ATOM     18  H   LIG     1       0.000   0.000   0.000  0.00  0.00    +0.210 HD\n",
      "ENDBRANCH  13  17\n",
      "ENDBRANCH  10  11\n",
      "ENDBRANCH   1  10\n",
      "TORSDOF 6\n",
      "\n",
      "REMARK    Small molecule (ligand)\n",
      "REMARK    Compound: Z2827184137_2_T1\n",
      "REMARK    SMILES: NCCOCC(=O)N[C@H]1[C@H]2C[C@H]1NC2\n",
      "REMARK    The ligand was originally not a salt, therefore no desalting was carried out.\n",
      "REMARK    The tautomeric state was generated by cxcalc version 18.20.0 of ChemAxons JChem Suite.\n",
      "REMARK    Protonation state was generated at pH 7.4 by cxcalc version 18.20.0 of ChemAxons JChem Suite.\n",
      "REMARK    Generation of the 3D conformation was carried out by Open Babel version 2.4.1\n",
      "REMARK    Generation of the the target format file (pdbqt) was carried out by Open Babel version 2.4.1.\n",
      "REMARK    Created on Sun Nov  4 20:45:08 EST 2018\n",
      "REMARK  7 active torsions:\n",
      "REMARK  status: ('A' for Active; 'I' for Inactive)\n",
      "REMARK    1  A    between atoms: _1  and  _2\n",
      "REMARK    2  A    between atoms: _2  and  _3\n",
      "REMARK    3  A    between atoms: _3  and  _4\n",
      "REMARK    4  A    between atoms: _4  and  _5\n",
      "REMARK    5  A    between atoms: _5  and  _6\n",
      "REMARK    6  A    between atoms: _6  and  _8\n",
      "REMARK    7  A    between atoms: _8  and  _9\n",
      "REMARK                            x       y       z     vdW  Elec       q    Type\n",
      "REMARK                         _______ _______ _______ _____ _____    ______ ____\n",
      "ROOT\n",
      "ATOM      1  C   LIG     1       0.130  -0.174  -0.549  0.00  0.00    +0.226 C \n",
      "ATOM      2  O   LIG     1       0.130  -0.174  -0.549  0.00  0.00    -0.203 OA\n",
      "ENDROOT\n",
      "BRANCH   1   3\n",
      "ATOM      3  N   LIG     1       0.130  -0.174  -0.549  0.00  0.00    -0.277 NA\n",
      "ATOM      4  H   LIG     1       0.140  -0.188   0.735  0.00  0.00    +0.125 HD\n",
      "BRANCH   3   5\n",
      "ATOM      5  C   LIG     1       0.130  -0.174  -0.549  0.00  0.00    +0.078 C \n",
      "ATOM      6  C   LIG     1       0.130  -0.174  -0.549  0.00  0.00    +0.071 C \n",
      "ATOM      7  N   LIG     1      -0.172   0.231  -0.516  0.00  0.00    -0.311 NA\n",
      "ATOM      8  H   LIG     1       0.098  -0.131  -0.411  0.00  0.00    +0.122 HD\n",
      "ATOM      9  C   LIG     1       0.130  -0.174  -0.549  0.00  0.00    +0.086 C \n",
      "ATOM     10  C   LIG     1       0.130  -0.174  -0.549  0.00  0.00    +0.026 C \n",
      "ATOM     11  C   LIG     1       0.130  -0.174  -0.549  0.00  0.00    +0.023 C \n",
      "ENDBRANCH   3   5\n",
      "ENDBRANCH   1   3\n",
      "BRANCH   1  12\n",
      "ATOM     12  C   LIG     1       0.130  -0.174  -0.549  0.00  0.00    +0.219 C \n",
      "BRANCH  12  13\n",
      "ATOM     13  O   LIG     1       0.130  -0.174  -0.549  0.00  0.00    -0.374 OA\n",
      "BRANCH  13  14\n",
      "ATOM     14  C   LIG     1       0.130  -0.174  -0.549  0.00  0.00    +0.175 C \n",
      "BRANCH  14  15\n",
      "ATOM     15  C   LIG     1       0.130  -0.174  -0.549  0.00  0.00    +0.106 C \n",
      "BRANCH  15  16\n",
      "ATOM     16  N   LIG     1       0.130  -0.174  -0.549  0.00  0.00    -0.328 NA\n",
      "ATOM     17  H   LIG     1       0.131  -0.175  -0.550  0.00  0.00    +0.118 HD\n",
      "ATOM     18  H   LIG     1       0.131  -0.175  -0.550  0.00  0.00    +0.118 HD\n",
      "ENDBRANCH  15  16\n",
      "ENDBRANCH  14  15\n",
      "ENDBRANCH  13  14\n",
      "ENDBRANCH  12  13\n",
      "ENDBRANCH   1  12\n",
      "TORSDOF 7\n",
      "\n",
      "REMARK    Small molecule (ligand)\n",
      "REMARK    Compound: Z2949131235_3_T1\n",
      "REMARK    SMILES: OC[C@H](O)CN1C[C@@H]2C[C@@]2(CO)C1\n",
      "REMARK    The ligand was originally not a salt, therefore no desalting was carried out.\n",
      "REMARK    The tautomeric state was generated by cxcalc version 18.20.0 of ChemAxons JChem Suite.\n",
      "REMARK    Protonation state was generated at pH 7.4 by cxcalc version 18.20.0 of ChemAxons JChem Suite.\n",
      "REMARK    Generation of the 3D conformation was carried out by Open Babel version 2.4.1\n",
      "REMARK    Generation of the the target format file (pdbqt) was carried out by Open Babel version 2.4.1.\n",
      "REMARK    Created on Sun Nov  4 20:43:37 EST 2018\n",
      "REMARK  7 active torsions:\n",
      "REMARK  status: ('A' for Active; 'I' for Inactive)\n",
      "REMARK    1  A    between atoms: _1  and  _2\n",
      "REMARK    2  A    between atoms: _2  and  _3\n",
      "REMARK    3  A    between atoms: _3  and  _5\n",
      "REMARK    4  A    between atoms: _3  and  _6\n",
      "REMARK    5  A    between atoms: _6  and  _7\n",
      "REMARK    6  A    between atoms: _12  and  _13\n",
      "REMARK    7  A    between atoms: _13  and  _14\n",
      "REMARK                            x       y       z     vdW  Elec       q    Type\n",
      "REMARK                         _______ _______ _______ _____ _____    ______ ____\n",
      "ROOT\n",
      "ATOM      1  N   LIG     1       0.000  -0.164   0.000  0.00  0.00    -0.299 NA\n",
      "ATOM      2  C   LIG     1       0.000  -0.164   0.000  0.00  0.00    +0.094 C \n",
      "ATOM      3  C   LIG     1       0.000  -0.164   0.000  0.00  0.00    +0.011 C \n",
      "ATOM      4  C   LIG     1       0.000  -0.164   0.000  0.00  0.00    +0.016 C \n",
      "ATOM      5  C   LIG     1       0.000  -0.164   0.000  0.00  0.00    +0.013 C \n",
      "ATOM      6  C   LIG     1       0.000  -0.164   0.000  0.00  0.00    +0.088 C \n",
      "ENDROOT\n",
      "BRANCH   1   7\n",
      "ATOM      7  C   LIG     1       0.000  -0.164   0.000  0.00  0.00    +0.118 C \n",
      "BRANCH   7   8\n",
      "ATOM      8  C   LIG     1       0.000  -0.164   0.000  0.00  0.00    +0.154 C \n",
      "BRANCH   8   9\n",
      "ATOM      9  O   LIG     1       0.000  -0.164   0.000  0.00  0.00    -0.388 OA\n",
      "ATOM     10  H   LIG     1       0.001  -1.779   0.002  0.00  0.00    +0.210 HD\n",
      "ENDBRANCH   8   9\n",
      "BRANCH   8  11\n",
      "ATOM     11  C   LIG     1       0.000  -0.164   0.000  0.00  0.00    +0.188 C \n",
      "BRANCH  11  12\n",
      "ATOM     12  O   LIG     1       0.000  -0.164   0.000  0.00  0.00    -0.392 OA\n",
      "ATOM     13  H   LIG     1       0.000  -0.153   0.000  0.00  0.00    +0.210 HD\n",
      "ENDBRANCH  11  12\n",
      "ENDBRANCH   8  11\n",
      "ENDBRANCH   7   8\n",
      "ENDBRANCH   1   7\n",
      "BRANCH   3  14\n",
      "ATOM     14  C   LIG     1       0.000  -0.164   0.000  0.00  0.00    +0.164 C \n",
      "BRANCH  14  15\n",
      "ATOM     15  O   LIG     1       0.007   1.497   0.015  0.00  0.00    -0.394 OA\n",
      "ATOM     16  H   LIG     1       0.000  -0.123   0.000  0.00  0.00    +0.209 HD\n",
      "ENDBRANCH  14  15\n",
      "ENDBRANCH   3  14\n",
      "TORSDOF 7\n",
      "\n",
      "\n",
      "\n",
      "\n",
      "\n",
      "\n",
      "\n",
      "\n",
      "REMARK    Small molecule (ligand)\n",
      "REMARK    Compound: Z3133126946_1_T1\n",
      "REMARK    SMILES: NC[C@H](O)CC(=O)N[C@@H]1[C@H]2C[C@H]1NC2\n",
      "REMARK    The ligand was originally not a salt, therefore no desalting was carried out.\n",
      "REMARK    The tautomeric state was generated by cxcalc version 18.20.0 of ChemAxons JChem Suite.\n",
      "REMARK    Protonation state was generated at pH 7.4 by cxcalc version 18.20.0 of ChemAxons JChem Suite.\n",
      "REMARK    Generation of the 3D conformation was carried out by Open Babel version 2.4.1\n",
      "REMARK    Generation of the the target format file (pdbqt) was carried out by Open Babel version 2.4.1.\n",
      "REMARK    Created on Sun Nov  4 18:18:25 EST 2018\n",
      "REMARK  7 active torsions:\n",
      "REMARK  status: ('A' for Active; 'I' for Inactive)\n",
      "REMARK    1  A    between atoms: _1  and  _2\n",
      "REMARK    2  A    between atoms: _2  and  _3\n",
      "REMARK    3  A    between atoms: _3  and  _5\n",
      "REMARK    4  A    between atoms: _3  and  _6\n",
      "REMARK    5  A    between atoms: _6  and  _7\n",
      "REMARK    6  A    between atoms: _7  and  _9\n",
      "REMARK    7  A    between atoms: _9  and  _10\n",
      "REMARK                            x       y       z     vdW  Elec       q    Type\n",
      "REMARK                         _______ _______ _______ _____ _____    ______ ____\n",
      "ROOT\n",
      "ATOM      1  C   LIG     1       0.000   0.000   0.000  0.00  0.00    +0.203 C \n",
      "ATOM      2  O   LIG     1       0.000   0.000   0.000  0.00  0.00    -0.206 OA\n",
      "ENDROOT\n",
      "BRANCH   1   3\n",
      "ATOM      3  N   LIG     1       0.000   0.000   0.000  0.00  0.00    -0.278 NA\n",
      "ATOM      4  H   LIG     1      -0.020  -0.109   1.091  0.00  0.00    +0.125 HD\n",
      "BRANCH   3   5\n",
      "ATOM      5  C   LIG     1      -0.008  -0.008   1.454  0.00  0.00    +0.078 C \n",
      "ATOM      6  C   LIG     1       0.000   0.000   0.000  0.00  0.00    +0.071 C \n",
      "ATOM      7  N   LIG     1       0.000   0.000   0.000  0.00  0.00    -0.311 NA\n",
      "ATOM      8  H   LIG     1       0.000   0.000   0.000  0.00  0.00    +0.122 HD\n",
      "ATOM      9  C   LIG     1       1.001   0.234  -0.921  0.00  0.00    +0.086 C \n",
      "ATOM     10  C   LIG     1       0.000   0.000   0.000  0.00  0.00    +0.026 C \n",
      "ATOM     11  C   LIG     1       0.000   0.000   0.000  0.00  0.00    +0.023 C \n",
      "ENDBRANCH   3   5\n",
      "ENDBRANCH   1   3\n",
      "BRANCH   1  12\n",
      "ATOM     12  C   LIG     1       0.000   0.000   0.000  0.00  0.00    +0.091 C \n",
      "BRANCH  12  13\n",
      "ATOM     13  C   LIG     1       0.000   0.000   0.000  0.00  0.00    +0.132 C \n",
      "BRANCH  13  14\n",
      "ATOM     14  O   LIG     1       0.000   0.000   0.000  0.00  0.00    -0.390 OA\n",
      "ATOM     15  H   LIG     1      -0.170  -0.930   0.806  0.00  0.00    +0.210 HD\n",
      "ENDBRANCH  13  14\n",
      "BRANCH  13  16\n",
      "ATOM     16  C   LIG     1       0.000   0.000   0.000  0.00  0.00    +0.109 C \n",
      "BRANCH  16  17\n",
      "ATOM     17  N   LIG     1       0.000   0.000   0.000  0.00  0.00    -0.328 NA\n",
      "ATOM     18  H   LIG     1       0.000   0.000   0.000  0.00  0.00    +0.118 HD\n",
      "ATOM     19  H   LIG     1       0.000   0.000   0.000  0.00  0.00    +0.118 HD\n",
      "ENDBRANCH  16  17\n",
      "ENDBRANCH  13  16\n",
      "ENDBRANCH  12  13\n",
      "ENDBRANCH   1  12\n",
      "TORSDOF 7\n",
      "\n",
      "REMARK    Small molecule (ligand)\n",
      "REMARK    Compound: Z3133126946_4_T1\n",
      "REMARK    SMILES: NC[C@@H](O)CC(=O)N[C@H]1[C@H]2C[C@H]1NC2\n",
      "REMARK    The ligand was originally not a salt, therefore no desalting was carried out.\n",
      "REMARK    The tautomeric state was generated by cxcalc version 18.20.0 of ChemAxons JChem Suite.\n",
      "REMARK    Protonation state was generated at pH 7.4 by cxcalc version 18.20.0 of ChemAxons JChem Suite.\n",
      "REMARK    Generation of the 3D conformation was carried out by Open Babel version 2.4.1\n",
      "REMARK    Generation of the the target format file (pdbqt) was carried out by Open Babel version 2.4.1.\n",
      "REMARK    Created on Sun Nov  4 18:18:20 EST 2018\n",
      "REMARK  7 active torsions:\n",
      "REMARK  status: ('A' for Active; 'I' for Inactive)\n",
      "REMARK    1  A    between atoms: _1  and  _2\n",
      "REMARK    2  A    between atoms: _2  and  _3\n",
      "REMARK    3  A    between atoms: _3  and  _5\n",
      "REMARK    4  A    between atoms: _3  and  _6\n",
      "REMARK    5  A    between atoms: _6  and  _7\n",
      "REMARK    6  A    between atoms: _7  and  _9\n",
      "REMARK    7  A    between atoms: _9  and  _10\n",
      "REMARK                            x       y       z     vdW  Elec       q    Type\n",
      "REMARK                         _______ _______ _______ _____ _____    ______ ____\n",
      "ROOT\n",
      "ATOM      1  C   LIG     1       0.000   0.000   0.000  0.00  0.00    +0.203 C \n",
      "ATOM      2  O   LIG     1       0.000   0.000   0.000  0.00  0.00    -0.206 OA\n",
      "ENDROOT\n",
      "BRANCH   1   3\n",
      "ATOM      3  N   LIG     1       0.000   0.000   0.000  0.00  0.00    -0.278 NA\n",
      "ATOM      4  H   LIG     1      -0.531  -0.690  -0.078  0.00  0.00    +0.125 HD\n",
      "BRANCH   3   5\n",
      "ATOM      5  C   LIG     1       0.044  -0.083   1.155  0.00  0.00    +0.078 C \n",
      "ATOM      6  C   LIG     1       0.000   0.000   0.000  0.00  0.00    +0.071 C \n",
      "ATOM      7  N   LIG     1       0.000   0.000   0.000  0.00  0.00    -0.311 NA\n",
      "ATOM      8  H   LIG     1       0.000   0.000   0.000  0.00  0.00    +0.122 HD\n",
      "ATOM      9  C   LIG     1      -0.824   0.378   1.342  0.00  0.00    +0.086 C \n",
      "ATOM     10  C   LIG     1       0.000   0.000   0.000  0.00  0.00    +0.026 C \n",
      "ATOM     11  C   LIG     1       0.000   0.000   0.000  0.00  0.00    +0.023 C \n",
      "ENDBRANCH   3   5\n",
      "ENDBRANCH   1   3\n",
      "BRANCH   1  12\n",
      "ATOM     12  C   LIG     1       0.000   0.000   0.000  0.00  0.00    +0.091 C \n",
      "BRANCH  12  13\n",
      "ATOM     13  C   LIG     1       0.000   0.000   0.000  0.00  0.00    +0.132 C \n",
      "BRANCH  13  14\n",
      "ATOM     14  O   LIG     1       0.000   0.000   0.000  0.00  0.00    -0.390 OA\n",
      "ATOM     15  H   LIG     1      -0.370   1.456   1.395  0.00  0.00    +0.210 HD\n",
      "ENDBRANCH  13  14\n",
      "BRANCH  13  16\n",
      "ATOM     16  C   LIG     1       0.000   0.000   0.000  0.00  0.00    +0.109 C \n",
      "BRANCH  16  17\n",
      "ATOM     17  N   LIG     1       0.000   0.000   0.000  0.00  0.00    -0.328 NA\n",
      "ATOM     18  H   LIG     1       0.000   0.000   0.000  0.00  0.00    +0.118 HD\n",
      "ATOM     19  H   LIG     1       0.000   0.000   0.000  0.00  0.00    +0.118 HD\n",
      "ENDBRANCH  16  17\n",
      "ENDBRANCH  13  16\n",
      "ENDBRANCH  12  13\n",
      "ENDBRANCH   1  12\n",
      "TORSDOF 7\n",
      "\n",
      "REMARK    Small molecule (ligand)\n",
      "REMARK    Compound: Z2843066304_3_T1\n",
      "REMARK    SMILES: Cn1nnc(CN2C[C@@H]3C[C@@]3(O)C2)n1\n",
      "REMARK    The ligand was originally not a salt, therefore no desalting was carried out.\n",
      "REMARK    The tautomeric state was generated by cxcalc version 18.20.0 of ChemAxons JChem Suite.\n",
      "REMARK    Protonation state was generated at pH 7.4 by cxcalc version 18.20.0 of ChemAxons JChem Suite.\n",
      "REMARK    Generation of the 3D conformation was carried out by Open Babel version 2.4.1\n",
      "REMARK    Generation of the the target format file (pdbqt) was carried out by Open Babel version 2.4.1.\n",
      "REMARK    Created on Sun Nov  4 18:41:55 EST 2018\n",
      "REMARK  4 active torsions:\n",
      "REMARK  status: ('A' for Active; 'I' for Inactive)\n",
      "REMARK    1  A    between atoms: _1  and  _2\n",
      "REMARK    2  A    between atoms: _5  and  _6\n",
      "REMARK    3  A    between atoms: _6  and  _7\n",
      "REMARK    4  A    between atoms: _12  and  _13\n",
      "REMARK                            x       y       z     vdW  Elec       q    Type\n",
      "REMARK                         _______ _______ _______ _____ _____    ______ ____\n",
      "ROOT\n",
      "ATOM      1  N   LIG     1       0.000  -0.016   0.000  0.00  0.00    -0.295 NA\n",
      "ATOM      2  C   LIG     1       0.000   1.267   0.000  0.00  0.00    +0.119 C \n",
      "ATOM      3  C   LIG     1       0.000  -0.016   0.000  0.00  0.00    +0.083 C \n",
      "ATOM      4  C   LIG     1       0.000  -0.016   0.000  0.00  0.00    +0.044 C \n",
      "ATOM      5  C   LIG     1       0.000  -0.016   0.000  0.00  0.00    +0.039 C \n",
      "ATOM      6  C   LIG     1       0.000  -0.016   0.000  0.00  0.00    +0.091 C \n",
      "ENDROOT\n",
      "BRANCH   3   7\n",
      "ATOM      7  O   LIG     1       0.000  -0.016   0.000  0.00  0.00    -0.387 OA\n",
      "ATOM      8  H   LIG     1       0.000   0.000   0.000  0.00  0.00    +0.210 HD\n",
      "ENDBRANCH   3   7\n",
      "BRANCH   1   9\n",
      "ATOM      9  C   LIG     1       0.000  -0.016   0.000  0.00  0.00    +0.140 C \n",
      "BRANCH   9  13\n",
      "ATOM     10  C   LIG     1       0.000  -0.016   0.000  0.00  0.00    +0.177 C \n",
      "ATOM     11  N   LIG     1       0.000  -0.016   0.000  0.00  0.00    -0.154 N \n",
      "ATOM     12  N   LIG     1       0.000  -0.016   0.000  0.00  0.00    -0.087 NA\n",
      "ATOM     13  C   LIG     1       0.000  -0.016   0.000  0.00  0.00    +0.226 C \n",
      "ATOM     14  N   LIG     1       0.000  -0.016   0.000  0.00  0.00    -0.139 NA\n",
      "ATOM     15  N   LIG     1       0.000  -0.016   0.000  0.00  0.00    -0.065 NA\n",
      "ENDBRANCH   9  13\n",
      "ENDBRANCH   1   9\n",
      "TORSDOF 3\n",
      "\n"
     ]
    }
   ],
   "source": [
    "df_fp.head()\n",
    "df_pdbqt.head()\n",
    "df_error = df_pdbqt.append(pd.DataFrame.merge(df_fp, df_pdbqt)).drop_duplicates(keep=False).reset_index(drop=True)\n",
    "# for i in df_error[0\n",
    "# ]:\n",
    "paths = []\n",
    "for i in df_error[0]:\n",
    "    paths.extend(glob.glob(r'./tmp626uhmgx/**/{}.pdbqt'.format(i), recursive=True))\n",
    "for path in paths:\n",
    "    with open(path, 'r') as f:\n",
    "        print(f.read())"
   ],
   "metadata": {
    "collapsed": false,
    "pycharm": {
     "name": "#%%\n"
    }
   }
  },
  {
   "cell_type": "code",
   "execution_count": 61,
   "outputs": [
    {
     "data": {
      "text/plain": "['./tmp626uhmgx\\\\AABBAC\\\\00000\\\\Z2499112464_1_T1.pdbqt',\n './tmp626uhmgx\\\\AABBAD\\\\00000\\\\Z2916152125_3_T1.pdbqt',\n './tmp626uhmgx\\\\AABCAD\\\\00000\\\\Z2173929911_2_T1.pdbqt',\n './tmp626uhmgx\\\\AABCAD\\\\00000\\\\Z2920307585_2_T1.pdbqt',\n './tmp626uhmgx\\\\AABCAE\\\\00000\\\\Z2801459431_4_T1.pdbqt',\n './tmp626uhmgx\\\\AABCAE\\\\00000\\\\Z3137795513_1_T1.pdbqt',\n './tmp626uhmgx\\\\AABCBC\\\\00000\\\\Z2772959294_3_T1.pdbqt',\n './tmp626uhmgx\\\\AABCBC\\\\00000\\\\Z2843053941_2_T1.pdbqt',\n './tmp626uhmgx\\\\AABCBD\\\\00001\\\\Z2843053632_6_T1.pdbqt',\n './tmp626uhmgx\\\\AABDBC\\\\00000\\\\Z2827197829_8_T1.pdbqt',\n './tmp626uhmgx\\\\AABDBD\\\\00000\\\\Z2726614023_1_T1.pdbqt',\n './tmp626uhmgx\\\\AABDBD\\\\00000\\\\Z2995999308_7_T1.pdbqt',\n './tmp626uhmgx\\\\AABDCE\\\\00000\\\\Z2711168684_1_T1.pdbqt',\n './tmp626uhmgx\\\\AABDCE\\\\00000\\\\Z2711168684_2_T1.pdbqt',\n './tmp626uhmgx\\\\AABDCE\\\\00000\\\\Z2712630551_1_T1.pdbqt',\n './tmp626uhmgx\\\\AACBAD\\\\00000\\\\Z2827237594_8_T1.pdbqt',\n './tmp626uhmgx\\\\AACBAD\\\\00000\\\\Z2827237605_4_T1.pdbqt',\n './tmp626uhmgx\\\\AACCAE\\\\00000\\\\Z2792086264_1_T1.pdbqt',\n './tmp626uhmgx\\\\AACCAE\\\\00000\\\\Z2792086264_2_T1.pdbqt',\n './tmp626uhmgx\\\\AACDAF\\\\00000\\\\Z1328650828_2_T9.pdbqt',\n './tmp626uhmgx\\\\AACDBD\\\\00000\\\\Z3133425192_2_T1.pdbqt',\n './tmp626uhmgx\\\\AACDBE\\\\00000\\\\Z1578728933_2_T9.pdbqt',\n './tmp626uhmgx\\\\AACDBE\\\\00000\\\\Z2843052856_2_T1.pdbqt',\n './tmp626uhmgx\\\\AACDCD\\\\00000\\\\Z2827184137_2_T1.pdbqt',\n './tmp626uhmgx\\\\AACDCD\\\\00000\\\\Z2949131235_3_T1.pdbqt',\n './tmp626uhmgx\\\\AACEAE\\\\00000\\\\Z2720321112_2_T2.pdbqt',\n './tmp626uhmgx\\\\AACEAE\\\\00000\\\\Z2720321112_2_T6.pdbqt',\n './tmp626uhmgx\\\\AACEAF\\\\00000\\\\Z1328638412_2_T9.pdbqt',\n './tmp626uhmgx\\\\AACEBD\\\\00000\\\\Z2218162966_2_T9.pdbqt',\n './tmp626uhmgx\\\\AACEBE\\\\00000\\\\Z1337415634_2_T9.pdbqt',\n './tmp626uhmgx\\\\AACEBE\\\\00000\\\\Z1607038625_2_T9.pdbqt',\n './tmp626uhmgx\\\\AACEBE\\\\00000\\\\Z1675316233_2_T9.pdbqt',\n './tmp626uhmgx\\\\AACECE\\\\00000\\\\Z3133126946_1_T1.pdbqt',\n './tmp626uhmgx\\\\AACECE\\\\00000\\\\Z3133126946_4_T1.pdbqt',\n './tmp626uhmgx\\\\AADBBD\\\\00000\\\\Z2843066304_3_T1.pdbqt']"
     },
     "execution_count": 61,
     "metadata": {},
     "output_type": "execute_result"
    }
   ],
   "source": [
    "paths"
   ],
   "metadata": {
    "collapsed": false,
    "pycharm": {
     "name": "#%%\n"
    }
   }
  }
 ],
 "metadata": {
  "kernelspec": {
   "display_name": "Python 3",
   "language": "python",
   "name": "python3"
  },
  "language_info": {
   "codemirror_mode": {
    "name": "ipython",
    "version": 2
   },
   "file_extension": ".py",
   "mimetype": "text/x-python",
   "name": "python",
   "nbconvert_exporter": "python",
   "pygments_lexer": "ipython2",
   "version": "2.7.6"
  }
 },
 "nbformat": 4,
 "nbformat_minor": 0
}