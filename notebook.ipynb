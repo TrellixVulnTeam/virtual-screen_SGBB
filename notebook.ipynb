{
 "cells": [
  {
   "cell_type": "code",
   "execution_count": 2,
   "metadata": {
    "collapsed": true
   },
   "outputs": [],
   "source": [
    "import tarfile\n",
    "import os\n",
    "import pandas as pd\n",
    "from loguru import logger"
   ]
  },
  {
   "cell_type": "code",
   "execution_count": 3,
   "outputs": [],
   "source": [
    "\"\"\"path\"\"\"\n",
    "\n",
    "WORK_DIR = os.path.curdir\n",
    "DEBUG_DIR = os.path.join(WORK_DIR,'debug')\n",
    "# @TODO argparse data path\n",
    "\n",
    "\n",
    "\"\"\"FOR DEBUG\"\"\"\n",
    "DATA_ROOT = os.path.join(DEBUG_DIR,'example')\n",
    "TMP_DIR = os.path.join(DEBUG_DIR,'tmp')\n",
    "if not os.path.isdir(TMP_DIR):\n",
    "    os.makedirs(TMP_DIR)\n",
    "OUT_DIR = os.path.join(DEBUG_DIR,'output')\n"
   ],
   "metadata": {
    "collapsed": false,
    "pycharm": {
     "name": "#%%\n"
    }
   }
  },
  {
   "cell_type": "code",
   "execution_count": 7,
   "outputs": [
    {
     "name": "stderr",
     "output_type": "stream",
     "text": [
      "2022-06-27 16:38:37.927 | DEBUG    | __main__:<cell line: 13>:14 - debug data directory: .\\debug\n"
     ]
    }
   ],
   "source": [
    "\"\"\"logging\"\"\"\n",
    "\n",
    "DEBUG = True\n",
    "\n",
    "LOG_DIR = os.path.join(WORK_DIR,'log')\n",
    "if not os.path.exists(LOG_DIR):\n",
    "    os.makedirs(LOG_DIR)\n",
    "\n",
    "LOG_FILE = os.path.join(LOG_DIR,'debug_{time}.log')\n",
    "\n",
    "logger.add(LOG_FILE,retention=2)\n",
    "\n",
    "if DEBUG:\n",
    "    logger.debug('debug data directory: {}'.format(DEBUG_DIR))"
   ],
   "metadata": {
    "collapsed": false,
    "pycharm": {
     "name": "#%%\n"
    }
   }
  },
  {
   "cell_type": "markdown",
   "source": [
    "import tarfile\n",
    "\n",
    "dir_1 = './debug/example/AA/'\n",
    "tar_1 = os.path.join(dir_1, 'AABAAC.tar')\n",
    "dir_2 = os.path.join(TMP_DIR, 'AABAAC')\n",
    "tar_2_gz =  os.path.join(dir_2, '00000.tar.gz')\n",
    "\n",
    "with  tarfile.open(tar_1) as tar:\n",
    "    tar.extractall(TMP_DIR)\n",
    "    names = tar.getnames()\n"
   ],
   "metadata": {
    "collapsed": false,
    "pycharm": {
     "name": "#%% md\n"
    }
   }
  },
  {
   "cell_type": "code",
   "execution_count": 22,
   "outputs": [
    {
     "name": "stderr",
     "output_type": "stream",
     "text": [
      "100%|██████████| 204/204 [00:18<00:00, 11.08it/s]\n"
     ]
    }
   ],
   "source": [
    "from tqdm import tqdm\n",
    "\n",
    "for d in os.listdir(DATA_ROOT):\n",
    "    # d: \"AA\"\n",
    "    d_path = os.path.join(DATA_ROOT,d)\n",
    "    for f in tqdm(os.listdir(d_path)):\n",
    "        # f: \"AABAAC.tar\"\n",
    "        # if i == 2: break\n",
    "        \"\"\"critical section\"\"\"\n",
    "        with tarfile.open(os.path.join(d_path,f)) as tf:\n",
    "            names = tf.getnames()\n",
    "            # name: \"AABAAC/00000.tar.gz,....\"\n",
    "            tf.extractall(TMP_DIR)\n",
    "            # to \"tmp/AABAAC/00000.tar.gz\"\n",
    "\n",
    "        for name in names:\n",
    "            # name: \"AABAAC\"\n",
    "            dirname = os.path.dirname(name)\n",
    "            with tarfile.open(os.path.join(TMP_DIR, name)) as tf:\n",
    "                tf.extractall(os.path.join(TMP_DIR, dirname))"
   ],
   "metadata": {
    "collapsed": false,
    "pycharm": {
     "name": "#%%\n"
    }
   }
  },
  {
   "cell_type": "code",
   "execution_count": 9,
   "outputs": [],
   "source": [
    "\n",
    "from openbabel import openbabel\n",
    "\n",
    "def file_convert(inputFile, outputFile, inFormat='pdbqt', outFormat='sdf')\n",
    "    conv= openbabel.OBConversion(\"debug/tmp/AABABD/00000/Z18500480_1_T1.pdbqt\", \"debug/Z18500480_1_T1.smiles\")\n",
    "    conv.OpenInAndOutFiles(\"pdbqt\",\"smiles\")\n",
    "    conv.Convert()\n",
    "    conv.CloseOutFile()"
   ],
   "metadata": {
    "collapsed": false,
    "pycharm": {
     "name": "#%%\n"
    }
   }
  },
  {
   "cell_type": "code",
   "execution_count": 20,
   "outputs": [
    {
     "data": {
      "text/plain": "'Z18500480_1_T1.smiles'"
     },
     "execution_count": 20,
     "metadata": {},
     "output_type": "execute_result"
    }
   ],
   "source": [
    "input_file = \"debug/tmp/AABABD/00000/Z18500480_1_T1.pdbqt\"\n",
    "os.path.dirname(input_file)\n",
    "os.path.splitext(os.path.basename(input_file))[0]+'.smiles'\n",
    "\n",
    "# os.path.ex"
   ],
   "metadata": {
    "collapsed": false,
    "pycharm": {
     "name": "#%%\n"
    }
   }
  },
  {
   "cell_type": "code",
   "execution_count": 21,
   "outputs": [],
   "source": [
    "from openbabel import openbabel, pybel\n",
    "\n",
    "mol = openbabel.OBMol()\n",
    "a = mol.NewAtom()\n",
    "a.SetAtomicNum(6)   # carbon atom\n",
    "a.SetVector(0.0, 1.0, 2.0) # coordinates\n",
    "b = mol.NewAtom()\n",
    "mol.AddBond(1, 2, 1)   # atoms indexed from 1\n",
    "\n",
    "pybelmol = pybel.Molecule(mol)\n",
    "pybelmol.write(\"sdf\", \"outputfile.sdf\")"
   ],
   "metadata": {
    "collapsed": false,
    "pycharm": {
     "name": "#%%\n"
    }
   }
  }
 ],
 "metadata": {
  "kernelspec": {
   "display_name": "Python 3",
   "language": "python",
   "name": "python3"
  },
  "language_info": {
   "codemirror_mode": {
    "name": "ipython",
    "version": 2
   },
   "file_extension": ".py",
   "mimetype": "text/x-python",
   "name": "python",
   "nbconvert_exporter": "python",
   "pygments_lexer": "ipython2",
   "version": "2.7.6"
  }
 },
 "nbformat": 4,
 "nbformat_minor": 0
}