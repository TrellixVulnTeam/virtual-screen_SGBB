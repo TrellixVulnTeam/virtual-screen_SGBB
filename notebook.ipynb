{
 "cells": [
  {
   "cell_type": "code",
   "execution_count": 1,
   "metadata": {
    "collapsed": true
   },
   "outputs": [],
   "source": [
    "import tarfile\n",
    "import os\n",
    "import pandas as pd\n",
    "from loguru import logger\n",
    "from openbabel import openbabel\n",
    "import rdkit.Chem as ch"
   ]
  },
  {
   "cell_type": "code",
   "execution_count": 37,
   "outputs": [
    {
     "ename": "ModuleNotFoundError",
     "evalue": "No module named 'win32_setctime'",
     "output_type": "error",
     "traceback": [
      "\u001B[1;31m---------------------------------------------------------------------------\u001B[0m",
      "\u001B[1;31mModuleNotFoundError\u001B[0m                       Traceback (most recent call last)",
      "\u001B[1;32m<ipython-input-37-e3b2b69d5df6>\u001B[0m in \u001B[0;36m<module>\u001B[1;34m\u001B[0m\n\u001B[0;32m     23\u001B[0m \u001B[0mLOG_FILE\u001B[0m \u001B[1;33m=\u001B[0m \u001B[0mos\u001B[0m\u001B[1;33m.\u001B[0m\u001B[0mpath\u001B[0m\u001B[1;33m.\u001B[0m\u001B[0mjoin\u001B[0m\u001B[1;33m(\u001B[0m\u001B[0mLOG_DIR\u001B[0m\u001B[1;33m,\u001B[0m\u001B[1;34m'debug_{time}.log'\u001B[0m\u001B[1;33m)\u001B[0m\u001B[1;33m\u001B[0m\u001B[1;33m\u001B[0m\u001B[0m\n\u001B[0;32m     24\u001B[0m \u001B[1;33m\u001B[0m\u001B[0m\n\u001B[1;32m---> 25\u001B[1;33m \u001B[0mlogger\u001B[0m\u001B[1;33m.\u001B[0m\u001B[0madd\u001B[0m\u001B[1;33m(\u001B[0m\u001B[0mLOG_FILE\u001B[0m\u001B[1;33m,\u001B[0m\u001B[0mretention\u001B[0m\u001B[1;33m=\u001B[0m\u001B[1;36m2\u001B[0m\u001B[1;33m)\u001B[0m\u001B[1;33m\u001B[0m\u001B[1;33m\u001B[0m\u001B[0m\n\u001B[0m\u001B[0;32m     26\u001B[0m \u001B[1;33m\u001B[0m\u001B[0m\n\u001B[0;32m     27\u001B[0m \u001B[1;32mif\u001B[0m \u001B[0mDEBUG\u001B[0m\u001B[1;33m:\u001B[0m\u001B[1;33m\u001B[0m\u001B[1;33m\u001B[0m\u001B[0m\n",
      "\u001B[1;32m~\\anaconda3\\envs\\20220624-virtual-clustering-py36\\lib\\site-packages\\loguru\\_logger.py\u001B[0m in \u001B[0;36madd\u001B[1;34m(self, sink, level, format, filter, colorize, serialize, backtrace, diagnose, enqueue, catch, **kwargs)\u001B[0m\n\u001B[0;32m    657\u001B[0m         \u001B[1;32melif\u001B[0m \u001B[0misinstance\u001B[0m\u001B[1;33m(\u001B[0m\u001B[0msink\u001B[0m\u001B[1;33m,\u001B[0m \u001B[1;33m(\u001B[0m\u001B[0mstr\u001B[0m\u001B[1;33m,\u001B[0m \u001B[0mPathLike\u001B[0m\u001B[1;33m)\u001B[0m\u001B[1;33m)\u001B[0m\u001B[1;33m:\u001B[0m\u001B[1;33m\u001B[0m\u001B[1;33m\u001B[0m\u001B[0m\n\u001B[0;32m    658\u001B[0m             \u001B[0mpath\u001B[0m \u001B[1;33m=\u001B[0m \u001B[0msink\u001B[0m\u001B[1;33m\u001B[0m\u001B[1;33m\u001B[0m\u001B[0m\n\u001B[1;32m--> 659\u001B[1;33m             \u001B[0msink\u001B[0m \u001B[1;33m=\u001B[0m \u001B[0mFileSink\u001B[0m\u001B[1;33m(\u001B[0m\u001B[0mpath\u001B[0m\u001B[1;33m,\u001B[0m \u001B[1;33m**\u001B[0m\u001B[0mkwargs\u001B[0m\u001B[1;33m)\u001B[0m\u001B[1;33m\u001B[0m\u001B[1;33m\u001B[0m\u001B[0m\n\u001B[0m\u001B[0;32m    660\u001B[0m             return self.add(\n\u001B[0;32m    661\u001B[0m                 \u001B[0msink\u001B[0m\u001B[1;33m,\u001B[0m\u001B[1;33m\u001B[0m\u001B[1;33m\u001B[0m\u001B[0m\n",
      "\u001B[1;32m~\\anaconda3\\envs\\20220624-virtual-clustering-py36\\lib\\site-packages\\loguru\\_file_sink.py\u001B[0m in \u001B[0;36m__init__\u001B[1;34m(self, path, rotation, retention, compression, delay, mode, buffering, encoding, **kwargs)\u001B[0m\n\u001B[0;32m     47\u001B[0m         \u001B[0mself\u001B[0m\u001B[1;33m.\u001B[0m\u001B[0m_glob_pattern\u001B[0m \u001B[1;33m=\u001B[0m \u001B[0mself\u001B[0m\u001B[1;33m.\u001B[0m\u001B[0m_make_glob_pattern\u001B[0m\u001B[1;33m(\u001B[0m\u001B[0mself\u001B[0m\u001B[1;33m.\u001B[0m\u001B[0m_path\u001B[0m\u001B[1;33m)\u001B[0m\u001B[1;33m\u001B[0m\u001B[1;33m\u001B[0m\u001B[0m\n\u001B[0;32m     48\u001B[0m         \u001B[0mself\u001B[0m\u001B[1;33m.\u001B[0m\u001B[0m_get_creation_time\u001B[0m \u001B[1;33m=\u001B[0m \u001B[0mself\u001B[0m\u001B[1;33m.\u001B[0m\u001B[0m_make_get_creation_time_function\u001B[0m\u001B[1;33m(\u001B[0m\u001B[1;33m)\u001B[0m\u001B[1;33m\u001B[0m\u001B[1;33m\u001B[0m\u001B[0m\n\u001B[1;32m---> 49\u001B[1;33m         \u001B[0mself\u001B[0m\u001B[1;33m.\u001B[0m\u001B[0m_set_creation_time\u001B[0m \u001B[1;33m=\u001B[0m \u001B[0mself\u001B[0m\u001B[1;33m.\u001B[0m\u001B[0m_make_set_creation_time_function\u001B[0m\u001B[1;33m(\u001B[0m\u001B[1;33m)\u001B[0m\u001B[1;33m\u001B[0m\u001B[1;33m\u001B[0m\u001B[0m\n\u001B[0m\u001B[0;32m     50\u001B[0m \u001B[1;33m\u001B[0m\u001B[0m\n\u001B[0;32m     51\u001B[0m         \u001B[0mself\u001B[0m\u001B[1;33m.\u001B[0m\u001B[0m_file\u001B[0m \u001B[1;33m=\u001B[0m \u001B[1;32mNone\u001B[0m\u001B[1;33m\u001B[0m\u001B[1;33m\u001B[0m\u001B[0m\n",
      "\u001B[1;32m~\\anaconda3\\envs\\20220624-virtual-clustering-py36\\lib\\site-packages\\loguru\\_file_sink.py\u001B[0m in \u001B[0;36m_make_set_creation_time_function\u001B[1;34m()\u001B[0m\n\u001B[0;32m    129\u001B[0m \u001B[1;33m\u001B[0m\u001B[0m\n\u001B[0;32m    130\u001B[0m         \u001B[1;32mif\u001B[0m \u001B[0mos\u001B[0m\u001B[1;33m.\u001B[0m\u001B[0mname\u001B[0m \u001B[1;33m==\u001B[0m \u001B[1;34m\"nt\"\u001B[0m\u001B[1;33m:\u001B[0m\u001B[1;33m\u001B[0m\u001B[1;33m\u001B[0m\u001B[0m\n\u001B[1;32m--> 131\u001B[1;33m             \u001B[1;32mimport\u001B[0m \u001B[0mwin32_setctime\u001B[0m\u001B[1;33m\u001B[0m\u001B[1;33m\u001B[0m\u001B[0m\n\u001B[0m\u001B[0;32m    132\u001B[0m \u001B[1;33m\u001B[0m\u001B[0m\n\u001B[0;32m    133\u001B[0m             \u001B[1;32mif\u001B[0m \u001B[0mwin32_setctime\u001B[0m\u001B[1;33m.\u001B[0m\u001B[0mSUPPORTED\u001B[0m\u001B[1;33m:\u001B[0m\u001B[1;33m\u001B[0m\u001B[1;33m\u001B[0m\u001B[0m\n",
      "\u001B[1;31mModuleNotFoundError\u001B[0m: No module named 'win32_setctime'"
     ]
    }
   ],
   "source": [
    "\"\"\"path\"\"\"\n",
    "\n",
    "WORK_DIR = os.path.curdir\n",
    "DEBUG_DIR = os.path.join(WORK_DIR,'debug')\n",
    "# @TODO argparse data path\n",
    "\n",
    "\n",
    "\"\"\"FOR DEBUG\"\"\"\n",
    "DATA_ROOT = os.path.join(DEBUG_DIR,'example')\n",
    "TMP_DIR = os.path.join(DEBUG_DIR,'tmp')\n",
    "if not os.path.isdir(TMP_DIR):\n",
    "    os.makedirs(TMP_DIR)\n",
    "OUT_DIR = os.path.join(DEBUG_DIR,'output')\n",
    "\n",
    "\"\"\"logging\"\"\"\n",
    "\n",
    "DEBUG = True\n",
    "\n",
    "LOG_DIR = os.path.join(WORK_DIR,'log')\n",
    "if not os.path.exists(LOG_DIR):\n",
    "    os.makedirs(LOG_DIR)\n",
    "\n",
    "LOG_FILE = os.path.join(LOG_DIR,'debug_{time}.log')\n",
    "\n",
    "logger.add(LOG_FILE,retention=2)\n",
    "\n",
    "if DEBUG:\n",
    "    logger.debug('debug data directory: {}'.format(DEBUG_DIR))"
   ],
   "metadata": {
    "collapsed": false,
    "pycharm": {
     "name": "#%%\n"
    }
   }
  },
  {
   "cell_type": "markdown",
   "source": [
    "# Timing"
   ],
   "metadata": {
    "collapsed": false,
    "pycharm": {
     "name": "#%% md\n"
    }
   }
  },
  {
   "cell_type": "code",
   "execution_count": 2,
   "outputs": [
    {
     "name": "stderr",
     "output_type": "stream",
     "text": [
      "2022-07-03 18:57:44.702 | INFO     | __main__:timing:6 - Started extract-tarfile\n",
      "2022-07-03 18:57:44.703 | INFO     | __main__:<module>:13 - finished\n",
      "2022-07-03 18:57:44.703 | INFO     | __main__:timing:10 - Finished extract-tarfile in 0.000 seconds\n"
     ]
    }
   ],
   "source": [
    "import time\n",
    "import contextlib\n",
    "\n",
    "@contextlib.contextmanager\n",
    "def timing(msg: str):\n",
    "    logger.info('Started {}'.format(msg))\n",
    "    tic = time.time()\n",
    "    yield\n",
    "    toc = time.time()\n",
    "    logger.info('Finished %s in %.3f seconds'%(msg, toc - tic))\n",
    "\n",
    "with timing(\"extract-tarfile\"):\n",
    "    logger.info(\"finished\")"
   ],
   "metadata": {
    "collapsed": false,
    "pycharm": {
     "name": "#%%\n"
    }
   }
  },
  {
   "cell_type": "markdown",
   "source": [
    "# Tar Extractor"
   ],
   "metadata": {
    "collapsed": false,
    "pycharm": {
     "name": "#%% md\n"
    }
   }
  },
  {
   "cell_type": "markdown",
   "source": [
    "import tarfile\n",
    "\n",
    "dir_1 = './debug/example/AA/'\n",
    "tar_1 = os.path.join(dir_1, 'AABAAC.tar')\n",
    "dir_2 = os.path.join(TMP_DIR, 'AABAAC')\n",
    "tar_2_gz =  os.path.join(dir_2, '00000.tar.gz')\n",
    "\n",
    "with  tarfile.open(tar_1) as tar:\n",
    "    tar.extractall(TMP_DIR)\n",
    "    names = tar.getnames()\n"
   ],
   "metadata": {
    "collapsed": false
   }
  },
  {
   "cell_type": "code",
   "execution_count": 22,
   "outputs": [
    {
     "name": "stderr",
     "output_type": "stream",
     "text": [
      "100%|██████████| 204/204 [00:18<00:00, 11.08it/s]\n"
     ]
    }
   ],
   "source": [
    "from tqdm import tqdm\n",
    "\n",
    "for d in os.listdir(DATA_ROOT):\n",
    "    # d: \"AA\"\n",
    "    d_path = os.path.join(DATA_ROOT,d)\n",
    "    for f in tqdm(os.listdir(d_path)):\n",
    "        # f: \"AABAAC.tar\"\n",
    "        # if i == 2: break\n",
    "        \"\"\"critical section\"\"\"\n",
    "        with tarfile.open(os.path.join(d_path,f)) as tf:\n",
    "            names = tf.getnames()\n",
    "            # name: \"AABAAC/00000.tar.gz,....\"\n",
    "            tf.extractall(TMP_DIR)\n",
    "            # to \"tmp/AABAAC/00000.tar.gz\"\n",
    "\n",
    "        for name in names:\n",
    "            # name: \"AABAAC\"\n",
    "            dirname = os.path.dirname(name)\n",
    "            with tarfile.open(os.path.join(TMP_DIR, name)) as tf:\n",
    "                tf.extractall(os.path.join(TMP_DIR, dirname))"
   ],
   "metadata": {
    "collapsed": false,
    "pycharm": {
     "name": "#%%\n"
    }
   }
  },
  {
   "cell_type": "markdown",
   "source": [
    "# Format Converter"
   ],
   "metadata": {
    "collapsed": false,
    "pycharm": {
     "name": "#%% md\n"
    }
   }
  },
  {
   "cell_type": "code",
   "execution_count": 39,
   "outputs": [],
   "source": [
    "\n",
    "import openbabel\n",
    "def file_convert(inputFile, outputFile, inFormat='pdbqt', outFormat='sdf'):\n",
    "    conv= openbabel.OBConversion(\"debug/tmp/AABABD/00000/Z18500480_1_T1.pdbqt\", \"debug/Z18500480_1_T1.smiles\")\n",
    "    conv.OpenInAndOutFiles(\"pdbqt\",\"smiles\")\n",
    "    conv.Convert()\n",
    "    conv.CloseOutFile()"
   ],
   "metadata": {
    "collapsed": false,
    "pycharm": {
     "name": "#%%\n"
    }
   }
  },
  {
   "cell_type": "code",
   "execution_count": 20,
   "outputs": [
    {
     "data": {
      "text/plain": "'Z18500480_1_T1.smiles'"
     },
     "execution_count": 20,
     "metadata": {},
     "output_type": "execute_result"
    }
   ],
   "source": [
    "input_file = \"debug/tmp/AABABD/00000/Z18500480_1_T1.pdbqt\"\n",
    "os.path.dirname(input_file)\n",
    "os.path.splitext(os.path.basename(input_file))[0]+'.smiles'\n",
    "\n",
    "# os.path.ex"
   ],
   "metadata": {
    "collapsed": false,
    "pycharm": {
     "name": "#%%\n"
    }
   }
  },
  {
   "cell_type": "code",
   "execution_count": 12,
   "outputs": [
    {
     "ename": "OSError",
     "evalue": "outputfile.sdf already exists. Use 'overwrite=True' to overwrite it.",
     "output_type": "error",
     "traceback": [
      "\u001B[1;31m---------------------------------------------------------------------------\u001B[0m",
      "\u001B[1;31mOSError\u001B[0m                                   Traceback (most recent call last)",
      "\u001B[1;32m<ipython-input-12-d1470ff19811>\u001B[0m in \u001B[0;36m<module>\u001B[1;34m\u001B[0m\n\u001B[0;32m      9\u001B[0m \u001B[1;33m\u001B[0m\u001B[0m\n\u001B[0;32m     10\u001B[0m \u001B[0mpybelmol\u001B[0m \u001B[1;33m=\u001B[0m \u001B[0mpybel\u001B[0m\u001B[1;33m.\u001B[0m\u001B[0mMolecule\u001B[0m\u001B[1;33m(\u001B[0m\u001B[0mmol\u001B[0m\u001B[1;33m)\u001B[0m\u001B[1;33m\u001B[0m\u001B[1;33m\u001B[0m\u001B[0m\n\u001B[1;32m---> 11\u001B[1;33m \u001B[0mpybelmol\u001B[0m\u001B[1;33m.\u001B[0m\u001B[0mwrite\u001B[0m\u001B[1;33m(\u001B[0m\u001B[1;34m\"sdf\"\u001B[0m\u001B[1;33m,\u001B[0m \u001B[1;34m\"outputfile.sdf\"\u001B[0m\u001B[1;33m)\u001B[0m\u001B[1;33m\u001B[0m\u001B[1;33m\u001B[0m\u001B[0m\n\u001B[0m",
      "\u001B[1;32m~\\anaconda3\\envs\\20220624-virtual-clustering-py36\\lib\\site-packages\\pybel.py\u001B[0m in \u001B[0;36mwrite\u001B[1;34m(self, format, filename, overwrite, opt)\u001B[0m\n\u001B[0;32m    537\u001B[0m             \u001B[1;32mif\u001B[0m \u001B[1;32mnot\u001B[0m \u001B[0moverwrite\u001B[0m \u001B[1;32mand\u001B[0m \u001B[0mos\u001B[0m\u001B[1;33m.\u001B[0m\u001B[0mpath\u001B[0m\u001B[1;33m.\u001B[0m\u001B[0misfile\u001B[0m\u001B[1;33m(\u001B[0m\u001B[0mfilename\u001B[0m\u001B[1;33m)\u001B[0m\u001B[1;33m:\u001B[0m\u001B[1;33m\u001B[0m\u001B[1;33m\u001B[0m\u001B[0m\n\u001B[0;32m    538\u001B[0m                 raise IOError((\"%s already exists. Use 'overwrite=True' to \"\n\u001B[1;32m--> 539\u001B[1;33m                                \"overwrite it.\") % filename)\n\u001B[0m\u001B[0;32m    540\u001B[0m             \u001B[0mobconversion\u001B[0m\u001B[1;33m.\u001B[0m\u001B[0mWriteFile\u001B[0m\u001B[1;33m(\u001B[0m\u001B[0mself\u001B[0m\u001B[1;33m.\u001B[0m\u001B[0mOBMol\u001B[0m\u001B[1;33m,\u001B[0m \u001B[0mfilename\u001B[0m\u001B[1;33m)\u001B[0m\u001B[1;33m\u001B[0m\u001B[1;33m\u001B[0m\u001B[0m\n\u001B[0;32m    541\u001B[0m             \u001B[0mobconversion\u001B[0m\u001B[1;33m.\u001B[0m\u001B[0mCloseOutFile\u001B[0m\u001B[1;33m(\u001B[0m\u001B[1;33m)\u001B[0m\u001B[1;33m\u001B[0m\u001B[1;33m\u001B[0m\u001B[0m\n",
      "\u001B[1;31mOSError\u001B[0m: outputfile.sdf already exists. Use 'overwrite=True' to overwrite it."
     ]
    }
   ],
   "source": [
    "import openbabel,pybel\n",
    "\n",
    "mol = openbabel.OBMol()\n",
    "a = mol.NewAtom()\n",
    "a.SetAtomicNum(6)   # carbon atom\n",
    "a.SetVector(0.0, 1.0, 2.0) # coordinates\n",
    "b = mol.NewAtom()\n",
    "mol.AddBond(1, 2, 1)   # atoms indexed from 1\n",
    "\n",
    "pybelmol = pybel.Molecule(mol)\n",
    "pybelmol.write(\"sdf\", \"outputfile.sdf\")"
   ],
   "metadata": {
    "collapsed": false,
    "pycharm": {
     "name": "#%%\n"
    }
   }
  },
  {
   "cell_type": "code",
   "execution_count": 31,
   "outputs": [
    {
     "name": "stderr",
     "output_type": "stream",
     "text": [
      "2022-07-01 20:51:37.121 | INFO     | __main__:timing:6 - Started parallel\n"
     ]
    },
    {
     "ename": "BrokenProcessPool",
     "evalue": "A child process terminated abruptly, the process pool is not usable anymore",
     "output_type": "error",
     "traceback": [
      "\u001B[1;31m---------------------------------------------------------------------------\u001B[0m",
      "\u001B[1;31mBrokenProcessPool\u001B[0m                         Traceback (most recent call last)",
      "Input \u001B[1;32mIn [31]\u001B[0m, in \u001B[0;36m<cell line: 9>\u001B[1;34m()\u001B[0m\n\u001B[0;32m     10\u001B[0m \u001B[38;5;28;01mwith\u001B[39;00m futures\u001B[38;5;241m.\u001B[39mProcessPoolExecutor(\u001B[38;5;241m1\u001B[39m) \u001B[38;5;28;01mas\u001B[39;00m executor:\n\u001B[0;32m     11\u001B[0m     \u001B[38;5;28;01mfor\u001B[39;00m i \u001B[38;5;129;01min\u001B[39;00m \u001B[38;5;28mrange\u001B[39m(\u001B[38;5;241m100\u001B[39m, \u001B[38;5;241m5000\u001B[39m):\n\u001B[1;32m---> 12\u001B[0m         future \u001B[38;5;241m=\u001B[39m \u001B[43mexecutor\u001B[49m\u001B[38;5;241;43m.\u001B[39;49m\u001B[43msubmit\u001B[49m\u001B[43m(\u001B[49m\u001B[43mf\u001B[49m\u001B[43m,\u001B[49m\u001B[43m \u001B[49m\u001B[43mi\u001B[49m\u001B[43m,\u001B[49m\u001B[43m \u001B[49m\u001B[43mi\u001B[49m\u001B[38;5;241;43m+\u001B[39;49m\u001B[38;5;241;43m1\u001B[39;49m\u001B[43m)\u001B[49m\n",
      "File \u001B[1;32m~\\anaconda3\\envs\\20220624-virtual-clustering\\lib\\concurrent\\futures\\process.py:681\u001B[0m, in \u001B[0;36mProcessPoolExecutor.submit\u001B[1;34m(self, fn, *args, **kwargs)\u001B[0m\n\u001B[0;32m    679\u001B[0m \u001B[38;5;28;01mwith\u001B[39;00m \u001B[38;5;28mself\u001B[39m\u001B[38;5;241m.\u001B[39m_shutdown_lock:\n\u001B[0;32m    680\u001B[0m     \u001B[38;5;28;01mif\u001B[39;00m \u001B[38;5;28mself\u001B[39m\u001B[38;5;241m.\u001B[39m_broken:\n\u001B[1;32m--> 681\u001B[0m         \u001B[38;5;28;01mraise\u001B[39;00m BrokenProcessPool(\u001B[38;5;28mself\u001B[39m\u001B[38;5;241m.\u001B[39m_broken)\n\u001B[0;32m    682\u001B[0m     \u001B[38;5;28;01mif\u001B[39;00m \u001B[38;5;28mself\u001B[39m\u001B[38;5;241m.\u001B[39m_shutdown_thread:\n\u001B[0;32m    683\u001B[0m         \u001B[38;5;28;01mraise\u001B[39;00m \u001B[38;5;167;01mRuntimeError\u001B[39;00m(\u001B[38;5;124m'\u001B[39m\u001B[38;5;124mcannot schedule new futures after shutdown\u001B[39m\u001B[38;5;124m'\u001B[39m)\n",
      "\u001B[1;31mBrokenProcessPool\u001B[0m: A child process terminated abruptly, the process pool is not usable anymore"
     ]
    }
   ],
   "source": [
    "from concurrent import futures\n",
    "\n",
    "\n",
    "def f(a, b):\n",
    "    return [a**b]\n",
    "\n",
    "\"\"\"Test for concurrent.futures\"\"\"\n",
    "# if __name__ == '__main__':\n",
    "with timing(\"parallel\"):\n",
    "    with futures.ProcessPoolExecutor(1) as executor:\n",
    "        for i in range(100, 5000):\n",
    "            future = executor.submit(f, i, i+1)\n",
    "        # print(future.result())"
   ],
   "metadata": {
    "collapsed": false,
    "pycharm": {
     "name": "#%%\n"
    }
   }
  },
  {
   "cell_type": "code",
   "execution_count": 1,
   "outputs": [
    {
     "ename": "ModuleNotFoundError",
     "evalue": "No module named 'loguru'",
     "output_type": "error",
     "traceback": [
      "\u001B[1;31m---------------------------------------------------------------------------\u001B[0m",
      "\u001B[1;31mModuleNotFoundError\u001B[0m                       Traceback (most recent call last)",
      "\u001B[1;32m~\\AppData\\Local\\Temp\\ipykernel_15416\\3293382926.py\u001B[0m in \u001B[0;36m<module>\u001B[1;34m\u001B[0m\n\u001B[1;32m----> 1\u001B[1;33m \u001B[1;32mfrom\u001B[0m  \u001B[0mdata\u001B[0m\u001B[1;33m.\u001B[0m\u001B[0mtools\u001B[0m \u001B[1;32mimport\u001B[0m \u001B[0mutils\u001B[0m\u001B[1;33m,\u001B[0m \u001B[0mextractor\u001B[0m\u001B[1;33m,\u001B[0m \u001B[0mconverter\u001B[0m\u001B[1;33m\u001B[0m\u001B[1;33m\u001B[0m\u001B[0m\n\u001B[0m\u001B[0;32m      2\u001B[0m \u001B[1;33m\u001B[0m\u001B[0m\n\u001B[0;32m      3\u001B[0m \u001B[1;32mwith\u001B[0m \u001B[0mutils\u001B[0m\u001B[1;33m.\u001B[0m\u001B[0mtmpdir_manager\u001B[0m\u001B[1;33m(\u001B[0m\u001B[1;34m'./debug'\u001B[0m\u001B[1;33m)\u001B[0m \u001B[1;32mas\u001B[0m \u001B[0mtmp_dir\u001B[0m\u001B[1;33m:\u001B[0m\u001B[1;33m\u001B[0m\u001B[1;33m\u001B[0m\u001B[0m\n\u001B[0;32m      4\u001B[0m     tar_extractor = extractor.Extractor(\n\u001B[0;32m      5\u001B[0m             \u001B[0mdata_dir\u001B[0m\u001B[1;33m=\u001B[0m\u001B[1;34m'./debug/example'\u001B[0m\u001B[1;33m,\u001B[0m\u001B[1;33m\u001B[0m\u001B[1;33m\u001B[0m\u001B[0m\n",
      "\u001B[1;32mE:\\work\\20220624-virtual-clustering\\data\\tools\\utils.py\u001B[0m in \u001B[0;36m<module>\u001B[1;34m\u001B[0m\n\u001B[0;32m      4\u001B[0m \u001B[1;32mimport\u001B[0m \u001B[0mtime\u001B[0m\u001B[1;33m\u001B[0m\u001B[1;33m\u001B[0m\u001B[0m\n\u001B[0;32m      5\u001B[0m \u001B[1;32mfrom\u001B[0m \u001B[0mtyping\u001B[0m \u001B[1;32mimport\u001B[0m \u001B[0mOptional\u001B[0m\u001B[1;33m\u001B[0m\u001B[1;33m\u001B[0m\u001B[0m\n\u001B[1;32m----> 6\u001B[1;33m \u001B[1;32mfrom\u001B[0m \u001B[0mloguru\u001B[0m \u001B[1;32mimport\u001B[0m \u001B[0mlogger\u001B[0m\u001B[1;33m\u001B[0m\u001B[1;33m\u001B[0m\u001B[0m\n\u001B[0m\u001B[0;32m      7\u001B[0m \u001B[1;31m# from absl\u001B[0m\u001B[1;33m\u001B[0m\u001B[1;33m\u001B[0m\u001B[1;33m\u001B[0m\u001B[0m\n\u001B[0;32m      8\u001B[0m \u001B[1;33m\u001B[0m\u001B[0m\n",
      "\u001B[1;31mModuleNotFoundError\u001B[0m: No module named 'loguru'"
     ]
    }
   ],
   "source": [
    "from  data.tools import utils, converter\n",
    "\n",
    "with utils.tmpdir_manager('./debug') as tmp_dir:\n",
    "    tar_extractor = extractor.Extractor(\n",
    "            data_dir='./debug/example',\n",
    "            n_cpu=1)\n",
    "    converter = converter.Converter(tmp_dir, 'pdbqt', 'sdf')\n",
    "    tar_extractor.extract(tmp_dir)\n",
    "    for d_1 in os.listdir(tmp_dir):\n",
    "        logger.info(d_1)\n",
    "        for d_2 in os.listdir(os.path.join(os.path.dirname(tmp_dir),d_1)):\n",
    "            logger.info(d_2)\n",
    "            for pdbqt_file in os.listdir(d_2):\n",
    "            #     logger.info(pdbqt_file)"
   ],
   "metadata": {
    "collapsed": false,
    "pycharm": {
     "name": "#%%\n"
    }
   }
  },
  {
   "cell_type": "markdown",
   "source": [
    "# rdkit mol"
   ],
   "metadata": {
    "collapsed": false,
    "pycharm": {
     "name": "#%% md\n"
    }
   }
  },
  {
   "cell_type": "code",
   "execution_count": 2,
   "outputs": [
    {
     "name": "stdout",
     "output_type": "stream",
     "text": [
      "{314: ((2, 1),), 370: ((5, 2),), 475: ((0, 1),), 576: ((5, 0),), 623: ((11, 2),), 650: ((2, 0), (12, 0)), 666: ((11, 1),), 674: ((8, 0),), 738: ((5, 1),), 771: ((1, 1),), 807: ((7, 0), (11, 0)), 856: ((4, 1),), 881: ((10, 0),), 906: ((9, 1), (13, 1)), 935: ((0, 0), (3, 0)), 1037: ((4, 0), (9, 0), (13, 0)), 1102: ((10, 1),), 1145: ((6, 1),), 1199: ((6, 2),), 1209: ((8, 2),), 1263: ((1, 2),), 1370: ((10, 2),), 1380: ((1, 0), (6, 0)), 1602: ((7, 1),), 1610: ((3, 1),), 1659: ((8, 1),), 1705: ((0, 2),), 1917: ((12, 1),), 2006: ((3, 2),)}\n"
     ]
    }
   ],
   "source": [
    "from rdkit import Chem\n",
    "from rdkit.Chem import Draw\n",
    "from rdkit.Chem import AllChem as ch\n",
    "import matplotlib.pyplot as plt  # 画图\n",
    "\n",
    "supp = Chem.SDMolSupplier('./debug/Z18500480_1_T1.sdf')\n",
    "bi = {}\n",
    "mols_fps_Morgen = [(m, ch.GetMorganFingerprintAsBitVect(m, radius=2, bitInfo=bi)) for m in supp]\n",
    "print(bi)\n"
   ],
   "metadata": {
    "collapsed": false,
    "pycharm": {
     "name": "#%%\n"
    }
   }
  },
  {
   "cell_type": "code",
   "execution_count": 16,
   "outputs": [
    {
     "data": {
      "text/plain": "<rdkit.DataStructs.cDataStructs.UIntSparseIntVect at 0x2c05a442170>"
     },
     "execution_count": 16,
     "metadata": {},
     "output_type": "execute_result"
    }
   ],
   "source": [
    "mols_fps_Morgen[0][1]"
   ],
   "metadata": {
    "collapsed": false,
    "pycharm": {
     "name": "#%%\n"
    }
   }
  },
  {
   "cell_type": "code",
   "execution_count": 8,
   "outputs": [
    {
     "data": {
      "text/plain": "1"
     },
     "execution_count": 8,
     "metadata": {},
     "output_type": "execute_result"
    }
   ],
   "source": [
    "len(mols_fps_Morgen)"
   ],
   "metadata": {
    "collapsed": false,
    "pycharm": {
     "name": "#%%\n"
    }
   }
  },
  {
   "cell_type": "markdown",
   "source": [
    "## 一个很好用的SimilarityMap"
   ],
   "metadata": {
    "collapsed": false,
    "pycharm": {
     "name": "#%% md\n"
    }
   }
  },
  {
   "cell_type": "code",
   "execution_count": 88,
   "outputs": [
    {
     "name": "stdout",
     "output_type": "stream",
     "text": [
      "<rdkit.Chem.Draw.rdMolDraw2D.MolDraw2DSVG object at 0x000002C05BF67B20>\n",
      "0.12255947497949138\n"
     ]
    }
   ],
   "source": [
    "from rdkit.Chem.Draw import SimilarityMaps\n",
    "\n",
    "# 目标分子\n",
    "targetmol = Chem.MolFromSmiles(\n",
    "    'COc1cccc2cc(C(=O)NCCCCN3CCN(c4cccc5nccnc54)CC3)oc21')\n",
    "# 参考分子\n",
    "refmol = Chem.MolFromSmiles('CCCN(CCCCN1CCN(c2ccccc2OC)CC1)Cc1ccc2ccccc2c1')\n",
    "\n",
    "Draw.MolDraw2DSVG(400, 400)\n",
    "d.ClearDrawing()\n",
    "target_mol_simi_fig, maxweight = SimilarityMaps.GetSimilarityMapForFingerprint(\n",
    "    refmol,\n",
    "    targetmol,\n",
    "    lambda m, i: SimilarityMaps.GetMorganFingerprint(\n",
    "        m, i, radius=2, fpType='bv'),\n",
    "    draw2d=d\n",
    ")\n",
    "print(target_mol_simi_fig)  # Figure(250x250)\n",
    "print(maxweight)  # 0.12255947497949138\n",
    "d.FinishDrawing()\n",
    "with open('./mol28.svg', 'w+') as outf:\n",
    "    outf.write(d.GetDrawingText())\n",
    "# d.ClearDrawing()"
   ],
   "metadata": {
    "collapsed": false,
    "pycharm": {
     "name": "#%%\n"
    }
   }
  },
  {
   "cell_type": "code",
   "execution_count": 5,
   "outputs": [
    {
     "name": "stdout",
     "output_type": "stream",
     "text": [
      "4P///6cAAAA8AAAAcggEDAQGAAIAAgAGAAAAAgACAgAEAAgAAgYAAgAABAAAAAAGAgIABgACAAAABAAAAAAAAAAAAAAAAAAAAg==\n",
      "4P///6cAAAA8AAAAcggEDAQGAAIAAgAGAAAAAgACAgAEAAgAAgYAAgAABAAAAAAGAgIABgACAAAABAAAAAAAAAAAAAAAAAAAAg==\n"
     ]
    }
   ],
   "source": [
    "from rdkit.DataStructs import ExplicitBitVect, CreateFromBinaryText\n",
    "m = Chem.MolFromSmiles(\n",
    "    'COc1cccc2cc(C(=O)NCCCCN3CCN(c4cccc5nccnc54)CC3)oc21')\n",
    "bi = {}\n",
    "fp = ch.GetMorganFingerprintAsBitVect(m, radius=2)\n",
    "fp = ch.GetMACCSKeysFingerprint(m)\n",
    "base64 = ExplicitBitVect.ToBase64(fp)\n",
    "print(base64)\n",
    "\n",
    "# _fp = ExplicitBitVect.\n",
    "_fp = ExplicitBitVect(0)\n",
    "ExplicitBitVect.FromBase64(_fp, base64)\n",
    "\n",
    "with open('./mol1','w+') as f:\n",
    "    f.write(base64)\n",
    "print(_fp.ToBase64())\n",
    "# fp.FromBase64(base64)\n"
   ],
   "metadata": {
    "collapsed": false,
    "pycharm": {
     "name": "#%%\n"
    }
   }
  },
  {
   "cell_type": "code",
   "execution_count": 193,
   "outputs": [
    {
     "name": "stderr",
     "output_type": "stream",
     "text": [
      "2022-07-03 22:22:40.017 | INFO     | __main__:<module>:12 - .\\debug\\tmp\\AABAAC\\00000\\Z1252751589_1_T1.pdbqt\n",
      "2022-07-03 22:22:40.018 | INFO     | __main__:<module>:13 - Z1252751589_1_T1\n",
      "2022-07-03 22:22:40.018 | INFO     | __main__:<module>:12 - .\\debug\\tmp\\AABAAC\\00000\\Z1509950178_1_T1.pdbqt\n",
      "2022-07-03 22:22:40.018 | INFO     | __main__:<module>:13 - Z1509950178_1_T1\n",
      "2022-07-03 22:22:40.020 | INFO     | __main__:<module>:12 - .\\debug\\tmp\\AABAAC\\00000\\Z1510155714_1_T1.pdbqt\n",
      "2022-07-03 22:22:40.020 | INFO     | __main__:<module>:13 - Z1510155714_1_T1\n",
      "2022-07-03 22:22:40.021 | INFO     | __main__:<module>:12 - .\\debug\\tmp\\AABAAC\\00000\\Z1614339982_1_T1.pdbqt\n",
      "2022-07-03 22:22:40.021 | INFO     | __main__:<module>:13 - Z1614339982_1_T1\n",
      "2022-07-03 22:22:40.022 | INFO     | __main__:<module>:12 - .\\debug\\tmp\\AABAAC\\00000\\Z1692816331_1_T1.pdbqt\n",
      "2022-07-03 22:22:40.022 | INFO     | __main__:<module>:13 - Z1692816331_1_T1\n",
      "2022-07-03 22:22:40.022 | INFO     | __main__:<module>:12 - .\\debug\\tmp\\AABAAC\\00000\\Z1692816331_2_T1.pdbqt\n",
      "2022-07-03 22:22:40.022 | INFO     | __main__:<module>:13 - Z1692816331_2_T1\n",
      "2022-07-03 22:22:40.024 | INFO     | __main__:<module>:12 - .\\debug\\tmp\\AABAAC\\00000\\Z2027307024_1_T1.pdbqt\n",
      "2022-07-03 22:22:40.024 | INFO     | __main__:<module>:13 - Z2027307024_1_T1\n",
      "2022-07-03 22:22:40.024 | INFO     | __main__:<module>:12 - .\\debug\\tmp\\AABAAC\\00000\\Z2027307024_1_T2.pdbqt\n",
      "2022-07-03 22:22:40.025 | INFO     | __main__:<module>:13 - Z2027307024_1_T2\n",
      "2022-07-03 22:22:40.025 | INFO     | __main__:<module>:12 - .\\debug\\tmp\\AABAAC\\00000\\Z2027307024_1_T3.pdbqt\n",
      "2022-07-03 22:22:40.026 | INFO     | __main__:<module>:13 - Z2027307024_1_T3\n",
      "2022-07-03 22:22:40.026 | INFO     | __main__:<module>:12 - .\\debug\\tmp\\AABAAC\\00000\\Z2499074481_1_T1.pdbqt\n",
      "2022-07-03 22:22:40.028 | INFO     | __main__:<module>:13 - Z2499074481_1_T1\n",
      "2022-07-03 22:22:40.028 | INFO     | __main__:<module>:12 - .\\debug\\tmp\\AABAAC\\00000\\Z2499074481_1_T2.pdbqt\n",
      "2022-07-03 22:22:40.029 | INFO     | __main__:<module>:13 - Z2499074481_1_T2\n",
      "2022-07-03 22:22:40.029 | INFO     | __main__:<module>:12 - .\\debug\\tmp\\AABAAC\\00000\\Z2499074481_1_T3.pdbqt\n",
      "2022-07-03 22:22:40.029 | INFO     | __main__:<module>:13 - Z2499074481_1_T3\n",
      "2022-07-03 22:22:40.029 | INFO     | __main__:<module>:12 - .\\debug\\tmp\\AABAAC\\00000\\Z2890544298_1_T1.pdbqt\n",
      "2022-07-03 22:22:40.029 | INFO     | __main__:<module>:13 - Z2890544298_1_T1\n",
      "2022-07-03 22:22:40.029 | INFO     | __main__:<module>:12 - .\\debug\\tmp\\AABAAC\\00000\\Z2890544298_2_T1.pdbqt\n",
      "2022-07-03 22:22:40.033 | INFO     | __main__:<module>:13 - Z2890544298_2_T1\n",
      "2022-07-03 22:22:40.033 | INFO     | __main__:<module>:12 - .\\debug\\tmp\\AABAAC\\00000\\Z2977592255_1_T1.pdbqt\n",
      "2022-07-03 22:22:40.033 | INFO     | __main__:<module>:13 - Z2977592255_1_T1\n",
      "2022-07-03 22:22:40.035 | INFO     | __main__:<module>:12 - .\\debug\\tmp\\AABAAC\\00000\\Z2980972959_1_T1.pdbqt\n",
      "2022-07-03 22:22:40.035 | INFO     | __main__:<module>:13 - Z2980972959_1_T1\n",
      "2022-07-03 22:22:40.035 | INFO     | __main__:<module>:12 - .\\debug\\tmp\\AABABC\\00000\\Z1252006115_1_T1.pdbqt\n",
      "2022-07-03 22:22:40.035 | INFO     | __main__:<module>:13 - Z1252006115_1_T1\n",
      "2022-07-03 22:22:40.035 | INFO     | __main__:<module>:12 - .\\debug\\tmp\\AABABC\\00000\\Z1252636650_1_T1.pdbqt\n",
      "2022-07-03 22:22:40.035 | INFO     | __main__:<module>:13 - Z1252636650_1_T1\n",
      "2022-07-03 22:22:40.035 | INFO     | __main__:<module>:12 - .\\debug\\tmp\\AABABC\\00000\\Z1257210128_1_T1.pdbqt\n",
      "2022-07-03 22:22:40.035 | INFO     | __main__:<module>:13 - Z1257210128_1_T1\n",
      "2022-07-03 22:22:40.035 | INFO     | __main__:<module>:12 - .\\debug\\tmp\\AABABC\\00000\\Z133758102_1_T1.pdbqt\n",
      "2022-07-03 22:22:40.035 | INFO     | __main__:<module>:13 - Z133758102_1_T1\n",
      "2022-07-03 22:22:40.035 | INFO     | __main__:<module>:12 - .\\debug\\tmp\\AABABC\\00000\\Z1613942762_1_T1.pdbqt\n",
      "2022-07-03 22:22:40.035 | INFO     | __main__:<module>:13 - Z1613942762_1_T1\n",
      "2022-07-03 22:22:40.035 | INFO     | __main__:<module>:12 - .\\debug\\tmp\\AABABC\\00000\\Z1621661017_1_T1.pdbqt\n",
      "2022-07-03 22:22:40.035 | INFO     | __main__:<module>:13 - Z1621661017_1_T1\n",
      "2022-07-03 22:22:40.035 | INFO     | __main__:<module>:12 - .\\debug\\tmp\\AABABC\\00000\\Z1654961126_1_T1.pdbqt\n",
      "2022-07-03 22:22:40.045 | INFO     | __main__:<module>:13 - Z1654961126_1_T1\n",
      "2022-07-03 22:22:40.045 | INFO     | __main__:<module>:12 - .\\debug\\tmp\\AABABC\\00000\\Z1673706331_1_T1.pdbqt\n",
      "2022-07-03 22:22:40.046 | INFO     | __main__:<module>:13 - Z1673706331_1_T1\n",
      "2022-07-03 22:22:40.046 | INFO     | __main__:<module>:12 - .\\debug\\tmp\\AABABC\\00000\\Z1692819136_1_T1.pdbqt\n",
      "2022-07-03 22:22:40.047 | INFO     | __main__:<module>:13 - Z1692819136_1_T1\n",
      "2022-07-03 22:22:40.048 | INFO     | __main__:<module>:12 - .\\debug\\tmp\\AABABC\\00000\\Z1930646774_1_T1.pdbqt\n",
      "2022-07-03 22:22:40.048 | INFO     | __main__:<module>:13 - Z1930646774_1_T1\n",
      "2022-07-03 22:22:40.050 | INFO     | __main__:<module>:12 - .\\debug\\tmp\\AABABC\\00000\\Z2016026678_1_T1.pdbqt\n",
      "2022-07-03 22:22:40.051 | INFO     | __main__:<module>:13 - Z2016026678_1_T1\n",
      "2022-07-03 22:22:40.051 | INFO     | __main__:<module>:12 - .\\debug\\tmp\\AABABC\\00000\\Z2660715213_1_T1.pdbqt\n",
      "2022-07-03 22:22:40.052 | INFO     | __main__:<module>:13 - Z2660715213_1_T1\n"
     ]
    }
   ],
   "source": [
    "from data.tools import utils\n",
    "tmp_dir = os.path.join(os.path.curdir,'debug','tmp')\n",
    "# with utils.tmpdir_manager() as tmp_dir:\n",
    "\n",
    "for i, d_1 in enumerate(os.listdir(tmp_dir)):\n",
    "    if i > 1: break\n",
    "    dpath_1 = os.path.join(tmp_dir, d_1)\n",
    "    for d_2 in os.listdir(dpath_1):\n",
    "        dpath_2 = os.path.join(dpath_1, d_2)\n",
    "        if os.path.isdir(dpath_2):\n",
    "            for f in os.listdir(dpath_2):\n",
    "                logger.info(os.path.join(dpath_2, f))\n",
    "                logger.info(os.path.splitext(f)[0])\n",
    "                # logger.debug(f)\n",
    "\n"
   ],
   "metadata": {
    "collapsed": false,
    "pycharm": {
     "name": "#%%\n"
    }
   }
  },
  {
   "cell_type": "code",
   "execution_count": 93,
   "outputs": [
    {
     "data": {
      "text/plain": "<rdkit.Chem.rdchem.Mol at 0x2c05c30fd00>",
      "image/png": "[encoded data removed]"
     },
     "execution_count": 93,
     "metadata": {},
     "output_type": "execute_result"
    }
   ],
   "source": [
    "targetmol"
   ],
   "metadata": {
    "collapsed": false,
    "pycharm": {
     "name": "#%%\n"
    }
   }
  },
  {
   "cell_type": "code",
   "execution_count": 94,
   "outputs": [
    {
     "data": {
      "text/plain": "<rdkit.Chem.rdchem.Mol at 0x2c05c30f080>",
      "image/png": "[encoded data removed]"
     },
     "execution_count": 94,
     "metadata": {},
     "output_type": "execute_result"
    }
   ],
   "source": [
    "refmol"
   ],
   "metadata": {
    "collapsed": false,
    "pycharm": {
     "name": "#%%\n"
    }
   }
  },
  {
   "cell_type": "code",
   "execution_count": 2,
   "outputs": [
    {
     "ename": "NameError",
     "evalue": "name 'utils' is not defined",
     "output_type": "error",
     "traceback": [
      "\u001B[1;31m---------------------------------------------------------------------------\u001B[0m",
      "\u001B[1;31mNameError\u001B[0m                                 Traceback (most recent call last)",
      "\u001B[1;32m~\\AppData\\Local\\Temp\\ipykernel_9652\\3169518676.py\u001B[0m in \u001B[0;36m<module>\u001B[1;34m\u001B[0m\n\u001B[1;32m----> 1\u001B[1;33m \u001B[1;32mwith\u001B[0m \u001B[0mutils\u001B[0m\u001B[1;33m.\u001B[0m\u001B[0mtmpdir_manager\u001B[0m\u001B[1;33m(\u001B[0m\u001B[1;33m)\u001B[0m \u001B[1;32mas\u001B[0m \u001B[0mtmp_dir\u001B[0m\u001B[1;33m:\u001B[0m\u001B[1;33m\u001B[0m\u001B[1;33m\u001B[0m\u001B[0m\n\u001B[0m\u001B[0;32m      2\u001B[0m     tar_extractor = extractor.Extractor(\n\u001B[0;32m      3\u001B[0m         \u001B[0mdata_dir\u001B[0m\u001B[1;33m=\u001B[0m\u001B[1;34m'./debug/example'\u001B[0m\u001B[1;33m,\u001B[0m\u001B[1;33m\u001B[0m\u001B[1;33m\u001B[0m\u001B[0m\n\u001B[0;32m      4\u001B[0m         n_cpu=1)\n\u001B[0;32m      5\u001B[0m     \u001B[0mtar_extractor\u001B[0m\u001B[1;33m.\u001B[0m\u001B[0mextract\u001B[0m\u001B[1;33m(\u001B[0m\u001B[0mtmp_dir\u001B[0m\u001B[1;33m)\u001B[0m\u001B[1;33m\u001B[0m\u001B[1;33m\u001B[0m\u001B[0m\n",
      "\u001B[1;31mNameError\u001B[0m: name 'utils' is not defined"
     ]
    }
   ],
   "source": [
    "with utils.tmpdir_manager() as tmp_dir:\n",
    "    tar_extractor = extractor.Extractor(\n",
    "        data_dir='./debug/example',\n",
    "        n_cpu=1)\n",
    "    tar_extractor.extract(tmp_dir)"
   ],
   "metadata": {
    "collapsed": false,
    "pycharm": {
     "name": "#%%\n"
    }
   }
  },
  {
   "cell_type": "code",
   "execution_count": 12,
   "outputs": [],
   "source": [
    "full_path = './tmp6uq2a4pi/AABAAC/00000/Z1252751589_1_T1.sdf'\n",
    "dirname = os.path.dirname(full_path)\n",
    "basename = os.path.basename(full_path)\n",
    "\n",
    "file_id = os.path.splitext(basename)[0]\n",
    "file_id\n"
   ],
   "metadata": {
    "collapsed": false,
    "pycharm": {
     "name": "#%%\n"
    }
   }
  },
  {
   "cell_type": "markdown",
   "source": [
    "pdbqt转fp"
   ],
   "metadata": {
    "collapsed": false,
    "pycharm": {
     "name": "#%% md\n"
    }
   }
  },
  {
   "cell_type": "code",
   "execution_count": 211,
   "outputs": [],
   "source": [
    "from data.tools.pipeline import  _pdbqt2fingerprint\n",
    "from data.tools import pipeline\n",
    "\n",
    "path = os.path.join('tmpycuut84t', 'AABBAC', '00000')\n",
    "# out = os.path.join('tmp93eb8ia2','out')\n",
    "os.makedirs('out')\n",
    "for f in os.listdir(path):\n",
    "    # print(f)\n",
    "    file_id = os.path.splitext(f)[0]\n",
    "    _pdbqt2fingerprint(path, file_id, '.sdf', 'out')"
   ],
   "metadata": {
    "collapsed": false,
    "pycharm": {
     "name": "#%%\n"
    }
   }
  },
  {
   "cell_type": "code",
   "execution_count": 10,
   "outputs": [
    {
     "data": {
      "text/plain": "['Z1252751589_1_T1',\n 'Z1509950178_1_T1',\n 'Z1510155714_1_T1',\n 'Z1614339982_1_T1',\n 'Z1692816331_1_T1',\n 'Z1692816331_2_T1',\n 'Z2027307024_1_T1',\n 'Z2027307024_1_T2',\n 'Z2027307024_1_T3',\n 'Z2499074481_1_T1',\n 'Z2499074481_1_T2',\n 'Z2499074481_1_T3',\n 'Z2890544298_1_T1',\n 'Z2890544298_2_T1',\n 'Z2977592255_1_T1',\n 'Z2980972959_1_T1']"
     },
     "execution_count": 10,
     "metadata": {},
     "output_type": "execute_result"
    }
   ],
   "source": [
    "[os.path.splitext(f)[0] for f  in os.listdir('out')]\n",
    "import glob\n",
    "glob.glob(r'{}\\**\\*.pdbqt'.format('tmpycuut84t'),recursive=True)\n",
    "# glob.glob(r'{}\\**\\*.tar'.format('tmpycuut84t'),recursive=True)"
   ],
   "metadata": {
    "collapsed": false,
    "pycharm": {
     "name": "#%%\n"
    }
   }
  },
  {
   "cell_type": "code",
   "execution_count": 62,
   "outputs": [],
   "source": [
    "from meeko import PDBQTMolecule\n",
    "from openbabel import openbabel\n",
    "\n",
    "path='tmpbqzs_1_d/AABCAF/00000'\n",
    "file_id = 'Z1692919946_1_T1.pdbqt'\n",
    "in_full_path = os.path.join(path, file_id)\n",
    "out_full_path = 'Z1692919946_1_T1.sdf'\n",
    "conv = openbabel.OBConversion(in_full_path, out_full_path)\n",
    "conv.OpenInAndOutFiles('.pdbqt','.smiles')\n",
    "conv.Convert()\n",
    "conv.CloseOutFile()"
   ],
   "metadata": {
    "collapsed": false,
    "pycharm": {
     "name": "#%%\n"
    }
   }
  },
  {
   "cell_type": "code",
   "execution_count": 80,
   "outputs": [
    {
     "data": {
      "text/plain": "'Z1692919946_1_T1'"
     },
     "execution_count": 80,
     "metadata": {},
     "output_type": "execute_result"
    }
   ],
   "source": [
    "a = os.path.splitext(os.path.join(path, file_id))[0]\n",
    "os.path.basename(a)"
   ],
   "metadata": {
    "collapsed": false,
    "pycharm": {
     "name": "#%%\n"
    }
   }
  },
  {
   "cell_type": "code",
   "execution_count": 78,
   "outputs": [
    {
     "data": {
      "text/plain": "'Z1692919946_1_T1.pdbqt'"
     },
     "execution_count": 78,
     "metadata": {},
     "output_type": "execute_result"
    }
   ],
   "source": [
    "os.path.basename(os.path.join(path, file_id))"
   ],
   "metadata": {
    "collapsed": false,
    "pycharm": {
     "name": "#%%\n"
    }
   }
  },
  {
   "cell_type": "code",
   "execution_count": 12,
   "outputs": [
    {
     "name": "stdout",
     "output_type": "stream",
     "text": [
      "None\n",
      "None\n"
     ]
    }
   ],
   "source": [
    "from data.tools.pipeline import _cal_single_fingerprint\n",
    "from openbabel import pybel\n",
    "path='tmpbqzs_1_d/AABCAF/00000'\n",
    "file_id = 'Z1692919946_1_T1.pdbqt'\n",
    "in_full_path = os.path.join(path, file_id)\n",
    "f = pybel.readfile('pdbqt',in_full_path)\n",
    "mol = f.__next__()\n",
    "print(mol.write(\"sdf\", 'mol1.sdf',overwrite=True))\n",
    "print(mol.write(\"smiles\", 'mol1.smi',overwrite=True))\n",
    "f.close()\n",
    "\n",
    "# _cal_single_fingerprint(dir_path, file_id, 'smiles')"
   ],
   "metadata": {
    "collapsed": false,
    "pycharm": {
     "name": "#%%\n"
    }
   }
  },
  {
   "cell_type": "code",
   "execution_count": 20,
   "outputs": [],
   "source": [
    "sup = Chem.SDMolSupplier(\"mol1.sdf\")\n",
    "sup = Chem.SmilesMolSupplier(\"mol1.smi\", titleLine=False,)\n",
    "mol = sup.__next__()\n",
    "mol"
   ],
   "metadata": {
    "collapsed": false,
    "pycharm": {
     "name": "#%%\n"
    }
   }
  },
  {
   "cell_type": "code",
   "execution_count": 10,
   "outputs": [
    {
     "data": {
      "text/plain": "<rdkit.Chem.rdchem.Mol at 0x17841caf260>",
      "image/png": "[encoded data removed]"
     },
     "execution_count": 10,
     "metadata": {},
     "output_type": "execute_result"
    }
   ],
   "source": [
    "from scripts.rdkit2pdbqt import MolFromPDBQTBlock,MolToPDBQTBlock\n",
    "\n",
    "MolToPDBQTBlock(mol)\n",
    "with open(\"tmpbqzs_1_d/AABCAF/00000/Z1692919946_1_T1.pdbqt\") as f:\n",
    "    mol = MolFromPDBQTBlock(f.read())\n",
    "mol"
   ],
   "metadata": {
    "collapsed": false,
    "pycharm": {
     "name": "#%%\n"
    }
   }
  }
 ],
 "metadata": {
  "kernelspec": {
   "display_name": "Python 3",
   "language": "python",
   "name": "python3"
  },
  "language_info": {
   "codemirror_mode": {
    "name": "ipython",
    "version": 2
   },
   "file_extension": ".py",
   "mimetype": "text/x-python",
   "name": "python",
   "nbconvert_exporter": "python",
   "pygments_lexer": "ipython2",
   "version": "2.7.6"
  }
 },
 "nbformat": 4,
 "nbformat_minor": 0
}