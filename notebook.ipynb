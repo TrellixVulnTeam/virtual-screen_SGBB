{
 "cells": [
  {
   "cell_type": "code",
   "execution_count": 1,
   "metadata": {
    "collapsed": true
   },
   "outputs": [],
   "source": [
    "import tarfile\n",
    "import os\n",
    "import pandas as pd\n",
    "from loguru import logger\n",
    "from openbabel import openbabel\n",
    "import rdkit.Chem as ch"
   ]
  },
  {
   "cell_type": "code",
   "execution_count": 37,
   "outputs": [
    {
     "ename": "ModuleNotFoundError",
     "evalue": "No module named 'win32_setctime'",
     "output_type": "error",
     "traceback": [
      "\u001B[1;31m---------------------------------------------------------------------------\u001B[0m",
      "\u001B[1;31mModuleNotFoundError\u001B[0m                       Traceback (most recent call last)",
      "\u001B[1;32m<ipython-input-37-e3b2b69d5df6>\u001B[0m in \u001B[0;36m<module>\u001B[1;34m\u001B[0m\n\u001B[0;32m     23\u001B[0m \u001B[0mLOG_FILE\u001B[0m \u001B[1;33m=\u001B[0m \u001B[0mos\u001B[0m\u001B[1;33m.\u001B[0m\u001B[0mpath\u001B[0m\u001B[1;33m.\u001B[0m\u001B[0mjoin\u001B[0m\u001B[1;33m(\u001B[0m\u001B[0mLOG_DIR\u001B[0m\u001B[1;33m,\u001B[0m\u001B[1;34m'debug_{time}.log'\u001B[0m\u001B[1;33m)\u001B[0m\u001B[1;33m\u001B[0m\u001B[1;33m\u001B[0m\u001B[0m\n\u001B[0;32m     24\u001B[0m \u001B[1;33m\u001B[0m\u001B[0m\n\u001B[1;32m---> 25\u001B[1;33m \u001B[0mlogger\u001B[0m\u001B[1;33m.\u001B[0m\u001B[0madd\u001B[0m\u001B[1;33m(\u001B[0m\u001B[0mLOG_FILE\u001B[0m\u001B[1;33m,\u001B[0m\u001B[0mretention\u001B[0m\u001B[1;33m=\u001B[0m\u001B[1;36m2\u001B[0m\u001B[1;33m)\u001B[0m\u001B[1;33m\u001B[0m\u001B[1;33m\u001B[0m\u001B[0m\n\u001B[0m\u001B[0;32m     26\u001B[0m \u001B[1;33m\u001B[0m\u001B[0m\n\u001B[0;32m     27\u001B[0m \u001B[1;32mif\u001B[0m \u001B[0mDEBUG\u001B[0m\u001B[1;33m:\u001B[0m\u001B[1;33m\u001B[0m\u001B[1;33m\u001B[0m\u001B[0m\n",
      "\u001B[1;32m~\\anaconda3\\envs\\20220624-virtual-clustering-py36\\lib\\site-packages\\loguru\\_logger.py\u001B[0m in \u001B[0;36madd\u001B[1;34m(self, sink, level, format, filter, colorize, serialize, backtrace, diagnose, enqueue, catch, **kwargs)\u001B[0m\n\u001B[0;32m    657\u001B[0m         \u001B[1;32melif\u001B[0m \u001B[0misinstance\u001B[0m\u001B[1;33m(\u001B[0m\u001B[0msink\u001B[0m\u001B[1;33m,\u001B[0m \u001B[1;33m(\u001B[0m\u001B[0mstr\u001B[0m\u001B[1;33m,\u001B[0m \u001B[0mPathLike\u001B[0m\u001B[1;33m)\u001B[0m\u001B[1;33m)\u001B[0m\u001B[1;33m:\u001B[0m\u001B[1;33m\u001B[0m\u001B[1;33m\u001B[0m\u001B[0m\n\u001B[0;32m    658\u001B[0m             \u001B[0mpath\u001B[0m \u001B[1;33m=\u001B[0m \u001B[0msink\u001B[0m\u001B[1;33m\u001B[0m\u001B[1;33m\u001B[0m\u001B[0m\n\u001B[1;32m--> 659\u001B[1;33m             \u001B[0msink\u001B[0m \u001B[1;33m=\u001B[0m \u001B[0mFileSink\u001B[0m\u001B[1;33m(\u001B[0m\u001B[0mpath\u001B[0m\u001B[1;33m,\u001B[0m \u001B[1;33m**\u001B[0m\u001B[0mkwargs\u001B[0m\u001B[1;33m)\u001B[0m\u001B[1;33m\u001B[0m\u001B[1;33m\u001B[0m\u001B[0m\n\u001B[0m\u001B[0;32m    660\u001B[0m             return self.add(\n\u001B[0;32m    661\u001B[0m                 \u001B[0msink\u001B[0m\u001B[1;33m,\u001B[0m\u001B[1;33m\u001B[0m\u001B[1;33m\u001B[0m\u001B[0m\n",
      "\u001B[1;32m~\\anaconda3\\envs\\20220624-virtual-clustering-py36\\lib\\site-packages\\loguru\\_file_sink.py\u001B[0m in \u001B[0;36m__init__\u001B[1;34m(self, path, rotation, retention, compression, delay, mode, buffering, encoding, **kwargs)\u001B[0m\n\u001B[0;32m     47\u001B[0m         \u001B[0mself\u001B[0m\u001B[1;33m.\u001B[0m\u001B[0m_glob_pattern\u001B[0m \u001B[1;33m=\u001B[0m \u001B[0mself\u001B[0m\u001B[1;33m.\u001B[0m\u001B[0m_make_glob_pattern\u001B[0m\u001B[1;33m(\u001B[0m\u001B[0mself\u001B[0m\u001B[1;33m.\u001B[0m\u001B[0m_path\u001B[0m\u001B[1;33m)\u001B[0m\u001B[1;33m\u001B[0m\u001B[1;33m\u001B[0m\u001B[0m\n\u001B[0;32m     48\u001B[0m         \u001B[0mself\u001B[0m\u001B[1;33m.\u001B[0m\u001B[0m_get_creation_time\u001B[0m \u001B[1;33m=\u001B[0m \u001B[0mself\u001B[0m\u001B[1;33m.\u001B[0m\u001B[0m_make_get_creation_time_function\u001B[0m\u001B[1;33m(\u001B[0m\u001B[1;33m)\u001B[0m\u001B[1;33m\u001B[0m\u001B[1;33m\u001B[0m\u001B[0m\n\u001B[1;32m---> 49\u001B[1;33m         \u001B[0mself\u001B[0m\u001B[1;33m.\u001B[0m\u001B[0m_set_creation_time\u001B[0m \u001B[1;33m=\u001B[0m \u001B[0mself\u001B[0m\u001B[1;33m.\u001B[0m\u001B[0m_make_set_creation_time_function\u001B[0m\u001B[1;33m(\u001B[0m\u001B[1;33m)\u001B[0m\u001B[1;33m\u001B[0m\u001B[1;33m\u001B[0m\u001B[0m\n\u001B[0m\u001B[0;32m     50\u001B[0m \u001B[1;33m\u001B[0m\u001B[0m\n\u001B[0;32m     51\u001B[0m         \u001B[0mself\u001B[0m\u001B[1;33m.\u001B[0m\u001B[0m_file\u001B[0m \u001B[1;33m=\u001B[0m \u001B[1;32mNone\u001B[0m\u001B[1;33m\u001B[0m\u001B[1;33m\u001B[0m\u001B[0m\n",
      "\u001B[1;32m~\\anaconda3\\envs\\20220624-virtual-clustering-py36\\lib\\site-packages\\loguru\\_file_sink.py\u001B[0m in \u001B[0;36m_make_set_creation_time_function\u001B[1;34m()\u001B[0m\n\u001B[0;32m    129\u001B[0m \u001B[1;33m\u001B[0m\u001B[0m\n\u001B[0;32m    130\u001B[0m         \u001B[1;32mif\u001B[0m \u001B[0mos\u001B[0m\u001B[1;33m.\u001B[0m\u001B[0mname\u001B[0m \u001B[1;33m==\u001B[0m \u001B[1;34m\"nt\"\u001B[0m\u001B[1;33m:\u001B[0m\u001B[1;33m\u001B[0m\u001B[1;33m\u001B[0m\u001B[0m\n\u001B[1;32m--> 131\u001B[1;33m             \u001B[1;32mimport\u001B[0m \u001B[0mwin32_setctime\u001B[0m\u001B[1;33m\u001B[0m\u001B[1;33m\u001B[0m\u001B[0m\n\u001B[0m\u001B[0;32m    132\u001B[0m \u001B[1;33m\u001B[0m\u001B[0m\n\u001B[0;32m    133\u001B[0m             \u001B[1;32mif\u001B[0m \u001B[0mwin32_setctime\u001B[0m\u001B[1;33m.\u001B[0m\u001B[0mSUPPORTED\u001B[0m\u001B[1;33m:\u001B[0m\u001B[1;33m\u001B[0m\u001B[1;33m\u001B[0m\u001B[0m\n",
      "\u001B[1;31mModuleNotFoundError\u001B[0m: No module named 'win32_setctime'"
     ]
    }
   ],
   "source": [
    "\"\"\"path\"\"\"\n",
    "\n",
    "WORK_DIR = os.path.curdir\n",
    "DEBUG_DIR = os.path.join(WORK_DIR,'debug')\n",
    "# @TODO argparse data path\n",
    "\n",
    "\n",
    "\"\"\"FOR DEBUG\"\"\"\n",
    "DATA_ROOT = os.path.join(DEBUG_DIR,'example')\n",
    "TMP_DIR = os.path.join(DEBUG_DIR,'tmp')\n",
    "if not os.path.isdir(TMP_DIR):\n",
    "    os.makedirs(TMP_DIR)\n",
    "OUT_DIR = os.path.join(DEBUG_DIR,'output')\n",
    "\n",
    "\"\"\"logging\"\"\"\n",
    "\n",
    "DEBUG = True\n",
    "\n",
    "LOG_DIR = os.path.join(WORK_DIR,'log')\n",
    "if not os.path.exists(LOG_DIR):\n",
    "    os.makedirs(LOG_DIR)\n",
    "\n",
    "LOG_FILE = os.path.join(LOG_DIR,'debug_{time}.log')\n",
    "\n",
    "logger.add(LOG_FILE,retention=2)\n",
    "\n",
    "if DEBUG:\n",
    "    logger.debug('debug data directory: {}'.format(DEBUG_DIR))"
   ],
   "metadata": {
    "collapsed": false,
    "pycharm": {
     "name": "#%%\n"
    }
   }
  },
  {
   "cell_type": "markdown",
   "source": [
    "# Timing"
   ],
   "metadata": {
    "collapsed": false,
    "pycharm": {
     "name": "#%% md\n"
    }
   }
  },
  {
   "cell_type": "code",
   "execution_count": 2,
   "outputs": [
    {
     "name": "stderr",
     "output_type": "stream",
     "text": [
      "2022-07-03 18:57:44.702 | INFO     | __main__:timing:6 - Started extract-tarfile\n",
      "2022-07-03 18:57:44.703 | INFO     | __main__:<module>:13 - finished\n",
      "2022-07-03 18:57:44.703 | INFO     | __main__:timing:10 - Finished extract-tarfile in 0.000 seconds\n"
     ]
    }
   ],
   "source": [
    "import time\n",
    "import contextlib\n",
    "\n",
    "@contextlib.contextmanager\n",
    "def timing(msg: str):\n",
    "    logger.info('Started {}'.format(msg))\n",
    "    tic = time.time()\n",
    "    yield\n",
    "    toc = time.time()\n",
    "    logger.info('Finished %s in %.3f seconds'%(msg, toc - tic))\n",
    "\n",
    "with timing(\"extract-tarfile\"):\n",
    "    logger.info(\"finished\")"
   ],
   "metadata": {
    "collapsed": false,
    "pycharm": {
     "name": "#%%\n"
    }
   }
  },
  {
   "cell_type": "markdown",
   "source": [
    "# Tar Extractor"
   ],
   "metadata": {
    "collapsed": false,
    "pycharm": {
     "name": "#%% md\n"
    }
   }
  },
  {
   "cell_type": "markdown",
   "source": [
    "import tarfile\n",
    "\n",
    "dir_1 = './debug/example/AA/'\n",
    "tar_1 = os.path.join(dir_1, 'AABAAC.tar')\n",
    "dir_2 = os.path.join(TMP_DIR, 'AABAAC')\n",
    "tar_2_gz =  os.path.join(dir_2, '00000.tar.gz')\n",
    "\n",
    "with  tarfile.open(tar_1) as tar:\n",
    "    tar.extractall(TMP_DIR)\n",
    "    names = tar.getnames()\n"
   ],
   "metadata": {
    "collapsed": false
   }
  },
  {
   "cell_type": "code",
   "execution_count": 22,
   "outputs": [
    {
     "name": "stderr",
     "output_type": "stream",
     "text": [
      "100%|██████████| 204/204 [00:18<00:00, 11.08it/s]\n"
     ]
    }
   ],
   "source": [
    "from tqdm import tqdm\n",
    "\n",
    "for d in os.listdir(DATA_ROOT):\n",
    "    # d: \"AA\"\n",
    "    d_path = os.path.join(DATA_ROOT,d)\n",
    "    for f in tqdm(os.listdir(d_path)):\n",
    "        # f: \"AABAAC.tar\"\n",
    "        # if i == 2: break\n",
    "        \"\"\"critical section\"\"\"\n",
    "        with tarfile.open(os.path.join(d_path,f)) as tf:\n",
    "            names = tf.getnames()\n",
    "            # name: \"AABAAC/00000.tar.gz,....\"\n",
    "            tf.extractall(TMP_DIR)\n",
    "            # to \"tmp/AABAAC/00000.tar.gz\"\n",
    "\n",
    "        for name in names:\n",
    "            # name: \"AABAAC\"\n",
    "            dirname = os.path.dirname(name)\n",
    "            with tarfile.open(os.path.join(TMP_DIR, name)) as tf:\n",
    "                tf.extractall(os.path.join(TMP_DIR, dirname))"
   ],
   "metadata": {
    "collapsed": false,
    "pycharm": {
     "name": "#%%\n"
    }
   }
  },
  {
   "cell_type": "markdown",
   "source": [
    "# Format Converter"
   ],
   "metadata": {
    "collapsed": false,
    "pycharm": {
     "name": "#%% md\n"
    }
   }
  },
  {
   "cell_type": "code",
   "execution_count": 39,
   "outputs": [],
   "source": [
    "\n",
    "import openbabel\n",
    "def file_convert(inputFile, outputFile, inFormat='pdbqt', outFormat='sdf'):\n",
    "    conv= openbabel.OBConversion(\"debug/tmp/AABABD/00000/Z18500480_1_T1.pdbqt\", \"debug/Z18500480_1_T1.smiles\")\n",
    "    conv.OpenInAndOutFiles(\"pdbqt\",\"smiles\")\n",
    "    conv.Convert()\n",
    "    conv.CloseOutFile()"
   ],
   "metadata": {
    "collapsed": false,
    "pycharm": {
     "name": "#%%\n"
    }
   }
  },
  {
   "cell_type": "code",
   "execution_count": 20,
   "outputs": [
    {
     "data": {
      "text/plain": "'Z18500480_1_T1.smiles'"
     },
     "execution_count": 20,
     "metadata": {},
     "output_type": "execute_result"
    }
   ],
   "source": [
    "input_file = \"debug/tmp/AABABD/00000/Z18500480_1_T1.pdbqt\"\n",
    "os.path.dirname(input_file)\n",
    "os.path.splitext(os.path.basename(input_file))[0]+'.smiles'\n",
    "\n",
    "# os.path.ex"
   ],
   "metadata": {
    "collapsed": false,
    "pycharm": {
     "name": "#%%\n"
    }
   }
  },
  {
   "cell_type": "code",
   "execution_count": 12,
   "outputs": [
    {
     "ename": "OSError",
     "evalue": "outputfile.sdf already exists. Use 'overwrite=True' to overwrite it.",
     "output_type": "error",
     "traceback": [
      "\u001B[1;31m---------------------------------------------------------------------------\u001B[0m",
      "\u001B[1;31mOSError\u001B[0m                                   Traceback (most recent call last)",
      "\u001B[1;32m<ipython-input-12-d1470ff19811>\u001B[0m in \u001B[0;36m<module>\u001B[1;34m\u001B[0m\n\u001B[0;32m      9\u001B[0m \u001B[1;33m\u001B[0m\u001B[0m\n\u001B[0;32m     10\u001B[0m \u001B[0mpybelmol\u001B[0m \u001B[1;33m=\u001B[0m \u001B[0mpybel\u001B[0m\u001B[1;33m.\u001B[0m\u001B[0mMolecule\u001B[0m\u001B[1;33m(\u001B[0m\u001B[0mmol\u001B[0m\u001B[1;33m)\u001B[0m\u001B[1;33m\u001B[0m\u001B[1;33m\u001B[0m\u001B[0m\n\u001B[1;32m---> 11\u001B[1;33m \u001B[0mpybelmol\u001B[0m\u001B[1;33m.\u001B[0m\u001B[0mwrite\u001B[0m\u001B[1;33m(\u001B[0m\u001B[1;34m\"sdf\"\u001B[0m\u001B[1;33m,\u001B[0m \u001B[1;34m\"outputfile.sdf\"\u001B[0m\u001B[1;33m)\u001B[0m\u001B[1;33m\u001B[0m\u001B[1;33m\u001B[0m\u001B[0m\n\u001B[0m",
      "\u001B[1;32m~\\anaconda3\\envs\\20220624-virtual-clustering-py36\\lib\\site-packages\\pybel.py\u001B[0m in \u001B[0;36mwrite\u001B[1;34m(self, format, filename, overwrite, opt)\u001B[0m\n\u001B[0;32m    537\u001B[0m             \u001B[1;32mif\u001B[0m \u001B[1;32mnot\u001B[0m \u001B[0moverwrite\u001B[0m \u001B[1;32mand\u001B[0m \u001B[0mos\u001B[0m\u001B[1;33m.\u001B[0m\u001B[0mpath\u001B[0m\u001B[1;33m.\u001B[0m\u001B[0misfile\u001B[0m\u001B[1;33m(\u001B[0m\u001B[0mfilename\u001B[0m\u001B[1;33m)\u001B[0m\u001B[1;33m:\u001B[0m\u001B[1;33m\u001B[0m\u001B[1;33m\u001B[0m\u001B[0m\n\u001B[0;32m    538\u001B[0m                 raise IOError((\"%s already exists. Use 'overwrite=True' to \"\n\u001B[1;32m--> 539\u001B[1;33m                                \"overwrite it.\") % filename)\n\u001B[0m\u001B[0;32m    540\u001B[0m             \u001B[0mobconversion\u001B[0m\u001B[1;33m.\u001B[0m\u001B[0mWriteFile\u001B[0m\u001B[1;33m(\u001B[0m\u001B[0mself\u001B[0m\u001B[1;33m.\u001B[0m\u001B[0mOBMol\u001B[0m\u001B[1;33m,\u001B[0m \u001B[0mfilename\u001B[0m\u001B[1;33m)\u001B[0m\u001B[1;33m\u001B[0m\u001B[1;33m\u001B[0m\u001B[0m\n\u001B[0;32m    541\u001B[0m             \u001B[0mobconversion\u001B[0m\u001B[1;33m.\u001B[0m\u001B[0mCloseOutFile\u001B[0m\u001B[1;33m(\u001B[0m\u001B[1;33m)\u001B[0m\u001B[1;33m\u001B[0m\u001B[1;33m\u001B[0m\u001B[0m\n",
      "\u001B[1;31mOSError\u001B[0m: outputfile.sdf already exists. Use 'overwrite=True' to overwrite it."
     ]
    }
   ],
   "source": [
    "import openbabel,pybel\n",
    "\n",
    "mol = openbabel.OBMol()\n",
    "a = mol.NewAtom()\n",
    "a.SetAtomicNum(6)   # carbon atom\n",
    "a.SetVector(0.0, 1.0, 2.0) # coordinates\n",
    "b = mol.NewAtom()\n",
    "mol.AddBond(1, 2, 1)   # atoms indexed from 1\n",
    "\n",
    "pybelmol = pybel.Molecule(mol)\n",
    "pybelmol.write(\"sdf\", \"outputfile.sdf\")"
   ],
   "metadata": {
    "collapsed": false,
    "pycharm": {
     "name": "#%%\n"
    }
   }
  },
  {
   "cell_type": "code",
   "execution_count": 31,
   "outputs": [
    {
     "name": "stderr",
     "output_type": "stream",
     "text": [
      "2022-07-01 20:51:37.121 | INFO     | __main__:timing:6 - Started parallel\n"
     ]
    },
    {
     "ename": "BrokenProcessPool",
     "evalue": "A child process terminated abruptly, the process pool is not usable anymore",
     "output_type": "error",
     "traceback": [
      "\u001B[1;31m---------------------------------------------------------------------------\u001B[0m",
      "\u001B[1;31mBrokenProcessPool\u001B[0m                         Traceback (most recent call last)",
      "Input \u001B[1;32mIn [31]\u001B[0m, in \u001B[0;36m<cell line: 9>\u001B[1;34m()\u001B[0m\n\u001B[0;32m     10\u001B[0m \u001B[38;5;28;01mwith\u001B[39;00m futures\u001B[38;5;241m.\u001B[39mProcessPoolExecutor(\u001B[38;5;241m1\u001B[39m) \u001B[38;5;28;01mas\u001B[39;00m executor:\n\u001B[0;32m     11\u001B[0m     \u001B[38;5;28;01mfor\u001B[39;00m i \u001B[38;5;129;01min\u001B[39;00m \u001B[38;5;28mrange\u001B[39m(\u001B[38;5;241m100\u001B[39m, \u001B[38;5;241m5000\u001B[39m):\n\u001B[1;32m---> 12\u001B[0m         future \u001B[38;5;241m=\u001B[39m \u001B[43mexecutor\u001B[49m\u001B[38;5;241;43m.\u001B[39;49m\u001B[43msubmit\u001B[49m\u001B[43m(\u001B[49m\u001B[43mf\u001B[49m\u001B[43m,\u001B[49m\u001B[43m \u001B[49m\u001B[43mi\u001B[49m\u001B[43m,\u001B[49m\u001B[43m \u001B[49m\u001B[43mi\u001B[49m\u001B[38;5;241;43m+\u001B[39;49m\u001B[38;5;241;43m1\u001B[39;49m\u001B[43m)\u001B[49m\n",
      "File \u001B[1;32m~\\anaconda3\\envs\\20220624-virtual-clustering\\lib\\concurrent\\futures\\process.py:681\u001B[0m, in \u001B[0;36mProcessPoolExecutor.submit\u001B[1;34m(self, fn, *args, **kwargs)\u001B[0m\n\u001B[0;32m    679\u001B[0m \u001B[38;5;28;01mwith\u001B[39;00m \u001B[38;5;28mself\u001B[39m\u001B[38;5;241m.\u001B[39m_shutdown_lock:\n\u001B[0;32m    680\u001B[0m     \u001B[38;5;28;01mif\u001B[39;00m \u001B[38;5;28mself\u001B[39m\u001B[38;5;241m.\u001B[39m_broken:\n\u001B[1;32m--> 681\u001B[0m         \u001B[38;5;28;01mraise\u001B[39;00m BrokenProcessPool(\u001B[38;5;28mself\u001B[39m\u001B[38;5;241m.\u001B[39m_broken)\n\u001B[0;32m    682\u001B[0m     \u001B[38;5;28;01mif\u001B[39;00m \u001B[38;5;28mself\u001B[39m\u001B[38;5;241m.\u001B[39m_shutdown_thread:\n\u001B[0;32m    683\u001B[0m         \u001B[38;5;28;01mraise\u001B[39;00m \u001B[38;5;167;01mRuntimeError\u001B[39;00m(\u001B[38;5;124m'\u001B[39m\u001B[38;5;124mcannot schedule new futures after shutdown\u001B[39m\u001B[38;5;124m'\u001B[39m)\n",
      "\u001B[1;31mBrokenProcessPool\u001B[0m: A child process terminated abruptly, the process pool is not usable anymore"
     ]
    }
   ],
   "source": [
    "from concurrent import futures\n",
    "\n",
    "\n",
    "def f(a, b):\n",
    "    return [a**b]\n",
    "\n",
    "\"\"\"Test for concurrent.futures\"\"\"\n",
    "# if __name__ == '__main__':\n",
    "with timing(\"parallel\"):\n",
    "    with futures.ProcessPoolExecutor(1) as executor:\n",
    "        for i in range(100, 5000):\n",
    "            future = executor.submit(f, i, i+1)\n",
    "        # print(future.result())"
   ],
   "metadata": {
    "collapsed": false,
    "pycharm": {
     "name": "#%%\n"
    }
   }
  },
  {
   "cell_type": "code",
   "execution_count": 1,
   "outputs": [
    {
     "ename": "ModuleNotFoundError",
     "evalue": "No module named 'loguru'",
     "output_type": "error",
     "traceback": [
      "\u001B[1;31m---------------------------------------------------------------------------\u001B[0m",
      "\u001B[1;31mModuleNotFoundError\u001B[0m                       Traceback (most recent call last)",
      "\u001B[1;32m~\\AppData\\Local\\Temp\\ipykernel_15416\\3293382926.py\u001B[0m in \u001B[0;36m<module>\u001B[1;34m\u001B[0m\n\u001B[1;32m----> 1\u001B[1;33m \u001B[1;32mfrom\u001B[0m  \u001B[0mdata\u001B[0m\u001B[1;33m.\u001B[0m\u001B[0mtools\u001B[0m \u001B[1;32mimport\u001B[0m \u001B[0mutils\u001B[0m\u001B[1;33m,\u001B[0m \u001B[0mextractor\u001B[0m\u001B[1;33m,\u001B[0m \u001B[0mconverter\u001B[0m\u001B[1;33m\u001B[0m\u001B[1;33m\u001B[0m\u001B[0m\n\u001B[0m\u001B[0;32m      2\u001B[0m \u001B[1;33m\u001B[0m\u001B[0m\n\u001B[0;32m      3\u001B[0m \u001B[1;32mwith\u001B[0m \u001B[0mutils\u001B[0m\u001B[1;33m.\u001B[0m\u001B[0mtmpdir_manager\u001B[0m\u001B[1;33m(\u001B[0m\u001B[1;34m'./debug'\u001B[0m\u001B[1;33m)\u001B[0m \u001B[1;32mas\u001B[0m \u001B[0mtmp_dir\u001B[0m\u001B[1;33m:\u001B[0m\u001B[1;33m\u001B[0m\u001B[1;33m\u001B[0m\u001B[0m\n\u001B[0;32m      4\u001B[0m     tar_extractor = extractor.Extractor(\n\u001B[0;32m      5\u001B[0m             \u001B[0mdata_dir\u001B[0m\u001B[1;33m=\u001B[0m\u001B[1;34m'./debug/example'\u001B[0m\u001B[1;33m,\u001B[0m\u001B[1;33m\u001B[0m\u001B[1;33m\u001B[0m\u001B[0m\n",
      "\u001B[1;32mE:\\work\\20220624-virtual-clustering\\data\\tools\\utils.py\u001B[0m in \u001B[0;36m<module>\u001B[1;34m\u001B[0m\n\u001B[0;32m      4\u001B[0m \u001B[1;32mimport\u001B[0m \u001B[0mtime\u001B[0m\u001B[1;33m\u001B[0m\u001B[1;33m\u001B[0m\u001B[0m\n\u001B[0;32m      5\u001B[0m \u001B[1;32mfrom\u001B[0m \u001B[0mtyping\u001B[0m \u001B[1;32mimport\u001B[0m \u001B[0mOptional\u001B[0m\u001B[1;33m\u001B[0m\u001B[1;33m\u001B[0m\u001B[0m\n\u001B[1;32m----> 6\u001B[1;33m \u001B[1;32mfrom\u001B[0m \u001B[0mloguru\u001B[0m \u001B[1;32mimport\u001B[0m \u001B[0mlogger\u001B[0m\u001B[1;33m\u001B[0m\u001B[1;33m\u001B[0m\u001B[0m\n\u001B[0m\u001B[0;32m      7\u001B[0m \u001B[1;31m# from absl\u001B[0m\u001B[1;33m\u001B[0m\u001B[1;33m\u001B[0m\u001B[1;33m\u001B[0m\u001B[0m\n\u001B[0;32m      8\u001B[0m \u001B[1;33m\u001B[0m\u001B[0m\n",
      "\u001B[1;31mModuleNotFoundError\u001B[0m: No module named 'loguru'"
     ]
    }
   ],
   "source": [
    "from  data.tools import utils, converter\n",
    "\n",
    "with utils.tmpdir_manager('./debug') as tmp_dir:\n",
    "    tar_extractor = extractor.Extractor(\n",
    "            data_dir='./debug/example',\n",
    "            n_cpu=1)\n",
    "    converter = converter.Converter(tmp_dir, 'pdbqt', 'sdf')\n",
    "    tar_extractor.extract(tmp_dir)\n",
    "    for d_1 in os.listdir(tmp_dir):\n",
    "        logger.info(d_1)\n",
    "        for d_2 in os.listdir(os.path.join(os.path.dirname(tmp_dir),d_1)):\n",
    "            logger.info(d_2)\n",
    "            for pdbqt_file in os.listdir(d_2):\n",
    "            #     logger.info(pdbqt_file)"
   ],
   "metadata": {
    "collapsed": false,
    "pycharm": {
     "name": "#%%\n"
    }
   }
  },
  {
   "cell_type": "markdown",
   "source": [
    "# rdkit mol"
   ],
   "metadata": {
    "collapsed": false,
    "pycharm": {
     "name": "#%% md\n"
    }
   }
  },
  {
   "cell_type": "code",
   "execution_count": 3,
   "outputs": [
    {
     "name": "stdout",
     "output_type": "stream",
     "text": [
      "{314: ((2, 1),), 370: ((5, 2),), 475: ((0, 1),), 576: ((5, 0),), 623: ((11, 2),), 650: ((2, 0), (12, 0)), 666: ((11, 1),), 674: ((8, 0),), 738: ((5, 1),), 771: ((1, 1),), 807: ((7, 0), (11, 0)), 856: ((4, 1),), 881: ((10, 0),), 906: ((9, 1), (13, 1)), 935: ((0, 0), (3, 0)), 1037: ((4, 0), (9, 0), (13, 0)), 1102: ((10, 1),), 1145: ((6, 1),), 1199: ((6, 2),), 1209: ((8, 2),), 1263: ((1, 2),), 1370: ((10, 2),), 1380: ((1, 0), (6, 0)), 1602: ((7, 1),), 1610: ((3, 1),), 1659: ((8, 1),), 1705: ((0, 2),), 1917: ((12, 1),), 2006: ((3, 2),)}\n"
     ]
    }
   ],
   "source": [
    "from rdkit import Chem\n",
    "from rdkit.Chem import Draw\n",
    "from rdkit.Chem import AllChem as ch\n",
    "import matplotlib.pyplot as plt  # 画图\n",
    "\n",
    "supp = Chem.SDMolSupplier('./debug/Z18500480_1_T1.sdf')\n",
    "bi = {}\n",
    "mols_fps_Morgen = [(m, ch.GetMorganFingerprintAsBitVect(m, radius=2, bitInfo=bi)) for m in supp]\n",
    "print(bi)\n"
   ],
   "metadata": {
    "collapsed": false,
    "pycharm": {
     "name": "#%%\n"
    }
   }
  },
  {
   "cell_type": "code",
   "execution_count": 16,
   "outputs": [
    {
     "data": {
      "text/plain": "<rdkit.DataStructs.cDataStructs.UIntSparseIntVect at 0x2c05a442170>"
     },
     "execution_count": 16,
     "metadata": {},
     "output_type": "execute_result"
    }
   ],
   "source": [
    "mols_fps_Morgen[0][1]"
   ],
   "metadata": {
    "collapsed": false,
    "pycharm": {
     "name": "#%%\n"
    }
   }
  },
  {
   "cell_type": "code",
   "execution_count": 8,
   "outputs": [
    {
     "data": {
      "text/plain": "1"
     },
     "execution_count": 8,
     "metadata": {},
     "output_type": "execute_result"
    }
   ],
   "source": [
    "len(mols_fps_Morgen)"
   ],
   "metadata": {
    "collapsed": false,
    "pycharm": {
     "name": "#%%\n"
    }
   }
  },
  {
   "cell_type": "markdown",
   "source": [
    "## 一个很好用的SimilarityMap"
   ],
   "metadata": {
    "collapsed": false,
    "pycharm": {
     "name": "#%% md\n"
    }
   }
  },
  {
   "cell_type": "code",
   "execution_count": 88,
   "outputs": [
    {
     "name": "stdout",
     "output_type": "stream",
     "text": [
      "<rdkit.Chem.Draw.rdMolDraw2D.MolDraw2DSVG object at 0x000002C05BF67B20>\n",
      "0.12255947497949138\n"
     ]
    }
   ],
   "source": [
    "from rdkit.Chem.Draw import SimilarityMaps\n",
    "\n",
    "# 目标分子\n",
    "targetmol = Chem.MolFromSmiles(\n",
    "    'COc1cccc2cc(C(=O)NCCCCN3CCN(c4cccc5nccnc54)CC3)oc21')\n",
    "# 参考分子\n",
    "refmol = Chem.MolFromSmiles('CCCN(CCCCN1CCN(c2ccccc2OC)CC1)Cc1ccc2ccccc2c1')\n",
    "\n",
    "Draw.MolDraw2DSVG(400, 400)\n",
    "d.ClearDrawing()\n",
    "target_mol_simi_fig, maxweight = SimilarityMaps.GetSimilarityMapForFingerprint(\n",
    "    refmol,\n",
    "    targetmol,\n",
    "    lambda m, i: SimilarityMaps.GetMorganFingerprint(\n",
    "        m, i, radius=2, fpType='bv'),\n",
    "    draw2d=d\n",
    ")\n",
    "print(target_mol_simi_fig)  # Figure(250x250)\n",
    "print(maxweight)  # 0.12255947497949138\n",
    "d.FinishDrawing()\n",
    "with open('./mol28.svg', 'w+') as outf:\n",
    "    outf.write(d.GetDrawingText())\n",
    "# d.ClearDrawing()"
   ],
   "metadata": {
    "collapsed": false,
    "pycharm": {
     "name": "#%%\n"
    }
   }
  },
  {
   "cell_type": "code",
   "execution_count": 5,
   "outputs": [
    {
     "name": "stdout",
     "output_type": "stream",
     "text": [
      "4P///6cAAAA8AAAAcggEDAQGAAIAAgAGAAAAAgACAgAEAAgAAgYAAgAABAAAAAAGAgIABgACAAAABAAAAAAAAAAAAAAAAAAAAg==\n",
      "4P///6cAAAA8AAAAcggEDAQGAAIAAgAGAAAAAgACAgAEAAgAAgYAAgAABAAAAAAGAgIABgACAAAABAAAAAAAAAAAAAAAAAAAAg==\n"
     ]
    }
   ],
   "source": [
    "from rdkit.DataStructs import ExplicitBitVect, CreateFromBinaryText\n",
    "m = Chem.MolFromSmiles(\n",
    "    'COc1cccc2cc(C(=O)NCCCCN3CCN(c4cccc5nccnc54)CC3)oc21')\n",
    "bi = {}\n",
    "fp = ch.GetMorganFingerprintAsBitVect(m, radius=2)\n",
    "fp = ch.GetMACCSKeysFingerprint(m)\n",
    "base64 = ExplicitBitVect.ToBase64(fp)\n",
    "print(base64)\n",
    "\n",
    "# _fp = ExplicitBitVect.\n",
    "_fp = ExplicitBitVect(0)\n",
    "ExplicitBitVect.FromBase64(_fp, base64)\n",
    "\n",
    "with open('./mol1','w+') as f:\n",
    "    f.write(base64)\n",
    "print(_fp.ToBase64())\n",
    "# fp.FromBase64(base64)\n"
   ],
   "metadata": {
    "collapsed": false,
    "pycharm": {
     "name": "#%%\n"
    }
   }
  },
  {
   "cell_type": "code",
   "execution_count": 193,
   "outputs": [
    {
     "name": "stderr",
     "output_type": "stream",
     "text": [
      "2022-07-03 22:22:40.017 | INFO     | __main__:<module>:12 - .\\debug\\tmp\\AABAAC\\00000\\Z1252751589_1_T1.pdbqt\n",
      "2022-07-03 22:22:40.018 | INFO     | __main__:<module>:13 - Z1252751589_1_T1\n",
      "2022-07-03 22:22:40.018 | INFO     | __main__:<module>:12 - .\\debug\\tmp\\AABAAC\\00000\\Z1509950178_1_T1.pdbqt\n",
      "2022-07-03 22:22:40.018 | INFO     | __main__:<module>:13 - Z1509950178_1_T1\n",
      "2022-07-03 22:22:40.020 | INFO     | __main__:<module>:12 - .\\debug\\tmp\\AABAAC\\00000\\Z1510155714_1_T1.pdbqt\n",
      "2022-07-03 22:22:40.020 | INFO     | __main__:<module>:13 - Z1510155714_1_T1\n",
      "2022-07-03 22:22:40.021 | INFO     | __main__:<module>:12 - .\\debug\\tmp\\AABAAC\\00000\\Z1614339982_1_T1.pdbqt\n",
      "2022-07-03 22:22:40.021 | INFO     | __main__:<module>:13 - Z1614339982_1_T1\n",
      "2022-07-03 22:22:40.022 | INFO     | __main__:<module>:12 - .\\debug\\tmp\\AABAAC\\00000\\Z1692816331_1_T1.pdbqt\n",
      "2022-07-03 22:22:40.022 | INFO     | __main__:<module>:13 - Z1692816331_1_T1\n",
      "2022-07-03 22:22:40.022 | INFO     | __main__:<module>:12 - .\\debug\\tmp\\AABAAC\\00000\\Z1692816331_2_T1.pdbqt\n",
      "2022-07-03 22:22:40.022 | INFO     | __main__:<module>:13 - Z1692816331_2_T1\n",
      "2022-07-03 22:22:40.024 | INFO     | __main__:<module>:12 - .\\debug\\tmp\\AABAAC\\00000\\Z2027307024_1_T1.pdbqt\n",
      "2022-07-03 22:22:40.024 | INFO     | __main__:<module>:13 - Z2027307024_1_T1\n",
      "2022-07-03 22:22:40.024 | INFO     | __main__:<module>:12 - .\\debug\\tmp\\AABAAC\\00000\\Z2027307024_1_T2.pdbqt\n",
      "2022-07-03 22:22:40.025 | INFO     | __main__:<module>:13 - Z2027307024_1_T2\n",
      "2022-07-03 22:22:40.025 | INFO     | __main__:<module>:12 - .\\debug\\tmp\\AABAAC\\00000\\Z2027307024_1_T3.pdbqt\n",
      "2022-07-03 22:22:40.026 | INFO     | __main__:<module>:13 - Z2027307024_1_T3\n",
      "2022-07-03 22:22:40.026 | INFO     | __main__:<module>:12 - .\\debug\\tmp\\AABAAC\\00000\\Z2499074481_1_T1.pdbqt\n",
      "2022-07-03 22:22:40.028 | INFO     | __main__:<module>:13 - Z2499074481_1_T1\n",
      "2022-07-03 22:22:40.028 | INFO     | __main__:<module>:12 - .\\debug\\tmp\\AABAAC\\00000\\Z2499074481_1_T2.pdbqt\n",
      "2022-07-03 22:22:40.029 | INFO     | __main__:<module>:13 - Z2499074481_1_T2\n",
      "2022-07-03 22:22:40.029 | INFO     | __main__:<module>:12 - .\\debug\\tmp\\AABAAC\\00000\\Z2499074481_1_T3.pdbqt\n",
      "2022-07-03 22:22:40.029 | INFO     | __main__:<module>:13 - Z2499074481_1_T3\n",
      "2022-07-03 22:22:40.029 | INFO     | __main__:<module>:12 - .\\debug\\tmp\\AABAAC\\00000\\Z2890544298_1_T1.pdbqt\n",
      "2022-07-03 22:22:40.029 | INFO     | __main__:<module>:13 - Z2890544298_1_T1\n",
      "2022-07-03 22:22:40.029 | INFO     | __main__:<module>:12 - .\\debug\\tmp\\AABAAC\\00000\\Z2890544298_2_T1.pdbqt\n",
      "2022-07-03 22:22:40.033 | INFO     | __main__:<module>:13 - Z2890544298_2_T1\n",
      "2022-07-03 22:22:40.033 | INFO     | __main__:<module>:12 - .\\debug\\tmp\\AABAAC\\00000\\Z2977592255_1_T1.pdbqt\n",
      "2022-07-03 22:22:40.033 | INFO     | __main__:<module>:13 - Z2977592255_1_T1\n",
      "2022-07-03 22:22:40.035 | INFO     | __main__:<module>:12 - .\\debug\\tmp\\AABAAC\\00000\\Z2980972959_1_T1.pdbqt\n",
      "2022-07-03 22:22:40.035 | INFO     | __main__:<module>:13 - Z2980972959_1_T1\n",
      "2022-07-03 22:22:40.035 | INFO     | __main__:<module>:12 - .\\debug\\tmp\\AABABC\\00000\\Z1252006115_1_T1.pdbqt\n",
      "2022-07-03 22:22:40.035 | INFO     | __main__:<module>:13 - Z1252006115_1_T1\n",
      "2022-07-03 22:22:40.035 | INFO     | __main__:<module>:12 - .\\debug\\tmp\\AABABC\\00000\\Z1252636650_1_T1.pdbqt\n",
      "2022-07-03 22:22:40.035 | INFO     | __main__:<module>:13 - Z1252636650_1_T1\n",
      "2022-07-03 22:22:40.035 | INFO     | __main__:<module>:12 - .\\debug\\tmp\\AABABC\\00000\\Z1257210128_1_T1.pdbqt\n",
      "2022-07-03 22:22:40.035 | INFO     | __main__:<module>:13 - Z1257210128_1_T1\n",
      "2022-07-03 22:22:40.035 | INFO     | __main__:<module>:12 - .\\debug\\tmp\\AABABC\\00000\\Z133758102_1_T1.pdbqt\n",
      "2022-07-03 22:22:40.035 | INFO     | __main__:<module>:13 - Z133758102_1_T1\n",
      "2022-07-03 22:22:40.035 | INFO     | __main__:<module>:12 - .\\debug\\tmp\\AABABC\\00000\\Z1613942762_1_T1.pdbqt\n",
      "2022-07-03 22:22:40.035 | INFO     | __main__:<module>:13 - Z1613942762_1_T1\n",
      "2022-07-03 22:22:40.035 | INFO     | __main__:<module>:12 - .\\debug\\tmp\\AABABC\\00000\\Z1621661017_1_T1.pdbqt\n",
      "2022-07-03 22:22:40.035 | INFO     | __main__:<module>:13 - Z1621661017_1_T1\n",
      "2022-07-03 22:22:40.035 | INFO     | __main__:<module>:12 - .\\debug\\tmp\\AABABC\\00000\\Z1654961126_1_T1.pdbqt\n",
      "2022-07-03 22:22:40.045 | INFO     | __main__:<module>:13 - Z1654961126_1_T1\n",
      "2022-07-03 22:22:40.045 | INFO     | __main__:<module>:12 - .\\debug\\tmp\\AABABC\\00000\\Z1673706331_1_T1.pdbqt\n",
      "2022-07-03 22:22:40.046 | INFO     | __main__:<module>:13 - Z1673706331_1_T1\n",
      "2022-07-03 22:22:40.046 | INFO     | __main__:<module>:12 - .\\debug\\tmp\\AABABC\\00000\\Z1692819136_1_T1.pdbqt\n",
      "2022-07-03 22:22:40.047 | INFO     | __main__:<module>:13 - Z1692819136_1_T1\n",
      "2022-07-03 22:22:40.048 | INFO     | __main__:<module>:12 - .\\debug\\tmp\\AABABC\\00000\\Z1930646774_1_T1.pdbqt\n",
      "2022-07-03 22:22:40.048 | INFO     | __main__:<module>:13 - Z1930646774_1_T1\n",
      "2022-07-03 22:22:40.050 | INFO     | __main__:<module>:12 - .\\debug\\tmp\\AABABC\\00000\\Z2016026678_1_T1.pdbqt\n",
      "2022-07-03 22:22:40.051 | INFO     | __main__:<module>:13 - Z2016026678_1_T1\n",
      "2022-07-03 22:22:40.051 | INFO     | __main__:<module>:12 - .\\debug\\tmp\\AABABC\\00000\\Z2660715213_1_T1.pdbqt\n",
      "2022-07-03 22:22:40.052 | INFO     | __main__:<module>:13 - Z2660715213_1_T1\n"
     ]
    }
   ],
   "source": [
    "from data.tools import utils\n",
    "tmp_dir = os.path.join(os.path.curdir,'debug','tmp')\n",
    "# with utils.tmpdir_manager() as tmp_dir:\n",
    "\n",
    "for i, d_1 in enumerate(os.listdir(tmp_dir)):\n",
    "    if i > 1: break\n",
    "    dpath_1 = os.path.join(tmp_dir, d_1)\n",
    "    for d_2 in os.listdir(dpath_1):\n",
    "        dpath_2 = os.path.join(dpath_1, d_2)\n",
    "        if os.path.isdir(dpath_2):\n",
    "            for f in os.listdir(dpath_2):\n",
    "                logger.info(os.path.join(dpath_2, f))\n",
    "                logger.info(os.path.splitext(f)[0])\n",
    "                # logger.debug(f)\n",
    "\n"
   ],
   "metadata": {
    "collapsed": false,
    "pycharm": {
     "name": "#%%\n"
    }
   }
  },
  {
   "cell_type": "code",
   "execution_count": 93,
   "outputs": [
    {
     "data": {
      "text/plain": "<rdkit.Chem.rdchem.Mol at 0x2c05c30fd00>",
      "image/png": "[encoded data removed]"
     },
     "execution_count": 93,
     "metadata": {},
     "output_type": "execute_result"
    }
   ],
   "source": [
    "targetmol"
   ],
   "metadata": {
    "collapsed": false,
    "pycharm": {
     "name": "#%%\n"
    }
   }
  },
  {
   "cell_type": "code",
   "execution_count": 94,
   "outputs": [
    {
     "data": {
      "text/plain": "<rdkit.Chem.rdchem.Mol at 0x2c05c30f080>",
      "image/png": "[encoded data removed]"
     },
     "execution_count": 94,
     "metadata": {},
     "output_type": "execute_result"
    }
   ],
   "source": [
    "refmol"
   ],
   "metadata": {
    "collapsed": false,
    "pycharm": {
     "name": "#%%\n"
    }
   }
  },
  {
   "cell_type": "code",
   "execution_count": 2,
   "outputs": [
    {
     "ename": "NameError",
     "evalue": "name 'utils' is not defined",
     "output_type": "error",
     "traceback": [
      "\u001B[1;31m---------------------------------------------------------------------------\u001B[0m",
      "\u001B[1;31mNameError\u001B[0m                                 Traceback (most recent call last)",
      "\u001B[1;32m~\\AppData\\Local\\Temp\\ipykernel_9652\\3169518676.py\u001B[0m in \u001B[0;36m<module>\u001B[1;34m\u001B[0m\n\u001B[1;32m----> 1\u001B[1;33m \u001B[1;32mwith\u001B[0m \u001B[0mutils\u001B[0m\u001B[1;33m.\u001B[0m\u001B[0mtmpdir_manager\u001B[0m\u001B[1;33m(\u001B[0m\u001B[1;33m)\u001B[0m \u001B[1;32mas\u001B[0m \u001B[0mtmp_dir\u001B[0m\u001B[1;33m:\u001B[0m\u001B[1;33m\u001B[0m\u001B[1;33m\u001B[0m\u001B[0m\n\u001B[0m\u001B[0;32m      2\u001B[0m     tar_extractor = extractor.Extractor(\n\u001B[0;32m      3\u001B[0m         \u001B[0mdata_dir\u001B[0m\u001B[1;33m=\u001B[0m\u001B[1;34m'./debug/example'\u001B[0m\u001B[1;33m,\u001B[0m\u001B[1;33m\u001B[0m\u001B[1;33m\u001B[0m\u001B[0m\n\u001B[0;32m      4\u001B[0m         n_cpu=1)\n\u001B[0;32m      5\u001B[0m     \u001B[0mtar_extractor\u001B[0m\u001B[1;33m.\u001B[0m\u001B[0mextract\u001B[0m\u001B[1;33m(\u001B[0m\u001B[0mtmp_dir\u001B[0m\u001B[1;33m)\u001B[0m\u001B[1;33m\u001B[0m\u001B[1;33m\u001B[0m\u001B[0m\n",
      "\u001B[1;31mNameError\u001B[0m: name 'utils' is not defined"
     ]
    }
   ],
   "source": [
    "with utils.tmpdir_manager() as tmp_dir:\n",
    "    tar_extractor = extractor.Extractor(\n",
    "        data_dir='./debug/example',\n",
    "        n_cpu=1)\n",
    "    tar_extractor.extract(tmp_dir)"
   ],
   "metadata": {
    "collapsed": false,
    "pycharm": {
     "name": "#%%\n"
    }
   }
  },
  {
   "cell_type": "code",
   "execution_count": 12,
   "outputs": [],
   "source": [
    "full_path = './tmp6uq2a4pi/AABAAC/00000/Z1252751589_1_T1.sdf'\n",
    "dirname = os.path.dirname(full_path)\n",
    "basename = os.path.basename(full_path)\n",
    "\n",
    "file_id = os.path.splitext(basename)[0]\n",
    "file_id\n"
   ],
   "metadata": {
    "collapsed": false,
    "pycharm": {
     "name": "#%%\n"
    }
   }
  },
  {
   "cell_type": "markdown",
   "source": [
    "pdbqt转fp"
   ],
   "metadata": {
    "collapsed": false,
    "pycharm": {
     "name": "#%% md\n"
    }
   }
  },
  {
   "cell_type": "code",
   "execution_count": 211,
   "outputs": [],
   "source": [
    "from data.tools.pipeline import  _pdbqt2fingerprint\n",
    "from data.tools import pipeline\n",
    "\n",
    "path = os.path.join('tmpycuut84t', 'AABBAC', '00000')\n",
    "# out = os.path.join('tmp93eb8ia2','out')\n",
    "os.makedirs('out')\n",
    "for f in os.listdir(path):\n",
    "    # print(f)\n",
    "    file_id = os.path.splitext(f)[0]\n",
    "    _pdbqt2fingerprint(path, file_id, '.sdf', 'out')"
   ],
   "metadata": {
    "collapsed": false,
    "pycharm": {
     "name": "#%%\n"
    }
   }
  },
  {
   "cell_type": "code",
   "execution_count": 10,
   "outputs": [
    {
     "data": {
      "text/plain": "['Z1252751589_1_T1',\n 'Z1509950178_1_T1',\n 'Z1510155714_1_T1',\n 'Z1614339982_1_T1',\n 'Z1692816331_1_T1',\n 'Z1692816331_2_T1',\n 'Z2027307024_1_T1',\n 'Z2027307024_1_T2',\n 'Z2027307024_1_T3',\n 'Z2499074481_1_T1',\n 'Z2499074481_1_T2',\n 'Z2499074481_1_T3',\n 'Z2890544298_1_T1',\n 'Z2890544298_2_T1',\n 'Z2977592255_1_T1',\n 'Z2980972959_1_T1']"
     },
     "execution_count": 10,
     "metadata": {},
     "output_type": "execute_result"
    }
   ],
   "source": [
    "[os.path.splitext(f)[0] for f  in os.listdir('out')]"
   ],
   "metadata": {
    "collapsed": false,
    "pycharm": {
     "name": "#%%\n"
    }
   }
  },
  {
   "cell_type": "code",
   "execution_count": 36,
   "outputs": [
    {
     "data": {
      "text/plain": "['tmpycuut84t\\\\AABAAC\\\\00000\\\\Z1252751589_1_T1.pdbqt',\n 'tmpycuut84t\\\\AABAAC\\\\00000\\\\Z1509950178_1_T1.pdbqt',\n 'tmpycuut84t\\\\AABAAC\\\\00000\\\\Z1510155714_1_T1.pdbqt',\n 'tmpycuut84t\\\\AABAAC\\\\00000\\\\Z1614339982_1_T1.pdbqt',\n 'tmpycuut84t\\\\AABAAC\\\\00000\\\\Z1692816331_1_T1.pdbqt',\n 'tmpycuut84t\\\\AABAAC\\\\00000\\\\Z1692816331_2_T1.pdbqt',\n 'tmpycuut84t\\\\AABAAC\\\\00000\\\\Z2027307024_1_T1.pdbqt',\n 'tmpycuut84t\\\\AABAAC\\\\00000\\\\Z2027307024_1_T2.pdbqt',\n 'tmpycuut84t\\\\AABAAC\\\\00000\\\\Z2027307024_1_T3.pdbqt',\n 'tmpycuut84t\\\\AABAAC\\\\00000\\\\Z2499074481_1_T1.pdbqt',\n 'tmpycuut84t\\\\AABAAC\\\\00000\\\\Z2499074481_1_T2.pdbqt',\n 'tmpycuut84t\\\\AABAAC\\\\00000\\\\Z2499074481_1_T3.pdbqt',\n 'tmpycuut84t\\\\AABAAC\\\\00000\\\\Z2890544298_1_T1.pdbqt',\n 'tmpycuut84t\\\\AABAAC\\\\00000\\\\Z2890544298_2_T1.pdbqt',\n 'tmpycuut84t\\\\AABAAC\\\\00000\\\\Z2977592255_1_T1.pdbqt',\n 'tmpycuut84t\\\\AABAAC\\\\00000\\\\Z2980972959_1_T1.pdbqt',\n 'tmpycuut84t\\\\AABABC\\\\00000\\\\Z1252006115_1_T1.pdbqt',\n 'tmpycuut84t\\\\AABABC\\\\00000\\\\Z1252636650_1_T1.pdbqt',\n 'tmpycuut84t\\\\AABABC\\\\00000\\\\Z1257210128_1_T1.pdbqt',\n 'tmpycuut84t\\\\AABABC\\\\00000\\\\Z133758102_1_T1.pdbqt',\n 'tmpycuut84t\\\\AABABC\\\\00000\\\\Z1613942762_1_T1.pdbqt',\n 'tmpycuut84t\\\\AABABC\\\\00000\\\\Z1621661017_1_T1.pdbqt',\n 'tmpycuut84t\\\\AABABC\\\\00000\\\\Z1654961126_1_T1.pdbqt',\n 'tmpycuut84t\\\\AABABC\\\\00000\\\\Z1673706331_1_T1.pdbqt',\n 'tmpycuut84t\\\\AABABC\\\\00000\\\\Z1692819136_1_T1.pdbqt',\n 'tmpycuut84t\\\\AABABC\\\\00000\\\\Z1930646774_1_T1.pdbqt',\n 'tmpycuut84t\\\\AABABC\\\\00000\\\\Z2016026678_1_T1.pdbqt',\n 'tmpycuut84t\\\\AABABC\\\\00000\\\\Z2660715213_1_T1.pdbqt',\n 'tmpycuut84t\\\\AABABD\\\\00000\\\\Z18500480_1_T1.pdbqt',\n 'tmpycuut84t\\\\AABABD\\\\00000\\\\Z18500480_1_T2.pdbqt',\n 'tmpycuut84t\\\\AABABD\\\\00000\\\\Z2698440471_1_T1.pdbqt',\n 'tmpycuut84t\\\\AABABD\\\\00000\\\\Z2698440471_1_T2.pdbqt',\n 'tmpycuut84t\\\\AABBAB\\\\00000\\\\Z3104152415_1_T1.pdbqt',\n 'tmpycuut84t\\\\AABBAB\\\\00000\\\\Z3104152415_2_T1.pdbqt',\n 'tmpycuut84t\\\\AABBAC\\\\00000\\\\PV-001819705495_1_T1.pdbqt',\n 'tmpycuut84t\\\\AABBAC\\\\00000\\\\PV-001823251695_1_T1.pdbqt',\n 'tmpycuut84t\\\\AABBAC\\\\00000\\\\PV-001830807931_1_T1.pdbqt',\n 'tmpycuut84t\\\\AABBAC\\\\00000\\\\PV-001830807931_2_T1.pdbqt',\n 'tmpycuut84t\\\\AABBAC\\\\00000\\\\PV-001831736793_1_T1.pdbqt',\n 'tmpycuut84t\\\\AABBAC\\\\00000\\\\PV-001840053211_1_T1.pdbqt',\n 'tmpycuut84t\\\\AABBAC\\\\00000\\\\PV-001868889148_1_T1.pdbqt',\n 'tmpycuut84t\\\\AABBAC\\\\00000\\\\PV-001890205844_1_T1.pdbqt',\n 'tmpycuut84t\\\\AABBAC\\\\00000\\\\PV-001895830044_1_T1.pdbqt',\n 'tmpycuut84t\\\\AABBAC\\\\00000\\\\PV-001909264038_1_T1.pdbqt',\n 'tmpycuut84t\\\\AABBAC\\\\00000\\\\PV-001912014196_1_T1.pdbqt',\n 'tmpycuut84t\\\\AABBAC\\\\00000\\\\Z1217966392_1_T1.pdbqt',\n 'tmpycuut84t\\\\AABBAC\\\\00000\\\\Z1217966392_2_T1.pdbqt',\n 'tmpycuut84t\\\\AABBAC\\\\00000\\\\Z1263820367_1_T1.pdbqt',\n 'tmpycuut84t\\\\AABBAC\\\\00000\\\\Z1441272939_1_T1.pdbqt',\n 'tmpycuut84t\\\\AABBAC\\\\00000\\\\Z1441272939_2_T1.pdbqt',\n 'tmpycuut84t\\\\AABBAC\\\\00000\\\\Z1460436712_1_T1.pdbqt',\n 'tmpycuut84t\\\\AABBAC\\\\00000\\\\Z1460436712_2_T1.pdbqt',\n 'tmpycuut84t\\\\AABBAC\\\\00000\\\\Z1509608189_1_T1.pdbqt',\n 'tmpycuut84t\\\\AABBAC\\\\00000\\\\Z1509916677_1_T1.pdbqt',\n 'tmpycuut84t\\\\AABBAC\\\\00000\\\\Z1509916677_2_T1.pdbqt',\n 'tmpycuut84t\\\\AABBAC\\\\00000\\\\Z1509933794_1_T1.pdbqt',\n 'tmpycuut84t\\\\AABBAC\\\\00000\\\\Z1509943573_1_T1.pdbqt',\n 'tmpycuut84t\\\\AABBAC\\\\00000\\\\Z1509943573_2_T1.pdbqt',\n 'tmpycuut84t\\\\AABBAC\\\\00000\\\\Z1509965278_1_T1.pdbqt',\n 'tmpycuut84t\\\\AABBAC\\\\00000\\\\Z1510146751_1_T1.pdbqt',\n 'tmpycuut84t\\\\AABBAC\\\\00000\\\\Z1510146751_2_T1.pdbqt',\n 'tmpycuut84t\\\\AABBAC\\\\00000\\\\Z1510252441_1_T1.pdbqt',\n 'tmpycuut84t\\\\AABBAC\\\\00000\\\\Z1510252441_1_T2.pdbqt',\n 'tmpycuut84t\\\\AABBAC\\\\00000\\\\Z1510252441_2_T1.pdbqt',\n 'tmpycuut84t\\\\AABBAC\\\\00000\\\\Z1510252441_2_T2.pdbqt',\n 'tmpycuut84t\\\\AABBAC\\\\00000\\\\Z1531980575_1_T1.pdbqt',\n 'tmpycuut84t\\\\AABBAC\\\\00000\\\\Z1531980575_2_T1.pdbqt',\n 'tmpycuut84t\\\\AABBAC\\\\00000\\\\Z1540732461_1_T1.pdbqt',\n 'tmpycuut84t\\\\AABBAC\\\\00000\\\\Z1540732461_1_T2.pdbqt',\n 'tmpycuut84t\\\\AABBAC\\\\00000\\\\Z1540732461_1_T3.pdbqt',\n 'tmpycuut84t\\\\AABBAC\\\\00000\\\\Z1540732461_1_T4.pdbqt',\n 'tmpycuut84t\\\\AABBAC\\\\00000\\\\Z1540732461_1_T5.pdbqt',\n 'tmpycuut84t\\\\AABBAC\\\\00000\\\\Z1540732461_2_T1.pdbqt',\n 'tmpycuut84t\\\\AABBAC\\\\00000\\\\Z1540732461_2_T2.pdbqt',\n 'tmpycuut84t\\\\AABBAC\\\\00000\\\\Z1540732461_2_T3.pdbqt',\n 'tmpycuut84t\\\\AABBAC\\\\00000\\\\Z1540732461_2_T4.pdbqt',\n 'tmpycuut84t\\\\AABBAC\\\\00000\\\\Z1540732461_2_T5.pdbqt',\n 'tmpycuut84t\\\\AABBAC\\\\00000\\\\Z1544679241_1_T1.pdbqt',\n 'tmpycuut84t\\\\AABBAC\\\\00000\\\\Z1544679241_2_T1.pdbqt',\n 'tmpycuut84t\\\\AABBAC\\\\00000\\\\Z1640864635_1_T1.pdbqt',\n 'tmpycuut84t\\\\AABBAC\\\\00000\\\\Z1640864635_2_T1.pdbqt',\n 'tmpycuut84t\\\\AABBAC\\\\00000\\\\Z1641159306_1_T1.pdbqt',\n 'tmpycuut84t\\\\AABBAC\\\\00000\\\\Z1641159306_2_T1.pdbqt',\n 'tmpycuut84t\\\\AABBAC\\\\00000\\\\Z1643680148_1_T1.pdbqt',\n 'tmpycuut84t\\\\AABBAC\\\\00000\\\\Z1692808465_1_T1.pdbqt',\n 'tmpycuut84t\\\\AABBAC\\\\00000\\\\Z1692808465_2_T1.pdbqt',\n 'tmpycuut84t\\\\AABBAC\\\\00000\\\\Z1704291366_1_T1.pdbqt',\n 'tmpycuut84t\\\\AABBAC\\\\00000\\\\Z1816376322_1_T1.pdbqt',\n 'tmpycuut84t\\\\AABBAC\\\\00000\\\\Z1816376390_1_T1.pdbqt',\n 'tmpycuut84t\\\\AABBAC\\\\00000\\\\Z1907502586_1_T1.pdbqt',\n 'tmpycuut84t\\\\AABBAC\\\\00000\\\\Z2012928675_1_T1.pdbqt',\n 'tmpycuut84t\\\\AABBAC\\\\00000\\\\Z2028691331_1_T1.pdbqt',\n 'tmpycuut84t\\\\AABBAC\\\\00000\\\\Z2041050687_1_T1.pdbqt',\n 'tmpycuut84t\\\\AABBAC\\\\00000\\\\Z2041050697_1_T1.pdbqt',\n 'tmpycuut84t\\\\AABBAC\\\\00000\\\\Z2041050717_1_T1.pdbqt',\n 'tmpycuut84t\\\\AABBAC\\\\00000\\\\Z2041050773_1_T1.pdbqt',\n 'tmpycuut84t\\\\AABBAC\\\\00000\\\\Z2041051235_1_T1.pdbqt',\n 'tmpycuut84t\\\\AABBAC\\\\00000\\\\Z2041052017_1_T1.pdbqt',\n 'tmpycuut84t\\\\AABBAC\\\\00000\\\\Z2041052017_2_T1.pdbqt',\n 'tmpycuut84t\\\\AABBAC\\\\00000\\\\Z2041060463_1_T1.pdbqt',\n 'tmpycuut84t\\\\AABBAC\\\\00000\\\\Z2041071514_1_T1.pdbqt',\n 'tmpycuut84t\\\\AABBAC\\\\00000\\\\Z2041071538_1_T1.pdbqt',\n 'tmpycuut84t\\\\AABBAC\\\\00000\\\\Z2041075129_1_T1.pdbqt',\n 'tmpycuut84t\\\\AABBAC\\\\00000\\\\Z2041075708_1_T1.pdbqt',\n 'tmpycuut84t\\\\AABBAC\\\\00000\\\\Z2041081572_1_T1.pdbqt',\n 'tmpycuut84t\\\\AABBAC\\\\00000\\\\Z2228875948_1_T1.pdbqt',\n 'tmpycuut84t\\\\AABBAC\\\\00000\\\\Z2228875948_2_T1.pdbqt',\n 'tmpycuut84t\\\\AABBAC\\\\00000\\\\Z2228875948_3_T1.pdbqt',\n 'tmpycuut84t\\\\AABBAC\\\\00000\\\\Z2228875948_4_T1.pdbqt',\n 'tmpycuut84t\\\\AABBAC\\\\00000\\\\Z2234219137_1_T1.pdbqt',\n 'tmpycuut84t\\\\AABBAC\\\\00000\\\\Z2234219137_2_T1.pdbqt',\n 'tmpycuut84t\\\\AABBAC\\\\00000\\\\Z228585842_1_T1.pdbqt',\n 'tmpycuut84t\\\\AABBAC\\\\00000\\\\Z2438091208_1_T1.pdbqt',\n 'tmpycuut84t\\\\AABBAC\\\\00000\\\\Z2438384522_1_T1.pdbqt',\n 'tmpycuut84t\\\\AABBAC\\\\00000\\\\Z2438384522_2_T1.pdbqt',\n 'tmpycuut84t\\\\AABBAC\\\\00000\\\\Z2438384522_3_T1.pdbqt',\n 'tmpycuut84t\\\\AABBAC\\\\00000\\\\Z2438384522_4_T1.pdbqt',\n 'tmpycuut84t\\\\AABBAC\\\\00000\\\\Z2450898087_1_T1.pdbqt',\n 'tmpycuut84t\\\\AABBAC\\\\00000\\\\Z2485166593_1_T1.pdbqt',\n 'tmpycuut84t\\\\AABBAC\\\\00000\\\\Z2485399079_1_T1.pdbqt',\n 'tmpycuut84t\\\\AABBAC\\\\00000\\\\Z2485399079_2_T1.pdbqt',\n 'tmpycuut84t\\\\AABBAC\\\\00000\\\\Z2489447902_1_T1.pdbqt',\n 'tmpycuut84t\\\\AABBAC\\\\00000\\\\Z2489447902_2_T1.pdbqt',\n 'tmpycuut84t\\\\AABBAC\\\\00000\\\\Z2499112464_1_T1.pdbqt',\n 'tmpycuut84t\\\\AABBAC\\\\00000\\\\Z2499112464_2_T1.pdbqt',\n 'tmpycuut84t\\\\AABBAC\\\\00000\\\\Z2500663227_1_T1.pdbqt',\n 'tmpycuut84t\\\\AABBAC\\\\00000\\\\Z2615237457_1_T1.pdbqt',\n 'tmpycuut84t\\\\AABBAC\\\\00000\\\\Z2617629723_1_T1.pdbqt',\n 'tmpycuut84t\\\\AABBAC\\\\00000\\\\Z2617629723_2_T1.pdbqt',\n 'tmpycuut84t\\\\AABBAC\\\\00000\\\\Z2617714620_1_T1.pdbqt',\n 'tmpycuut84t\\\\AABBAC\\\\00000\\\\Z2617714620_2_T1.pdbqt',\n 'tmpycuut84t\\\\AABBAC\\\\00000\\\\Z2617714622_1_T1.pdbqt',\n 'tmpycuut84t\\\\AABBAC\\\\00000\\\\Z2617714622_2_T1.pdbqt',\n 'tmpycuut84t\\\\AABBAC\\\\00000\\\\Z2618335221_1_T1.pdbqt',\n 'tmpycuut84t\\\\AABBAC\\\\00000\\\\Z2620489667_1_T1.pdbqt',\n 'tmpycuut84t\\\\AABBAC\\\\00000\\\\Z2620489667_2_T1.pdbqt',\n 'tmpycuut84t\\\\AABBAC\\\\00000\\\\Z2633220185_1_T1.pdbqt',\n 'tmpycuut84t\\\\AABBAC\\\\00000\\\\Z2638834422_3_T1.pdbqt',\n 'tmpycuut84t\\\\AABBAC\\\\00000\\\\Z2638834422_4_T1.pdbqt',\n 'tmpycuut84t\\\\AABBAC\\\\00000\\\\Z2640249620_1_T1.pdbqt',\n 'tmpycuut84t\\\\AABBAC\\\\00000\\\\Z2640249620_2_T1.pdbqt',\n 'tmpycuut84t\\\\AABBAC\\\\00000\\\\Z2640249620_3_T1.pdbqt',\n 'tmpycuut84t\\\\AABBAC\\\\00000\\\\Z2640249620_4_T1.pdbqt',\n 'tmpycuut84t\\\\AABBAC\\\\00000\\\\Z2640249620_5_T1.pdbqt',\n 'tmpycuut84t\\\\AABBAC\\\\00000\\\\Z2640249620_6_T1.pdbqt',\n 'tmpycuut84t\\\\AABBAC\\\\00000\\\\Z2640249620_7_T1.pdbqt',\n 'tmpycuut84t\\\\AABBAC\\\\00000\\\\Z2640249620_8_T1.pdbqt',\n 'tmpycuut84t\\\\AABBAC\\\\00000\\\\Z2640791963_1_T1.pdbqt',\n 'tmpycuut84t\\\\AABBAC\\\\00000\\\\Z2640791963_2_T1.pdbqt',\n 'tmpycuut84t\\\\AABBAC\\\\00000\\\\Z2640972680_1_T1.pdbqt',\n 'tmpycuut84t\\\\AABBAC\\\\00000\\\\Z2640972680_2_T1.pdbqt',\n 'tmpycuut84t\\\\AABBAC\\\\00000\\\\Z2641081988_1_T1.pdbqt',\n 'tmpycuut84t\\\\AABBAC\\\\00000\\\\Z2641081988_2_T1.pdbqt',\n 'tmpycuut84t\\\\AABBAC\\\\00000\\\\Z2641086183_1_T1.pdbqt',\n 'tmpycuut84t\\\\AABBAC\\\\00000\\\\Z2731861171_1_T1.pdbqt',\n 'tmpycuut84t\\\\AABBAC\\\\00000\\\\Z2731861171_2_T1.pdbqt',\n 'tmpycuut84t\\\\AABBAC\\\\00000\\\\Z2773238850_1_T1.pdbqt',\n 'tmpycuut84t\\\\AABBAC\\\\00000\\\\Z2789085120_1_T1.pdbqt',\n 'tmpycuut84t\\\\AABBAC\\\\00000\\\\Z2789918351_1_T1.pdbqt',\n 'tmpycuut84t\\\\AABBAC\\\\00000\\\\Z2789922736_1_T1.pdbqt',\n 'tmpycuut84t\\\\AABBAC\\\\00000\\\\Z2790129525_1_T1.pdbqt',\n 'tmpycuut84t\\\\AABBAC\\\\00000\\\\Z2792756610_1_T1.pdbqt',\n 'tmpycuut84t\\\\AABBAC\\\\00000\\\\Z2842158585_1_T1.pdbqt',\n 'tmpycuut84t\\\\AABBAC\\\\00000\\\\Z2853139150_1_T1.pdbqt',\n 'tmpycuut84t\\\\AABBAC\\\\00000\\\\Z2890544631_1_T1.pdbqt',\n 'tmpycuut84t\\\\AABBAC\\\\00000\\\\Z2890544631_2_T1.pdbqt',\n 'tmpycuut84t\\\\AABBAC\\\\00000\\\\Z2904073184_1_T1.pdbqt',\n 'tmpycuut84t\\\\AABBAC\\\\00000\\\\Z2957010326_1_T1.pdbqt',\n 'tmpycuut84t\\\\AABBAC\\\\00000\\\\Z2957010326_2_T1.pdbqt',\n 'tmpycuut84t\\\\AABBAC\\\\00000\\\\Z2965933592_1_T1.pdbqt',\n 'tmpycuut84t\\\\AABBAC\\\\00000\\\\Z2965940059_1_T1.pdbqt',\n 'tmpycuut84t\\\\AABBAC\\\\00000\\\\Z2968502989_1_T1.pdbqt',\n 'tmpycuut84t\\\\AABBAC\\\\00000\\\\Z2980869922_1_T1.pdbqt',\n 'tmpycuut84t\\\\AABBAC\\\\00000\\\\Z2980869922_2_T1.pdbqt',\n 'tmpycuut84t\\\\AABBAC\\\\00000\\\\Z2981227507_1_T1.pdbqt',\n 'tmpycuut84t\\\\AABBAC\\\\00000\\\\Z2981227507_1_T2.pdbqt',\n 'tmpycuut84t\\\\AABBAC\\\\00000\\\\Z3009669601_1_T1.pdbqt',\n 'tmpycuut84t\\\\AABBAC\\\\00000\\\\Z3104152758_1_T1.pdbqt',\n 'tmpycuut84t\\\\AABBAC\\\\00000\\\\Z3104152758_2_T1.pdbqt',\n 'tmpycuut84t\\\\AABBAC\\\\00000\\\\Z31602626_1_T1.pdbqt',\n 'tmpycuut84t\\\\AABBAC\\\\00000\\\\Z3184191132_1_T1.pdbqt',\n 'tmpycuut84t\\\\AABBAC\\\\00000\\\\Z3184191132_2_T1.pdbqt',\n 'tmpycuut84t\\\\AABBAC\\\\00000\\\\Z3184191132_3_T1.pdbqt',\n 'tmpycuut84t\\\\AABBAC\\\\00000\\\\Z3184191132_4_T1.pdbqt',\n 'tmpycuut84t\\\\AABBAC\\\\00000\\\\Z54748691_1_T1.pdbqt',\n 'tmpycuut84t\\\\AABBAC\\\\00000\\\\Z57472598_1_T1.pdbqt',\n 'tmpycuut84t\\\\AABBAC\\\\00000\\\\Z886717618_1_T1.pdbqt',\n 'tmpycuut84t\\\\AABBAC\\\\00000\\\\Z886717618_2_T1.pdbqt',\n 'tmpycuut84t\\\\AABBAC\\\\00000\\\\Z961329912_1_T1.pdbqt',\n 'tmpycuut84t\\\\AABBAC\\\\00000\\\\Z961329912_2_T1.pdbqt',\n 'tmpycuut84t\\\\AABBAD\\\\00000\\\\PV-000100806226_1_T1.pdbqt',\n 'tmpycuut84t\\\\AABBAD\\\\00000\\\\PV-000100808486_1_T1.pdbqt',\n 'tmpycuut84t\\\\AABBAD\\\\00000\\\\PV-000153188699_1_T1.pdbqt',\n 'tmpycuut84t\\\\AABBAD\\\\00000\\\\PV-001804302123_1_T1.pdbqt',\n 'tmpycuut84t\\\\AABBAD\\\\00000\\\\PV-001820521218_1_T1.pdbqt',\n 'tmpycuut84t\\\\AABBAD\\\\00000\\\\PV-001820521218_2_T1.pdbqt',\n 'tmpycuut84t\\\\AABBAD\\\\00000\\\\PV-001820521306_1_T1.pdbqt',\n 'tmpycuut84t\\\\AABBAD\\\\00000\\\\PV-001820521306_2_T1.pdbqt',\n 'tmpycuut84t\\\\AABBAD\\\\00000\\\\PV-001820522790_1_T1.pdbqt',\n 'tmpycuut84t\\\\AABBAD\\\\00000\\\\PV-001867431015_1_T1.pdbqt',\n 'tmpycuut84t\\\\AABBAD\\\\00000\\\\PV-001881171467_1_T1.pdbqt',\n 'tmpycuut84t\\\\AABBAD\\\\00000\\\\PV-001881171467_2_T1.pdbqt',\n 'tmpycuut84t\\\\AABBAD\\\\00000\\\\PV-001896565745_1_T1.pdbqt',\n 'tmpycuut84t\\\\AABBAD\\\\00000\\\\PV-001931919618_1_T1.pdbqt',\n 'tmpycuut84t\\\\AABBAD\\\\00000\\\\PV-001931919625_1_T1.pdbqt',\n 'tmpycuut84t\\\\AABBAD\\\\00000\\\\PV-001931919773_1_T1.pdbqt',\n 'tmpycuut84t\\\\AABBAD\\\\00000\\\\PV-001931919789_1_T1.pdbqt',\n 'tmpycuut84t\\\\AABBAD\\\\00000\\\\PV-001931921785_1_T1.pdbqt',\n 'tmpycuut84t\\\\AABBAD\\\\00000\\\\PV-001936179446_1_T1.pdbqt',\n 'tmpycuut84t\\\\AABBAD\\\\00000\\\\PV-001936179446_2_T1.pdbqt',\n 'tmpycuut84t\\\\AABBAD\\\\00000\\\\Z1031170164_1_T1.pdbqt',\n 'tmpycuut84t\\\\AABBAD\\\\00000\\\\Z1127186441_1_T1.pdbqt',\n 'tmpycuut84t\\\\AABBAD\\\\00000\\\\Z1127186441_2_T1.pdbqt',\n 'tmpycuut84t\\\\AABBAD\\\\00000\\\\Z133718524_1_T1.pdbqt',\n 'tmpycuut84t\\\\AABBAD\\\\00000\\\\Z1342135883_1_T1.pdbqt',\n 'tmpycuut84t\\\\AABBAD\\\\00000\\\\Z1342135883_1_T2.pdbqt',\n 'tmpycuut84t\\\\AABBAD\\\\00000\\\\Z1342135883_1_T3.pdbqt',\n 'tmpycuut84t\\\\AABBAD\\\\00000\\\\Z1342135883_1_T4.pdbqt',\n 'tmpycuut84t\\\\AABBAD\\\\00000\\\\Z1342135883_1_T5.pdbqt',\n 'tmpycuut84t\\\\AABBAD\\\\00000\\\\Z1342135883_2_T1.pdbqt',\n 'tmpycuut84t\\\\AABBAD\\\\00000\\\\Z1342135883_2_T2.pdbqt',\n 'tmpycuut84t\\\\AABBAD\\\\00000\\\\Z1342135883_2_T3.pdbqt',\n 'tmpycuut84t\\\\AABBAD\\\\00000\\\\Z1342135883_2_T4.pdbqt',\n 'tmpycuut84t\\\\AABBAD\\\\00000\\\\Z1342135883_2_T5.pdbqt',\n 'tmpycuut84t\\\\AABBAD\\\\00000\\\\Z1440439677_1_T1.pdbqt',\n 'tmpycuut84t\\\\AABBAD\\\\00000\\\\Z1440439677_2_T1.pdbqt',\n 'tmpycuut84t\\\\AABBAD\\\\00000\\\\Z1509893469_1_T1.pdbqt',\n 'tmpycuut84t\\\\AABBAD\\\\00000\\\\Z1509893469_2_T1.pdbqt',\n 'tmpycuut84t\\\\AABBAD\\\\00000\\\\Z1550705527_1_T1.pdbqt',\n 'tmpycuut84t\\\\AABBAD\\\\00000\\\\Z1561634515_1_T1.pdbqt',\n 'tmpycuut84t\\\\AABBAD\\\\00000\\\\Z1561634515_1_T2.pdbqt',\n 'tmpycuut84t\\\\AABBAD\\\\00000\\\\Z1561634515_2_T1.pdbqt',\n 'tmpycuut84t\\\\AABBAD\\\\00000\\\\Z1561634515_2_T2.pdbqt',\n 'tmpycuut84t\\\\AABBAD\\\\00000\\\\Z1574699707_1_T1.pdbqt',\n 'tmpycuut84t\\\\AABBAD\\\\00000\\\\Z1574699707_1_T2.pdbqt',\n 'tmpycuut84t\\\\AABBAD\\\\00000\\\\Z1612384392_1_T1.pdbqt',\n 'tmpycuut84t\\\\AABBAD\\\\00000\\\\Z1612384392_1_T2.pdbqt',\n 'tmpycuut84t\\\\AABBAD\\\\00000\\\\Z1612384392_1_T3.pdbqt',\n 'tmpycuut84t\\\\AABBAD\\\\00000\\\\Z1612384392_1_T4.pdbqt',\n 'tmpycuut84t\\\\AABBAD\\\\00000\\\\Z1612384392_2_T1.pdbqt',\n 'tmpycuut84t\\\\AABBAD\\\\00000\\\\Z1612384392_2_T2.pdbqt',\n 'tmpycuut84t\\\\AABBAD\\\\00000\\\\Z1612384392_2_T3.pdbqt',\n 'tmpycuut84t\\\\AABBAD\\\\00000\\\\Z1612384392_2_T4.pdbqt',\n 'tmpycuut84t\\\\AABBAD\\\\00000\\\\Z1612530326_1_T1.pdbqt',\n 'tmpycuut84t\\\\AABBAD\\\\00000\\\\Z1612530326_1_T2.pdbqt',\n 'tmpycuut84t\\\\AABBAD\\\\00000\\\\Z1612530326_1_T3.pdbqt',\n 'tmpycuut84t\\\\AABBAD\\\\00000\\\\Z1612530326_1_T4.pdbqt',\n 'tmpycuut84t\\\\AABBAD\\\\00000\\\\Z1612530326_2_T1.pdbqt',\n 'tmpycuut84t\\\\AABBAD\\\\00000\\\\Z1612530326_2_T2.pdbqt',\n 'tmpycuut84t\\\\AABBAD\\\\00000\\\\Z1612530326_2_T3.pdbqt',\n 'tmpycuut84t\\\\AABBAD\\\\00000\\\\Z1612530326_2_T4.pdbqt',\n 'tmpycuut84t\\\\AABBAD\\\\00000\\\\Z1617205496_1_T1.pdbqt',\n 'tmpycuut84t\\\\AABBAD\\\\00000\\\\Z1625650390_1_T1.pdbqt',\n 'tmpycuut84t\\\\AABBAD\\\\00000\\\\Z1625650390_1_T2.pdbqt',\n 'tmpycuut84t\\\\AABBAD\\\\00000\\\\Z1656509137_1_T1.pdbqt',\n 'tmpycuut84t\\\\AABBAD\\\\00000\\\\Z1692893913_1_T1.pdbqt',\n 'tmpycuut84t\\\\AABBAD\\\\00000\\\\Z1692894056_1_T1.pdbqt',\n 'tmpycuut84t\\\\AABBAD\\\\00000\\\\Z1692907579_1_T1.pdbqt',\n 'tmpycuut84t\\\\AABBAD\\\\00000\\\\Z1692926572_1_T1.pdbqt',\n 'tmpycuut84t\\\\AABBAD\\\\00000\\\\Z1692941397_1_T1.pdbqt',\n 'tmpycuut84t\\\\AABBAD\\\\00000\\\\Z1721062364_1_T1.pdbqt',\n 'tmpycuut84t\\\\AABBAD\\\\00000\\\\Z1721062364_2_T1.pdbqt',\n 'tmpycuut84t\\\\AABBAD\\\\00000\\\\Z1724114340_1_T1.pdbqt',\n 'tmpycuut84t\\\\AABBAD\\\\00000\\\\Z1724114340_2_T1.pdbqt',\n 'tmpycuut84t\\\\AABBAD\\\\00000\\\\Z1724127549_1_T1.pdbqt',\n 'tmpycuut84t\\\\AABBAD\\\\00000\\\\Z1726970168_1_T1.pdbqt',\n 'tmpycuut84t\\\\AABBAD\\\\00000\\\\Z1726970168_2_T1.pdbqt',\n 'tmpycuut84t\\\\AABBAD\\\\00000\\\\Z1748681578_1_T1.pdbqt',\n 'tmpycuut84t\\\\AABBAD\\\\00000\\\\Z1748681578_2_T1.pdbqt',\n 'tmpycuut84t\\\\AABBAD\\\\00000\\\\Z1784467806_1_T1.pdbqt',\n 'tmpycuut84t\\\\AABBAD\\\\00000\\\\Z1784467806_2_T1.pdbqt',\n 'tmpycuut84t\\\\AABBAD\\\\00000\\\\Z1816750250_1_T1.pdbqt',\n 'tmpycuut84t\\\\AABBAD\\\\00000\\\\Z1816750275_1_T1.pdbqt',\n 'tmpycuut84t\\\\AABBAD\\\\00000\\\\Z1817116062_1_T1.pdbqt',\n 'tmpycuut84t\\\\AABBAD\\\\00000\\\\Z1817116144_1_T1.pdbqt',\n 'tmpycuut84t\\\\AABBAD\\\\00000\\\\Z1822992947_1_T1.pdbqt',\n 'tmpycuut84t\\\\AABBAD\\\\00000\\\\Z1824369341_1_T1.pdbqt',\n 'tmpycuut84t\\\\AABBAD\\\\00000\\\\Z1873423878_1_T1.pdbqt',\n 'tmpycuut84t\\\\AABBAD\\\\00000\\\\Z1873423878_2_T1.pdbqt',\n 'tmpycuut84t\\\\AABBAD\\\\00000\\\\Z2004915952_1_T1.pdbqt',\n 'tmpycuut84t\\\\AABBAD\\\\00000\\\\Z2004915952_2_T1.pdbqt',\n 'tmpycuut84t\\\\AABBAD\\\\00000\\\\Z2014051131_1_T1.pdbqt',\n 'tmpycuut84t\\\\AABBAD\\\\00000\\\\Z2014051131_1_T2.pdbqt',\n 'tmpycuut84t\\\\AABBAD\\\\00000\\\\Z2027289437_1_T1.pdbqt',\n 'tmpycuut84t\\\\AABBAD\\\\00000\\\\Z2027289437_2_T1.pdbqt',\n 'tmpycuut84t\\\\AABBAD\\\\00000\\\\Z2041068613_1_T1.pdbqt',\n 'tmpycuut84t\\\\AABBAD\\\\00000\\\\Z2041075796_1_T1.pdbqt',\n 'tmpycuut84t\\\\AABBAD\\\\00000\\\\Z2041079646_1_T1.pdbqt',\n 'tmpycuut84t\\\\AABBAD\\\\00000\\\\Z2173930554_1_T1.pdbqt',\n 'tmpycuut84t\\\\AABBAD\\\\00000\\\\Z2173930558_1_T1.pdbqt',\n 'tmpycuut84t\\\\AABBAD\\\\00000\\\\Z2218760920_1_T1.pdbqt',\n 'tmpycuut84t\\\\AABBAD\\\\00000\\\\Z2218764711_1_T1.pdbqt',\n 'tmpycuut84t\\\\AABBAD\\\\00000\\\\Z2218996059_1_T1.pdbqt',\n 'tmpycuut84t\\\\AABBAD\\\\00000\\\\Z2231190480_1_T1.pdbqt',\n 'tmpycuut84t\\\\AABBAD\\\\00000\\\\Z227919144_1_T1.pdbqt',\n 'tmpycuut84t\\\\AABBAD\\\\00000\\\\Z2382793358_1_T1.pdbqt',\n 'tmpycuut84t\\\\AABBAD\\\\00000\\\\Z2408124941_1_T1.pdbqt',\n 'tmpycuut84t\\\\AABBAD\\\\00000\\\\Z2408124941_2_T1.pdbqt',\n 'tmpycuut84t\\\\AABBAD\\\\00000\\\\Z2438090921_1_T1.pdbqt',\n 'tmpycuut84t\\\\AABBAD\\\\00000\\\\Z2438090962_1_T1.pdbqt',\n 'tmpycuut84t\\\\AABBAD\\\\00000\\\\Z2438090962_2_T1.pdbqt',\n 'tmpycuut84t\\\\AABBAD\\\\00000\\\\Z2442906607_1_T1.pdbqt',\n 'tmpycuut84t\\\\AABBAD\\\\00000\\\\Z2443026788_1_T1.pdbqt',\n 'tmpycuut84t\\\\AABBAD\\\\00000\\\\Z2443026788_2_T1.pdbqt',\n 'tmpycuut84t\\\\AABBAD\\\\00000\\\\Z2443429681_1_T1.pdbqt',\n 'tmpycuut84t\\\\AABBAD\\\\00000\\\\Z2445699704_1_T1.pdbqt',\n 'tmpycuut84t\\\\AABBAD\\\\00000\\\\Z2445699704_2_T1.pdbqt',\n 'tmpycuut84t\\\\AABBAD\\\\00000\\\\Z2446249794_1_T1.pdbqt',\n 'tmpycuut84t\\\\AABBAD\\\\00000\\\\Z2446249794_2_T1.pdbqt',\n 'tmpycuut84t\\\\AABBAD\\\\00000\\\\Z2449737857_1_T1.pdbqt',\n 'tmpycuut84t\\\\AABBAD\\\\00000\\\\Z2449737873_1_T1.pdbqt',\n 'tmpycuut84t\\\\AABBAD\\\\00000\\\\Z2449737896_1_T1.pdbqt',\n 'tmpycuut84t\\\\AABBAD\\\\00000\\\\Z2457164603_1_T1.pdbqt',\n 'tmpycuut84t\\\\AABBAD\\\\00000\\\\Z2458225894_1_T1.pdbqt',\n 'tmpycuut84t\\\\AABBAD\\\\00000\\\\Z2458225894_2_T1.pdbqt',\n 'tmpycuut84t\\\\AABBAD\\\\00000\\\\Z2472939324_1_T1.pdbqt',\n 'tmpycuut84t\\\\AABBAD\\\\00000\\\\Z2477649460_1_T1.pdbqt',\n 'tmpycuut84t\\\\AABBAD\\\\00000\\\\Z2477649460_2_T1.pdbqt',\n 'tmpycuut84t\\\\AABBAD\\\\00000\\\\Z2484867045_1_T1.pdbqt',\n 'tmpycuut84t\\\\AABBAD\\\\00000\\\\Z2484867045_2_T1.pdbqt',\n 'tmpycuut84t\\\\AABBAD\\\\00000\\\\Z2484867101_1_T1.pdbqt',\n 'tmpycuut84t\\\\AABBAD\\\\00000\\\\Z2489457462_1_T1.pdbqt',\n 'tmpycuut84t\\\\AABBAD\\\\00000\\\\Z2489457462_2_T1.pdbqt',\n 'tmpycuut84t\\\\AABBAD\\\\00000\\\\Z2499069378_1_T1.pdbqt',\n 'tmpycuut84t\\\\AABBAD\\\\00000\\\\Z2499069378_2_T1.pdbqt',\n 'tmpycuut84t\\\\AABBAD\\\\00000\\\\Z2580671358_1_T1.pdbqt',\n 'tmpycuut84t\\\\AABBAD\\\\00000\\\\Z2599601574_1_T1.pdbqt',\n 'tmpycuut84t\\\\AABBAD\\\\00000\\\\Z2607170995_1_T1.pdbqt',\n 'tmpycuut84t\\\\AABBAD\\\\00000\\\\Z2610448698_1_T1.pdbqt',\n 'tmpycuut84t\\\\AABBAD\\\\00000\\\\Z2610448698_1_T2.pdbqt',\n 'tmpycuut84t\\\\AABBAD\\\\00000\\\\Z2635648769_1_T1.pdbqt',\n 'tmpycuut84t\\\\AABBAD\\\\00000\\\\Z2635648769_2_T1.pdbqt',\n 'tmpycuut84t\\\\AABBAD\\\\00000\\\\Z2640450202_1_T1.pdbqt',\n 'tmpycuut84t\\\\AABBAD\\\\00000\\\\Z2640450202_2_T1.pdbqt',\n 'tmpycuut84t\\\\AABBAD\\\\00000\\\\Z2640972729_1_T1.pdbqt',\n 'tmpycuut84t\\\\AABBAD\\\\00000\\\\Z2640972729_1_T2.pdbqt',\n 'tmpycuut84t\\\\AABBAD\\\\00000\\\\Z2640972729_2_T1.pdbqt',\n 'tmpycuut84t\\\\AABBAD\\\\00000\\\\Z2640972729_2_T2.pdbqt',\n 'tmpycuut84t\\\\AABBAD\\\\00000\\\\Z2646325403_1_T1.pdbqt',\n 'tmpycuut84t\\\\AABBAD\\\\00000\\\\Z2669071124_1_T1.pdbqt',\n 'tmpycuut84t\\\\AABBAD\\\\00000\\\\Z2669071124_2_T1.pdbqt',\n 'tmpycuut84t\\\\AABBAD\\\\00000\\\\Z2669071129_1_T1.pdbqt',\n 'tmpycuut84t\\\\AABBAD\\\\00000\\\\Z2720802650_1_T1.pdbqt',\n 'tmpycuut84t\\\\AABBAD\\\\00000\\\\Z2720802650_2_T1.pdbqt',\n 'tmpycuut84t\\\\AABBAD\\\\00000\\\\Z2763232036_1_T1.pdbqt',\n 'tmpycuut84t\\\\AABBAD\\\\00000\\\\Z2764583070_1_T1.pdbqt',\n 'tmpycuut84t\\\\AABBAD\\\\00000\\\\Z2789084946_1_T1.pdbqt',\n 'tmpycuut84t\\\\AABBAD\\\\00000\\\\Z2795683687_1_T1.pdbqt',\n 'tmpycuut84t\\\\AABBAD\\\\00000\\\\Z2795699946_1_T1.pdbqt',\n 'tmpycuut84t\\\\AABBAD\\\\00000\\\\Z2795744256_1_T1.pdbqt',\n 'tmpycuut84t\\\\AABBAD\\\\00000\\\\Z2796168899_1_T1.pdbqt',\n 'tmpycuut84t\\\\AABBAD\\\\00000\\\\Z2796168899_2_T1.pdbqt',\n 'tmpycuut84t\\\\AABBAD\\\\00000\\\\Z2797953004_1_T1.pdbqt',\n 'tmpycuut84t\\\\AABBAD\\\\00000\\\\Z2798028248_1_T1.pdbqt',\n 'tmpycuut84t\\\\AABBAD\\\\00000\\\\Z2799961857_1_T1.pdbqt',\n 'tmpycuut84t\\\\AABBAD\\\\00000\\\\Z2800357698_1_T1.pdbqt',\n 'tmpycuut84t\\\\AABBAD\\\\00000\\\\Z2800357698_2_T1.pdbqt',\n 'tmpycuut84t\\\\AABBAD\\\\00000\\\\Z2800417612_1_T1.pdbqt',\n 'tmpycuut84t\\\\AABBAD\\\\00000\\\\Z2800466960_1_T1.pdbqt',\n 'tmpycuut84t\\\\AABBAD\\\\00000\\\\Z2800468261_1_T1.pdbqt',\n 'tmpycuut84t\\\\AABBAD\\\\00000\\\\Z2800711726_1_T1.pdbqt',\n 'tmpycuut84t\\\\AABBAD\\\\00000\\\\Z2800711726_2_T1.pdbqt',\n 'tmpycuut84t\\\\AABBAD\\\\00000\\\\Z2800760444_1_T1.pdbqt',\n 'tmpycuut84t\\\\AABBAD\\\\00000\\\\Z2800777002_1_T1.pdbqt',\n 'tmpycuut84t\\\\AABBAD\\\\00000\\\\Z2800858182_1_T1.pdbqt',\n 'tmpycuut84t\\\\AABBAD\\\\00000\\\\Z2800875512_1_T1.pdbqt',\n 'tmpycuut84t\\\\AABBAD\\\\00000\\\\Z2800890459_1_T1.pdbqt',\n 'tmpycuut84t\\\\AABBAD\\\\00000\\\\Z2801090631_1_T1.pdbqt',\n 'tmpycuut84t\\\\AABBAD\\\\00000\\\\Z2801108135_1_T1.pdbqt',\n 'tmpycuut84t\\\\AABBAD\\\\00000\\\\Z2801149413_1_T1.pdbqt',\n 'tmpycuut84t\\\\AABBAD\\\\00000\\\\Z2801149942_1_T1.pdbqt',\n 'tmpycuut84t\\\\AABBAD\\\\00000\\\\Z2801152631_1_T1.pdbqt',\n 'tmpycuut84t\\\\AABBAD\\\\00000\\\\Z2801154865_1_T1.pdbqt',\n 'tmpycuut84t\\\\AABBAD\\\\00000\\\\Z2801154865_2_T1.pdbqt',\n 'tmpycuut84t\\\\AABBAD\\\\00000\\\\Z2801168435_1_T1.pdbqt',\n 'tmpycuut84t\\\\AABBAD\\\\00000\\\\Z2801204503_1_T1.pdbqt',\n 'tmpycuut84t\\\\AABBAD\\\\00000\\\\Z2801204503_2_T1.pdbqt',\n 'tmpycuut84t\\\\AABBAD\\\\00000\\\\Z2801319711_1_T1.pdbqt',\n 'tmpycuut84t\\\\AABBAD\\\\00000\\\\Z2801322738_2_T1.pdbqt',\n 'tmpycuut84t\\\\AABBAD\\\\00000\\\\Z2801375125_1_T1.pdbqt',\n 'tmpycuut84t\\\\AABBAD\\\\00000\\\\Z2801484381_1_T1.pdbqt',\n 'tmpycuut84t\\\\AABBAD\\\\00000\\\\Z2801484381_2_T1.pdbqt',\n 'tmpycuut84t\\\\AABBAD\\\\00000\\\\Z2801484381_3_T1.pdbqt',\n 'tmpycuut84t\\\\AABBAD\\\\00000\\\\Z2801484381_4_T1.pdbqt',\n 'tmpycuut84t\\\\AABBAD\\\\00000\\\\Z2801515316_1_T1.pdbqt',\n 'tmpycuut84t\\\\AABBAD\\\\00000\\\\Z2801515601_1_T1.pdbqt',\n 'tmpycuut84t\\\\AABBAD\\\\00000\\\\Z2801524051_1_T1.pdbqt',\n 'tmpycuut84t\\\\AABBAD\\\\00000\\\\Z2801525531_1_T1.pdbqt',\n 'tmpycuut84t\\\\AABBAD\\\\00000\\\\Z2801537867_1_T1.pdbqt',\n 'tmpycuut84t\\\\AABBAD\\\\00000\\\\Z2801540595_1_T1.pdbqt',\n 'tmpycuut84t\\\\AABBAD\\\\00000\\\\Z2801540595_2_T1.pdbqt',\n 'tmpycuut84t\\\\AABBAD\\\\00000\\\\Z2801561039_1_T1.pdbqt',\n 'tmpycuut84t\\\\AABBAD\\\\00000\\\\Z2801563057_1_T1.pdbqt',\n 'tmpycuut84t\\\\AABBAD\\\\00000\\\\Z2801572629_1_T1.pdbqt',\n 'tmpycuut84t\\\\AABBAD\\\\00000\\\\Z2801579964_1_T1.pdbqt',\n 'tmpycuut84t\\\\AABBAD\\\\00000\\\\Z2801631921_2_T1.pdbqt',\n 'tmpycuut84t\\\\AABBAD\\\\00000\\\\Z2801634901_1_T1.pdbqt',\n 'tmpycuut84t\\\\AABBAD\\\\00000\\\\Z2801634901_2_T1.pdbqt',\n 'tmpycuut84t\\\\AABBAD\\\\00000\\\\Z2801640982_1_T1.pdbqt',\n 'tmpycuut84t\\\\AABBAD\\\\00000\\\\Z2801640982_2_T1.pdbqt',\n 'tmpycuut84t\\\\AABBAD\\\\00000\\\\Z2801704154_1_T1.pdbqt',\n 'tmpycuut84t\\\\AABBAD\\\\00000\\\\Z2801704154_2_T1.pdbqt',\n 'tmpycuut84t\\\\AABBAD\\\\00000\\\\Z2802171719_1_T1.pdbqt',\n 'tmpycuut84t\\\\AABBAD\\\\00000\\\\Z2802171719_2_T1.pdbqt',\n 'tmpycuut84t\\\\AABBAD\\\\00000\\\\Z2802171719_3_T1.pdbqt',\n 'tmpycuut84t\\\\AABBAD\\\\00000\\\\Z2802171719_4_T1.pdbqt',\n 'tmpycuut84t\\\\AABBAD\\\\00000\\\\Z2802236892_1_T1.pdbqt',\n 'tmpycuut84t\\\\AABBAD\\\\00000\\\\Z2802404563_1_T1.pdbqt',\n 'tmpycuut84t\\\\AABBAD\\\\00000\\\\Z2802416039_1_T1.pdbqt',\n 'tmpycuut84t\\\\AABBAD\\\\00000\\\\Z2804136581_1_T1.pdbqt',\n 'tmpycuut84t\\\\AABBAD\\\\00000\\\\Z2853067304_1_T1.pdbqt',\n 'tmpycuut84t\\\\AABBAD\\\\00000\\\\Z2853139395_1_T1.pdbqt',\n 'tmpycuut84t\\\\AABBAD\\\\00000\\\\Z2882956092_1_T1.pdbqt',\n 'tmpycuut84t\\\\AABBAD\\\\00000\\\\Z2890212213_1_T1.pdbqt',\n 'tmpycuut84t\\\\AABBAD\\\\00000\\\\Z2890212213_2_T1.pdbqt',\n 'tmpycuut84t\\\\AABBAD\\\\00000\\\\Z2911282891_1_T1.pdbqt',\n 'tmpycuut84t\\\\AABBAD\\\\00000\\\\Z2914096110_1_T1.pdbqt',\n 'tmpycuut84t\\\\AABBAD\\\\00000\\\\Z2914355342_1_T1.pdbqt',\n 'tmpycuut84t\\\\AABBAD\\\\00000\\\\Z2914459396_1_T1.pdbqt',\n 'tmpycuut84t\\\\AABBAD\\\\00000\\\\Z2914463537_1_T1.pdbqt',\n 'tmpycuut84t\\\\AABBAD\\\\00000\\\\Z2915076052_1_T1.pdbqt',\n 'tmpycuut84t\\\\AABBAD\\\\00000\\\\Z2915076052_1_T2.pdbqt',\n 'tmpycuut84t\\\\AABBAD\\\\00000\\\\Z2915076052_2_T1.pdbqt',\n 'tmpycuut84t\\\\AABBAD\\\\00000\\\\Z2915076052_2_T2.pdbqt',\n 'tmpycuut84t\\\\AABBAD\\\\00000\\\\Z2915222882_1_T1.pdbqt',\n 'tmpycuut84t\\\\AABBAD\\\\00000\\\\Z2915222882_2_T1.pdbqt',\n 'tmpycuut84t\\\\AABBAD\\\\00000\\\\Z2916152125_1_T1.pdbqt',\n 'tmpycuut84t\\\\AABBAD\\\\00000\\\\Z2916152125_3_T1.pdbqt',\n 'tmpycuut84t\\\\AABBAD\\\\00000\\\\Z2919060041_1_T1.pdbqt',\n 'tmpycuut84t\\\\AABBAD\\\\00000\\\\Z2957201080_1_T1.pdbqt',\n 'tmpycuut84t\\\\AABBAD\\\\00000\\\\Z2977295720_1_T1.pdbqt',\n 'tmpycuut84t\\\\AABBAD\\\\00000\\\\Z2977295720_2_T1.pdbqt',\n 'tmpycuut84t\\\\AABBAD\\\\00000\\\\Z300107782_1_T1.pdbqt',\n 'tmpycuut84t\\\\AABBAD\\\\00000\\\\Z300513670_1_T1.pdbqt',\n 'tmpycuut84t\\\\AABBAD\\\\00000\\\\Z300513670_2_T1.pdbqt',\n 'tmpycuut84t\\\\AABBAD\\\\00000\\\\Z365255930_1_T1.pdbqt',\n 'tmpycuut84t\\\\AABBAD\\\\00000\\\\Z365255930_2_T1.pdbqt',\n 'tmpycuut84t\\\\AABBAD\\\\00000\\\\Z927400318_1_T1.pdbqt',\n 'tmpycuut84t\\\\AABBAD\\\\00000\\\\Z933704026_1_T1.pdbqt',\n 'tmpycuut84t\\\\AABBAD\\\\00000\\\\Z961021930_1_T1.pdbqt',\n 'tmpycuut84t\\\\AABBAD\\\\00000\\\\Z961021930_2_T1.pdbqt',\n 'tmpycuut84t\\\\AABBAE\\\\00000\\\\PV-000386095770_1_T1.pdbqt',\n 'tmpycuut84t\\\\AABBAE\\\\00000\\\\PV-000545293899_1_T1.pdbqt',\n 'tmpycuut84t\\\\AABBAE\\\\00000\\\\PV-000549121385_1_T1.pdbqt',\n 'tmpycuut84t\\\\AABBAE\\\\00000\\\\PV-001889599459_1_T1.pdbqt',\n 'tmpycuut84t\\\\AABBAE\\\\00000\\\\PV-001889599459_2_T1.pdbqt',\n 'tmpycuut84t\\\\AABBAE\\\\00000\\\\PV-001931919780_1_T1.pdbqt',\n 'tmpycuut84t\\\\AABBAE\\\\00000\\\\Z1130380698_1_T1.pdbqt',\n 'tmpycuut84t\\\\AABBAE\\\\00000\\\\Z1250474647_1_T1.pdbqt',\n 'tmpycuut84t\\\\AABBAE\\\\00000\\\\Z1635296827_1_T1.pdbqt',\n 'tmpycuut84t\\\\AABBAE\\\\00000\\\\Z2214132733_1_T1.pdbqt',\n 'tmpycuut84t\\\\AABBAE\\\\00000\\\\Z2436621201_1_T1.pdbqt',\n 'tmpycuut84t\\\\AABBAE\\\\00000\\\\Z2436621201_2_T1.pdbqt',\n 'tmpycuut84t\\\\AABBAE\\\\00000\\\\Z2568527122_1_T1.pdbqt',\n 'tmpycuut84t\\\\AABBAE\\\\00000\\\\Z2772289666_1_T1.pdbqt',\n 'tmpycuut84t\\\\AABBAE\\\\00000\\\\Z2796298164_1_T1.pdbqt',\n 'tmpycuut84t\\\\AABBAE\\\\00000\\\\Z2800300417_1_T1.pdbqt',\n 'tmpycuut84t\\\\AABBAE\\\\00000\\\\Z2800300417_2_T1.pdbqt',\n 'tmpycuut84t\\\\AABBAE\\\\00000\\\\Z2800317206_1_T1.pdbqt',\n 'tmpycuut84t\\\\AABBAE\\\\00000\\\\Z2800909275_1_T1.pdbqt',\n 'tmpycuut84t\\\\AABBAE\\\\00000\\\\Z2800972906_1_T1.pdbqt',\n 'tmpycuut84t\\\\AABBAE\\\\00000\\\\Z2800972906_2_T1.pdbqt',\n 'tmpycuut84t\\\\AABBAE\\\\00000\\\\Z2800986486_1_T1.pdbqt',\n 'tmpycuut84t\\\\AABBAE\\\\00000\\\\Z2800986486_2_T1.pdbqt',\n 'tmpycuut84t\\\\AABBAE\\\\00000\\\\Z2801068268_1_T1.pdbqt',\n 'tmpycuut84t\\\\AABBAE\\\\00000\\\\Z2801068268_2_T1.pdbqt',\n 'tmpycuut84t\\\\AABBAE\\\\00000\\\\Z2801083999_1_T1.pdbqt',\n 'tmpycuut84t\\\\AABBAE\\\\00000\\\\Z2801083999_2_T1.pdbqt',\n 'tmpycuut84t\\\\AABBAE\\\\00000\\\\Z2801125251_1_T1.pdbqt',\n 'tmpycuut84t\\\\AABBAE\\\\00000\\\\Z2801193777_1_T1.pdbqt',\n 'tmpycuut84t\\\\AABBAE\\\\00000\\\\Z2801226101_1_T1.pdbqt',\n 'tmpycuut84t\\\\AABBAE\\\\00000\\\\Z2801279195_1_T1.pdbqt',\n 'tmpycuut84t\\\\AABBAE\\\\00000\\\\Z2801279195_2_T1.pdbqt',\n 'tmpycuut84t\\\\AABBAE\\\\00000\\\\Z2801504505_1_T1.pdbqt',\n 'tmpycuut84t\\\\AABBAE\\\\00000\\\\Z2801720762_1_T1.pdbqt',\n 'tmpycuut84t\\\\AABBAE\\\\00000\\\\Z2801893505_1_T1.pdbqt',\n 'tmpycuut84t\\\\AABBAE\\\\00000\\\\Z2801893505_2_T1.pdbqt',\n 'tmpycuut84t\\\\AABBAE\\\\00000\\\\Z2802125021_1_T1.pdbqt',\n 'tmpycuut84t\\\\AABBAE\\\\00000\\\\Z2911760054_1_T1.pdbqt',\n 'tmpycuut84t\\\\AABBBB\\\\00000\\\\Z104568582_1_T1.pdbqt',\n 'tmpycuut84t\\\\AABBBB\\\\00000\\\\Z1510053091_1_T1.pdbqt',\n 'tmpycuut84t\\\\AABBBB\\\\00000\\\\Z1510053091_2_T1.pdbqt',\n 'tmpycuut84t\\\\AABBBB\\\\00000\\\\Z1510329254_1_T1.pdbqt',\n 'tmpycuut84t\\\\AABBBB\\\\00000\\\\Z1510329254_2_T1.pdbqt',\n 'tmpycuut84t\\\\AABBBB\\\\00000\\\\Z162211752_1_T1.pdbqt',\n 'tmpycuut84t\\\\AABBBB\\\\00000\\\\Z1891773256_1_T1.pdbqt',\n 'tmpycuut84t\\\\AABBBB\\\\00000\\\\Z2448180750_1_T1.pdbqt',\n 'tmpycuut84t\\\\AABBBB\\\\00000\\\\Z54753223_1_T1.pdbqt',\n 'tmpycuut84t\\\\AABBBB\\\\00000\\\\Z57046233_1_T1.pdbqt',\n 'tmpycuut84t\\\\AABBBB\\\\00000\\\\Z85938655_1_T1.pdbqt',\n 'tmpycuut84t\\\\AABBBC\\\\00000\\\\PV-000099564039_1_T1.pdbqt',\n 'tmpycuut84t\\\\AABBBC\\\\00000\\\\PV-000148234288_1_T1.pdbqt',\n 'tmpycuut84t\\\\AABBBC\\\\00000\\\\PV-000175877332_1_T1.pdbqt',\n 'tmpycuut84t\\\\AABBBC\\\\00000\\\\PV-000490267844_1_T1.pdbqt',\n 'tmpycuut84t\\\\AABBBC\\\\00000\\\\PV-001499021977_1_T1.pdbqt',\n 'tmpycuut84t\\\\AABBBC\\\\00000\\\\PV-001820160960_1_T1.pdbqt',\n 'tmpycuut84t\\\\AABBBC\\\\00000\\\\PV-001822721762_1_T1.pdbqt',\n 'tmpycuut84t\\\\AABBBC\\\\00000\\\\PV-001842912503_1_T1.pdbqt',\n 'tmpycuut84t\\\\AABBBC\\\\00000\\\\Z1030696752_1_T1.pdbqt',\n 'tmpycuut84t\\\\AABBBC\\\\00000\\\\Z1031060842_1_T1.pdbqt',\n 'tmpycuut84t\\\\AABBBC\\\\00000\\\\Z1048864860_1_T1.pdbqt',\n 'tmpycuut84t\\\\AABBBC\\\\00000\\\\Z105930962_1_T1.pdbqt',\n 'tmpycuut84t\\\\AABBBC\\\\00000\\\\Z105930962_2_T1.pdbqt',\n 'tmpycuut84t\\\\AABBBC\\\\00000\\\\Z1068635278_1_T1.pdbqt',\n 'tmpycuut84t\\\\AABBBC\\\\00000\\\\Z1068791180_1_T1.pdbqt',\n 'tmpycuut84t\\\\AABBBC\\\\00000\\\\Z1068791180_2_T1.pdbqt',\n 'tmpycuut84t\\\\AABBBC\\\\00000\\\\Z1068851136_1_T1.pdbqt',\n 'tmpycuut84t\\\\AABBBC\\\\00000\\\\Z1083138426_1_T1.pdbqt',\n 'tmpycuut84t\\\\AABBBC\\\\00000\\\\Z1083138426_2_T1.pdbqt',\n 'tmpycuut84t\\\\AABBBC\\\\00000\\\\Z1131354024_1_T1.pdbqt',\n 'tmpycuut84t\\\\AABBBC\\\\00000\\\\Z1131354024_2_T1.pdbqt',\n 'tmpycuut84t\\\\AABBBC\\\\00000\\\\Z1131355150_1_T1.pdbqt',\n 'tmpycuut84t\\\\AABBBC\\\\00000\\\\Z1131355150_2_T1.pdbqt',\n 'tmpycuut84t\\\\AABBBC\\\\00000\\\\Z1179983450_1_T1.pdbqt',\n 'tmpycuut84t\\\\AABBBC\\\\00000\\\\Z1193264367_1_T1.pdbqt',\n 'tmpycuut84t\\\\AABBBC\\\\00000\\\\Z1228752535_1_T1.pdbqt',\n 'tmpycuut84t\\\\AABBBC\\\\00000\\\\Z1239687332_1_T1.pdbqt',\n 'tmpycuut84t\\\\AABBBC\\\\00000\\\\Z1239687332_2_T1.pdbqt',\n 'tmpycuut84t\\\\AABBBC\\\\00000\\\\Z1242688596_1_T1.pdbqt',\n 'tmpycuut84t\\\\AABBBC\\\\00000\\\\Z1242688596_2_T1.pdbqt',\n 'tmpycuut84t\\\\AABBBC\\\\00000\\\\Z1243752196_1_T1.pdbqt',\n 'tmpycuut84t\\\\AABBBC\\\\00000\\\\Z1243752196_2_T1.pdbqt',\n 'tmpycuut84t\\\\AABBBC\\\\00000\\\\Z1247413312_1_T1.pdbqt',\n 'tmpycuut84t\\\\AABBBC\\\\00000\\\\Z1252636985_1_T1.pdbqt',\n 'tmpycuut84t\\\\AABBBC\\\\00000\\\\Z1254196158_1_T1.pdbqt',\n 'tmpycuut84t\\\\AABBBC\\\\00000\\\\Z1254197165_1_T1.pdbqt',\n 'tmpycuut84t\\\\AABBBC\\\\00000\\\\Z1337809818_1_T1.pdbqt',\n 'tmpycuut84t\\\\AABBBC\\\\00000\\\\Z1352619698_1_T1.pdbqt',\n 'tmpycuut84t\\\\AABBBC\\\\00000\\\\Z138104822_1_T1.pdbqt',\n 'tmpycuut84t\\\\AABBBC\\\\00000\\\\Z1413221732_1_T1.pdbqt',\n 'tmpycuut84t\\\\AABBBC\\\\00000\\\\Z1460693675_1_T1.pdbqt',\n 'tmpycuut84t\\\\AABBBC\\\\00000\\\\Z1460693675_2_T1.pdbqt',\n 'tmpycuut84t\\\\AABBBC\\\\00000\\\\Z1509592134_1_T1.pdbqt',\n 'tmpycuut84t\\\\AABBBC\\\\00000\\\\Z1509632556_1_T1.pdbqt',\n 'tmpycuut84t\\\\AABBBC\\\\00000\\\\Z1509641716_1_T1.pdbqt',\n 'tmpycuut84t\\\\AABBBC\\\\00000\\\\Z1509771340_1_T1.pdbqt',\n 'tmpycuut84t\\\\AABBBC\\\\00000\\\\Z1530581444_1_T1.pdbqt',\n 'tmpycuut84t\\\\AABBBC\\\\00000\\\\Z1531963506_1_T1.pdbqt',\n 'tmpycuut84t\\\\AABBBC\\\\00000\\\\Z1531963506_2_T1.pdbqt',\n 'tmpycuut84t\\\\AABBBC\\\\00000\\\\Z1532672423_1_T1.pdbqt',\n 'tmpycuut84t\\\\AABBBC\\\\00000\\\\Z1535204131_1_T1.pdbqt',\n 'tmpycuut84t\\\\AABBBC\\\\00000\\\\Z1535204131_2_T1.pdbqt',\n 'tmpycuut84t\\\\AABBBC\\\\00000\\\\Z1551099328_1_T1.pdbqt',\n 'tmpycuut84t\\\\AABBBC\\\\00000\\\\Z1562205682_1_T1.pdbqt',\n 'tmpycuut84t\\\\AABBBC\\\\00000\\\\Z1591547150_1_T1.pdbqt',\n 'tmpycuut84t\\\\AABBBC\\\\00000\\\\Z1604986205_1_T1.pdbqt',\n 'tmpycuut84t\\\\AABBBC\\\\00000\\\\Z1621658272_1_T1.pdbqt',\n 'tmpycuut84t\\\\AABBBC\\\\00000\\\\Z1621659342_1_T1.pdbqt',\n 'tmpycuut84t\\\\AABBBC\\\\00000\\\\Z163854282_1_T1.pdbqt',\n 'tmpycuut84t\\\\AABBBC\\\\00000\\\\Z1664914456_1_T1.pdbqt',\n 'tmpycuut84t\\\\AABBBC\\\\00000\\\\Z1668876658_1_T1.pdbqt',\n 'tmpycuut84t\\\\AABBBC\\\\00000\\\\Z1692807111_1_T1.pdbqt',\n 'tmpycuut84t\\\\AABBBC\\\\00000\\\\Z1692814283_1_T1.pdbqt',\n 'tmpycuut84t\\\\AABBBC\\\\00000\\\\Z1704283649_1_T1.pdbqt',\n 'tmpycuut84t\\\\AABBBC\\\\00000\\\\Z1705693225_1_T1.pdbqt',\n 'tmpycuut84t\\\\AABBBC\\\\00000\\\\Z1724059791_1_T1.pdbqt',\n 'tmpycuut84t\\\\AABBBC\\\\00000\\\\Z1725991522_1_T1.pdbqt',\n 'tmpycuut84t\\\\AABBBC\\\\00000\\\\Z1727416723_1_T1.pdbqt',\n 'tmpycuut84t\\\\AABBBC\\\\00000\\\\Z1735385235_1_T1.pdbqt',\n 'tmpycuut84t\\\\AABBBC\\\\00000\\\\Z1741815662_1_T1.pdbqt',\n 'tmpycuut84t\\\\AABBBC\\\\00000\\\\Z1745547969_1_T1.pdbqt',\n 'tmpycuut84t\\\\AABBBC\\\\00000\\\\Z1745547969_2_T1.pdbqt',\n 'tmpycuut84t\\\\AABBBC\\\\00000\\\\Z1779583942_1_T1.pdbqt',\n 'tmpycuut84t\\\\AABBBC\\\\00000\\\\Z1779583942_2_T1.pdbqt',\n 'tmpycuut84t\\\\AABBBC\\\\00000\\\\Z1784364174_1_T1.pdbqt',\n 'tmpycuut84t\\\\AABBBC\\\\00000\\\\Z1846572573_1_T1.pdbqt',\n 'tmpycuut84t\\\\AABBBC\\\\00000\\\\Z1846572573_2_T1.pdbqt',\n 'tmpycuut84t\\\\AABBBC\\\\00000\\\\Z1855800906_1_T1.pdbqt',\n 'tmpycuut84t\\\\AABBBC\\\\00000\\\\Z1855807176_1_T1.pdbqt',\n 'tmpycuut84t\\\\AABBBC\\\\00000\\\\Z1911257134_1_T1.pdbqt',\n 'tmpycuut84t\\\\AABBBC\\\\00000\\\\Z1930555822_1_T1.pdbqt',\n 'tmpycuut84t\\\\AABBBC\\\\00000\\\\Z1930556469_1_T1.pdbqt',\n 'tmpycuut84t\\\\AABBBC\\\\00000\\\\Z1930587523_1_T1.pdbqt',\n 'tmpycuut84t\\\\AABBBC\\\\00000\\\\Z1980510844_1_T1.pdbqt',\n 'tmpycuut84t\\\\AABBBC\\\\00000\\\\Z1980510844_2_T1.pdbqt',\n 'tmpycuut84t\\\\AABBBC\\\\00000\\\\Z2002901282_1_T1.pdbqt',\n 'tmpycuut84t\\\\AABBBC\\\\00000\\\\Z2002901282_2_T1.pdbqt',\n 'tmpycuut84t\\\\AABBBC\\\\00000\\\\Z2041055643_1_T1.pdbqt',\n 'tmpycuut84t\\\\AABBBC\\\\00000\\\\Z2041071080_1_T1.pdbqt',\n 'tmpycuut84t\\\\AABBBC\\\\00000\\\\Z204699118_1_T1.pdbqt',\n 'tmpycuut84t\\\\AABBBC\\\\00000\\\\Z2068599050_1_T1.pdbqt',\n 'tmpycuut84t\\\\AABBBC\\\\00000\\\\Z2069076475_1_T1.pdbqt',\n 'tmpycuut84t\\\\AABBBC\\\\00000\\\\Z2069213715_1_T1.pdbqt',\n 'tmpycuut84t\\\\AABBBC\\\\00000\\\\Z2201000329_1_T1.pdbqt',\n 'tmpycuut84t\\\\AABBBC\\\\00000\\\\Z2201000329_2_T1.pdbqt',\n 'tmpycuut84t\\\\AABBBC\\\\00000\\\\Z2201000329_3_T1.pdbqt',\n 'tmpycuut84t\\\\AABBBC\\\\00000\\\\Z2201000329_4_T1.pdbqt',\n 'tmpycuut84t\\\\AABBBC\\\\00000\\\\Z2206927957_1_T1.pdbqt',\n 'tmpycuut84t\\\\AABBBC\\\\00000\\\\Z2207046834_1_T1.pdbqt',\n 'tmpycuut84t\\\\AABBBC\\\\00000\\\\Z2207068869_1_T1.pdbqt',\n 'tmpycuut84t\\\\AABBBC\\\\00000\\\\Z229364132_1_T1.pdbqt',\n 'tmpycuut84t\\\\AABBBC\\\\00000\\\\Z231512704_1_T1.pdbqt',\n 'tmpycuut84t\\\\AABBBC\\\\00000\\\\Z2392280286_1_T1.pdbqt',\n 'tmpycuut84t\\\\AABBBC\\\\00000\\\\Z240145844_1_T1.pdbqt',\n 'tmpycuut84t\\\\AABBBC\\\\00000\\\\Z2433348331_1_T1.pdbqt',\n 'tmpycuut84t\\\\AABBBC\\\\00000\\\\Z2433411806_1_T1.pdbqt',\n 'tmpycuut84t\\\\AABBBC\\\\00000\\\\Z2434563642_1_T1.pdbqt',\n 'tmpycuut84t\\\\AABBBC\\\\00000\\\\Z2438090923_1_T1.pdbqt',\n 'tmpycuut84t\\\\AABBBC\\\\00000\\\\Z2438091134_1_T1.pdbqt',\n 'tmpycuut84t\\\\AABBBC\\\\00000\\\\Z2438379767_1_T1.pdbqt',\n 'tmpycuut84t\\\\AABBBC\\\\00000\\\\Z2438379767_2_T1.pdbqt',\n 'tmpycuut84t\\\\AABBBC\\\\00000\\\\Z2444043515_1_T1.pdbqt',\n 'tmpycuut84t\\\\AABBBC\\\\00000\\\\Z2444043546_1_T1.pdbqt',\n 'tmpycuut84t\\\\AABBBC\\\\00000\\\\Z2449737914_1_T1.pdbqt',\n 'tmpycuut84t\\\\AABBBC\\\\00000\\\\Z2473201530_1_T1.pdbqt',\n 'tmpycuut84t\\\\AABBBC\\\\00000\\\\Z2489447924_1_T1.pdbqt',\n 'tmpycuut84t\\\\AABBBC\\\\00000\\\\Z2489447924_2_T1.pdbqt',\n 'tmpycuut84t\\\\AABBBC\\\\00000\\\\Z2518183207_1_T1.pdbqt',\n 'tmpycuut84t\\\\AABBBC\\\\00000\\\\Z2518183207_1_T2.pdbqt',\n 'tmpycuut84t\\\\AABBBC\\\\00000\\\\Z2518183207_2_T1.pdbqt',\n 'tmpycuut84t\\\\AABBBC\\\\00000\\\\Z2518183207_2_T2.pdbqt',\n 'tmpycuut84t\\\\AABBBC\\\\00000\\\\Z2596002124_1_T1.pdbqt',\n 'tmpycuut84t\\\\AABBBC\\\\00000\\\\Z2604062184_1_T1.pdbqt',\n 'tmpycuut84t\\\\AABBBC\\\\00000\\\\Z2605874258_1_T1.pdbqt',\n 'tmpycuut84t\\\\AABBBC\\\\00000\\\\Z2618850444_1_T1.pdbqt',\n 'tmpycuut84t\\\\AABBBC\\\\00000\\\\Z2619121449_1_T1.pdbqt',\n 'tmpycuut84t\\\\AABBBC\\\\00000\\\\Z2620168208_1_T1.pdbqt',\n 'tmpycuut84t\\\\AABBBC\\\\00000\\\\Z2620168208_2_T1.pdbqt',\n 'tmpycuut84t\\\\AABBBC\\\\00000\\\\Z2629164263_1_T1.pdbqt',\n 'tmpycuut84t\\\\AABBBC\\\\00000\\\\Z2629164263_2_T1.pdbqt',\n 'tmpycuut84t\\\\AABBBC\\\\00000\\\\Z2629164277_1_T1.pdbqt',\n 'tmpycuut84t\\\\AABBBC\\\\00000\\\\Z2629164277_2_T1.pdbqt',\n 'tmpycuut84t\\\\AABBBC\\\\00000\\\\Z2632074963_1_T1.pdbqt',\n 'tmpycuut84t\\\\AABBBC\\\\00000\\\\Z2632074963_2_T1.pdbqt',\n 'tmpycuut84t\\\\AABBBC\\\\00000\\\\Z2637141953_1_T1.pdbqt',\n 'tmpycuut84t\\\\AABBBC\\\\00000\\\\Z2637141953_2_T1.pdbqt',\n 'tmpycuut84t\\\\AABBBC\\\\00000\\\\Z2640743787_1_T1.pdbqt',\n 'tmpycuut84t\\\\AABBBC\\\\00000\\\\Z2640960101_1_T1.pdbqt',\n 'tmpycuut84t\\\\AABBBC\\\\00000\\\\Z2640969657_1_T1.pdbqt',\n 'tmpycuut84t\\\\AABBBC\\\\00000\\\\Z2645164121_1_T1.pdbqt',\n 'tmpycuut84t\\\\AABBBC\\\\00000\\\\Z2660675185_1_T1.pdbqt',\n 'tmpycuut84t\\\\AABBBC\\\\00000\\\\Z2660691218_1_T1.pdbqt',\n 'tmpycuut84t\\\\AABBBC\\\\00000\\\\Z2660701667_1_T1.pdbqt',\n 'tmpycuut84t\\\\AABBBC\\\\00000\\\\Z2660701667_2_T1.pdbqt',\n 'tmpycuut84t\\\\AABBBC\\\\00000\\\\Z2660712687_1_T1.pdbqt',\n 'tmpycuut84t\\\\AABBBC\\\\00000\\\\Z2660712687_2_T1.pdbqt',\n 'tmpycuut84t\\\\AABBBC\\\\00000\\\\Z2669630025_1_T1.pdbqt',\n 'tmpycuut84t\\\\AABBBC\\\\00000\\\\Z2669630025_2_T1.pdbqt',\n 'tmpycuut84t\\\\AABBBC\\\\00000\\\\Z2669630183_1_T1.pdbqt',\n 'tmpycuut84t\\\\AABBBC\\\\00000\\\\Z2669630183_2_T1.pdbqt',\n 'tmpycuut84t\\\\AABBBC\\\\00000\\\\Z2714227195_1_T1.pdbqt',\n 'tmpycuut84t\\\\AABBBC\\\\00000\\\\Z274554762_1_T1.pdbqt',\n 'tmpycuut84t\\\\AABBBC\\\\00000\\\\Z2771332320_1_T1.pdbqt',\n 'tmpycuut84t\\\\AABBBC\\\\00000\\\\Z2783986427_1_T1.pdbqt',\n 'tmpycuut84t\\\\AABBBC\\\\00000\\\\Z2783986437_1_T1.pdbqt',\n 'tmpycuut84t\\\\AABBBC\\\\00000\\\\Z2783986437_2_T1.pdbqt',\n 'tmpycuut84t\\\\AABBBC\\\\00000\\\\Z2783997883_1_T1.pdbqt',\n 'tmpycuut84t\\\\AABBBC\\\\00000\\\\Z2783997883_2_T1.pdbqt',\n 'tmpycuut84t\\\\AABBBC\\\\00000\\\\Z2783998678_1_T1.pdbqt',\n 'tmpycuut84t\\\\AABBBC\\\\00000\\\\Z2793060516_1_T1.pdbqt',\n 'tmpycuut84t\\\\AABBBC\\\\00000\\\\Z2795924512_1_T1.pdbqt',\n 'tmpycuut84t\\\\AABBBC\\\\00000\\\\Z2825680742_1_T1.pdbqt',\n 'tmpycuut84t\\\\AABBBC\\\\00000\\\\Z2825680742_2_T1.pdbqt',\n 'tmpycuut84t\\\\AABBBC\\\\00000\\\\Z2825680795_1_T1.pdbqt',\n 'tmpycuut84t\\\\AABBBC\\\\00000\\\\Z2836219683_1_T1.pdbqt',\n 'tmpycuut84t\\\\AABBBC\\\\00000\\\\Z2836219683_2_T1.pdbqt',\n 'tmpycuut84t\\\\AABBBC\\\\00000\\\\Z2890170864_1_T1.pdbqt',\n 'tmpycuut84t\\\\AABBBC\\\\00000\\\\Z2890170864_2_T1.pdbqt',\n 'tmpycuut84t\\\\AABBBC\\\\00000\\\\Z2890223867_1_T1.pdbqt',\n 'tmpycuut84t\\\\AABBBC\\\\00000\\\\Z2890267786_1_T1.pdbqt',\n 'tmpycuut84t\\\\AABBBC\\\\00000\\\\Z2890267786_2_T1.pdbqt',\n 'tmpycuut84t\\\\AABBBC\\\\00000\\\\Z2904135652_1_T1.pdbqt',\n 'tmpycuut84t\\\\AABBBC\\\\00000\\\\Z2913477814_1_T1.pdbqt',\n 'tmpycuut84t\\\\AABBBC\\\\00000\\\\Z2913477814_2_T1.pdbqt',\n 'tmpycuut84t\\\\AABBBC\\\\00000\\\\Z2923231418_1_T1.pdbqt',\n 'tmpycuut84t\\\\AABBBC\\\\00000\\\\Z2951550217_1_T1.pdbqt',\n 'tmpycuut84t\\\\AABBBC\\\\00000\\\\Z2957005866_1_T1.pdbqt',\n 'tmpycuut84t\\\\AABBBC\\\\00000\\\\Z2957008299_1_T1.pdbqt',\n 'tmpycuut84t\\\\AABBBC\\\\00000\\\\Z2965931881_1_T1.pdbqt',\n 'tmpycuut84t\\\\AABBBC\\\\00000\\\\Z2965935257_1_T1.pdbqt',\n 'tmpycuut84t\\\\AABBBC\\\\00000\\\\Z2973677653_1_T1.pdbqt',\n 'tmpycuut84t\\\\AABBBC\\\\00000\\\\Z2980801755_1_T1.pdbqt',\n 'tmpycuut84t\\\\AABBBC\\\\00000\\\\Z2981223155_1_T1.pdbqt',\n 'tmpycuut84t\\\\AABBBC\\\\00000\\\\Z2994016221_1_T1.pdbqt',\n 'tmpycuut84t\\\\AABBBC\\\\00000\\\\Z3101131643_1_T1.pdbqt',\n 'tmpycuut84t\\\\AABBBC\\\\00000\\\\Z3101131643_2_T1.pdbqt',\n 'tmpycuut84t\\\\AABBBC\\\\00000\\\\Z31434057_1_T1.pdbqt',\n 'tmpycuut84t\\\\AABBBC\\\\00000\\\\Z31603034_1_T1.pdbqt',\n 'tmpycuut84t\\\\AABBBC\\\\00000\\\\Z31603184_1_T1.pdbqt',\n 'tmpycuut84t\\\\AABBBC\\\\00000\\\\Z31721201_1_T1.pdbqt',\n 'tmpycuut84t\\\\AABBBC\\\\00000\\\\Z3206112717_1_T1.pdbqt',\n 'tmpycuut84t\\\\AABBBC\\\\00000\\\\Z3206117049_1_T1.pdbqt',\n 'tmpycuut84t\\\\AABBBC\\\\00000\\\\Z368781476_1_T1.pdbqt',\n 'tmpycuut84t\\\\AABBBC\\\\00000\\\\Z368781498_1_T1.pdbqt',\n 'tmpycuut84t\\\\AABBBC\\\\00000\\\\Z398304456_1_T1.pdbqt',\n 'tmpycuut84t\\\\AABBBC\\\\00000\\\\Z46335094_1_T1.pdbqt',\n 'tmpycuut84t\\\\AABBBC\\\\00000\\\\Z54747692_1_T1.pdbqt',\n 'tmpycuut84t\\\\AABBBC\\\\00000\\\\Z54749629_1_T1.pdbqt',\n 'tmpycuut84t\\\\AABBBC\\\\00000\\\\Z737247818_1_T1.pdbqt',\n 'tmpycuut84t\\\\AABBBC\\\\00000\\\\Z737247818_2_T1.pdbqt',\n 'tmpycuut84t\\\\AABBBC\\\\00000\\\\Z908583796_1_T1.pdbqt',\n 'tmpycuut84t\\\\AABBBC\\\\00000\\\\Z961340062_1_T1.pdbqt',\n 'tmpycuut84t\\\\AABBBC\\\\00000\\\\Z961340062_2_T1.pdbqt',\n 'tmpycuut84t\\\\AABBBC\\\\00000\\\\Z993678890_1_T1.pdbqt',\n 'tmpycuut84t\\\\AABBBC\\\\00000\\\\Z993678890_2_T1.pdbqt',\n 'tmpycuut84t\\\\AABBBD\\\\00000\\\\PV-000099570564_1_T1.pdbqt',\n 'tmpycuut84t\\\\AABBBD\\\\00000\\\\PV-000100806227_1_T1.pdbqt',\n 'tmpycuut84t\\\\AABBBD\\\\00000\\\\PV-000152256630_1_T1.pdbqt',\n 'tmpycuut84t\\\\AABBBD\\\\00000\\\\PV-000175884281_1_T1.pdbqt',\n 'tmpycuut84t\\\\AABBBD\\\\00000\\\\PV-000176969218_1_T1.pdbqt',\n 'tmpycuut84t\\\\AABBBD\\\\00000\\\\PV-000176969219_1_T1.pdbqt',\n 'tmpycuut84t\\\\AABBBD\\\\00000\\\\PV-000176971613_1_T1.pdbqt',\n 'tmpycuut84t\\\\AABBBD\\\\00000\\\\PV-001820521281_1_T1.pdbqt',\n 'tmpycuut84t\\\\AABBBD\\\\00000\\\\PV-001820522146_1_T1.pdbqt',\n 'tmpycuut84t\\\\AABBBD\\\\00000\\\\PV-001820522697_1_T1.pdbqt',\n 'tmpycuut84t\\\\AABBBD\\\\00000\\\\PV-001820631795_1_T1.pdbqt',\n 'tmpycuut84t\\\\AABBBD\\\\00000\\\\PV-001823249684_1_T1.pdbqt',\n 'tmpycuut84t\\\\AABBBD\\\\00000\\\\PV-001828372318_1_T1.pdbqt',\n 'tmpycuut84t\\\\AABBBD\\\\00000\\\\PV-001832533329_1_T1.pdbqt',\n 'tmpycuut84t\\\\AABBBD\\\\00000\\\\PV-001836861585_1_T1.pdbqt',\n 'tmpycuut84t\\\\AABBBD\\\\00000\\\\PV-001836861585_2_T1.pdbqt',\n 'tmpycuut84t\\\\AABBBD\\\\00000\\\\PV-001853379683_1_T1.pdbqt',\n 'tmpycuut84t\\\\AABBBD\\\\00000\\\\PV-001853379683_2_T1.pdbqt',\n 'tmpycuut84t\\\\AABBBD\\\\00000\\\\PV-001867431372_1_T1.pdbqt',\n 'tmpycuut84t\\\\AABBBD\\\\00000\\\\PV-001867433053_1_T1.pdbqt',\n 'tmpycuut84t\\\\AABBBD\\\\00000\\\\PV-001882952287_1_T1.pdbqt',\n 'tmpycuut84t\\\\AABBBD\\\\00000\\\\PV-001893631034_1_T1.pdbqt',\n 'tmpycuut84t\\\\AABBBD\\\\00000\\\\PV-001917018165_1_T1.pdbqt',\n 'tmpycuut84t\\\\AABBBD\\\\00000\\\\PV-001920267799_1_T1.pdbqt',\n 'tmpycuut84t\\\\AABBBD\\\\00000\\\\PV-001931921394_1_T1.pdbqt',\n 'tmpycuut84t\\\\AABBBD\\\\00000\\\\PV-001940296311_1_T1.pdbqt',\n 'tmpycuut84t\\\\AABBBD\\\\00000\\\\Z102876546_1_T1.pdbqt',\n 'tmpycuut84t\\\\AABBBD\\\\00000\\\\Z102876546_1_T2.pdbqt',\n 'tmpycuut84t\\\\AABBBD\\\\00000\\\\Z102876546_1_T3.pdbqt',\n 'tmpycuut84t\\\\AABBBD\\\\00000\\\\Z102876546_1_T4.pdbqt',\n 'tmpycuut84t\\\\AABBBD\\\\00000\\\\Z105197202_1_T1.pdbqt',\n 'tmpycuut84t\\\\AABBBD\\\\00000\\\\Z1068381670_1_T1.pdbqt',\n 'tmpycuut84t\\\\AABBBD\\\\00000\\\\Z1068381670_2_T1.pdbqt',\n 'tmpycuut84t\\\\AABBBD\\\\00000\\\\Z1127160499_1_T1.pdbqt',\n 'tmpycuut84t\\\\AABBBD\\\\00000\\\\Z1127160499_2_T1.pdbqt',\n 'tmpycuut84t\\\\AABBBD\\\\00000\\\\Z1127160624_1_T1.pdbqt',\n 'tmpycuut84t\\\\AABBBD\\\\00000\\\\Z1130958420_1_T1.pdbqt',\n 'tmpycuut84t\\\\AABBBD\\\\00000\\\\Z1130958420_2_T1.pdbqt',\n 'tmpycuut84t\\\\AABBBD\\\\00000\\\\Z1217971058_1_T1.pdbqt',\n 'tmpycuut84t\\\\AABBBD\\\\00000\\\\Z1217971058_2_T1.pdbqt',\n 'tmpycuut84t\\\\AABBBD\\\\00000\\\\Z1241564850_1_T1.pdbqt',\n 'tmpycuut84t\\\\AABBBD\\\\00000\\\\Z1241564850_2_T1.pdbqt',\n 'tmpycuut84t\\\\AABBBD\\\\00000\\\\Z1250803837_1_T1.pdbqt',\n 'tmpycuut84t\\\\AABBBD\\\\00000\\\\Z1250805617_1_T1.pdbqt',\n 'tmpycuut84t\\\\AABBBD\\\\00000\\\\Z1251052761_1_T1.pdbqt',\n 'tmpycuut84t\\\\AABBBD\\\\00000\\\\Z1252636571_1_T1.pdbqt',\n 'tmpycuut84t\\\\AABBBD\\\\00000\\\\Z1252636571_2_T1.pdbqt',\n 'tmpycuut84t\\\\AABBBD\\\\00000\\\\Z1252636718_1_T1.pdbqt',\n 'tmpycuut84t\\\\AABBBD\\\\00000\\\\Z1314894427_1_T1.pdbqt',\n 'tmpycuut84t\\\\AABBBD\\\\00000\\\\Z1337906969_1_T1.pdbqt',\n 'tmpycuut84t\\\\AABBBD\\\\00000\\\\Z133798352_1_T1.pdbqt',\n 'tmpycuut84t\\\\AABBBD\\\\00000\\\\Z133978288_1_T1.pdbqt',\n 'tmpycuut84t\\\\AABBBD\\\\00000\\\\Z1363105681_1_T1.pdbqt',\n 'tmpycuut84t\\\\AABBBD\\\\00000\\\\Z1363112877_1_T1.pdbqt',\n 'tmpycuut84t\\\\AABBBD\\\\00000\\\\Z1365843656_1_T1.pdbqt',\n 'tmpycuut84t\\\\AABBBD\\\\00000\\\\Z1365844473_1_T1.pdbqt',\n 'tmpycuut84t\\\\AABBBD\\\\00000\\\\Z1440428006_1_T1.pdbqt',\n 'tmpycuut84t\\\\AABBBD\\\\00000\\\\Z1440439682_1_T1.pdbqt',\n 'tmpycuut84t\\\\AABBBD\\\\00000\\\\Z1459999242_1_T1.pdbqt',\n 'tmpycuut84t\\\\AABBBD\\\\00000\\\\Z149177026_1_T1.pdbqt',\n 'tmpycuut84t\\\\AABBBD\\\\00000\\\\Z149177026_1_T2.pdbqt',\n 'tmpycuut84t\\\\AABBBD\\\\00000\\\\Z1496834402_1_T1.pdbqt',\n 'tmpycuut84t\\\\AABBBD\\\\00000\\\\Z1509793632_1_T1.pdbqt',\n 'tmpycuut84t\\\\AABBBD\\\\00000\\\\Z1509857293_1_T1.pdbqt',\n 'tmpycuut84t\\\\AABBBD\\\\00000\\\\Z1510093962_1_T1.pdbqt',\n 'tmpycuut84t\\\\AABBBD\\\\00000\\\\Z1523113994_1_T1.pdbqt',\n 'tmpycuut84t\\\\AABBBD\\\\00000\\\\Z1523113994_2_T1.pdbqt',\n 'tmpycuut84t\\\\AABBBD\\\\00000\\\\Z1527408400_1_T1.pdbqt',\n 'tmpycuut84t\\\\AABBBD\\\\00000\\\\Z1527408400_2_T1.pdbqt',\n 'tmpycuut84t\\\\AABBBD\\\\00000\\\\Z1533326220_1_T1.pdbqt',\n 'tmpycuut84t\\\\AABBBD\\\\00000\\\\Z1554138564_1_T1.pdbqt',\n 'tmpycuut84t\\\\AABBBD\\\\00000\\\\Z1554138564_2_T1.pdbqt',\n 'tmpycuut84t\\\\AABBBD\\\\00000\\\\Z1591548070_1_T1.pdbqt',\n 'tmpycuut84t\\\\AABBBD\\\\00000\\\\Z1593168801_1_T1.pdbqt',\n 'tmpycuut84t\\\\AABBBD\\\\00000\\\\Z1593275180_1_T1.pdbqt',\n 'tmpycuut84t\\\\AABBBD\\\\00000\\\\Z1612493926_1_T1.pdbqt',\n 'tmpycuut84t\\\\AABBBD\\\\00000\\\\Z1612493926_1_T2.pdbqt',\n 'tmpycuut84t\\\\AABBBD\\\\00000\\\\Z1612493926_1_T3.pdbqt',\n 'tmpycuut84t\\\\AABBBD\\\\00000\\\\Z1612493926_1_T4.pdbqt',\n 'tmpycuut84t\\\\AABBBD\\\\00000\\\\Z1612493926_2_T1.pdbqt',\n 'tmpycuut84t\\\\AABBBD\\\\00000\\\\Z1612493926_2_T2.pdbqt',\n 'tmpycuut84t\\\\AABBBD\\\\00000\\\\Z1612493926_2_T3.pdbqt',\n 'tmpycuut84t\\\\AABBBD\\\\00000\\\\Z1612493926_2_T4.pdbqt',\n 'tmpycuut84t\\\\AABBBD\\\\00000\\\\Z1614534063_1_T1.pdbqt',\n 'tmpycuut84t\\\\AABBBD\\\\00000\\\\Z1621658981_1_T1.pdbqt',\n 'tmpycuut84t\\\\AABBBD\\\\00000\\\\Z1621658981_2_T1.pdbqt',\n 'tmpycuut84t\\\\AABBBD\\\\00000\\\\Z1621659562_1_T1.pdbqt',\n 'tmpycuut84t\\\\AABBBD\\\\00000\\\\Z1621659562_2_T1.pdbqt',\n 'tmpycuut84t\\\\AABBBD\\\\00000\\\\Z1621659831_1_T1.pdbqt',\n 'tmpycuut84t\\\\AABBBD\\\\00000\\\\Z163853552_1_T1.pdbqt',\n 'tmpycuut84t\\\\AABBBD\\\\00000\\\\Z1643851904_1_T1.pdbqt',\n 'tmpycuut84t\\\\AABBBD\\\\00000\\\\Z1651302335_1_T1.pdbqt',\n 'tmpycuut84t\\\\AABBBD\\\\00000\\\\Z1654683419_1_T1.pdbqt',\n 'tmpycuut84t\\\\AABBBD\\\\00000\\\\Z1664914365_1_T1.pdbqt',\n 'tmpycuut84t\\\\AABBBD\\\\00000\\\\Z1668880966_1_T1.pdbqt',\n 'tmpycuut84t\\\\AABBBD\\\\00000\\\\Z1671117422_1_T1.pdbqt',\n 'tmpycuut84t\\\\AABBBD\\\\00000\\\\Z1738983584_1_T1.pdbqt',\n 'tmpycuut84t\\\\AABBBD\\\\00000\\\\Z1745545439_1_T1.pdbqt',\n 'tmpycuut84t\\\\AABBBD\\\\00000\\\\Z1745545439_2_T1.pdbqt',\n 'tmpycuut84t\\\\AABBBD\\\\00000\\\\Z1779594140_1_T1.pdbqt',\n 'tmpycuut84t\\\\AABBBD\\\\00000\\\\Z1779594140_2_T1.pdbqt',\n 'tmpycuut84t\\\\AABBBD\\\\00000\\\\Z1815248429_1_T1.pdbqt',\n 'tmpycuut84t\\\\AABBBD\\\\00000\\\\Z1815248469_1_T1.pdbqt',\n 'tmpycuut84t\\\\AABBBD\\\\00000\\\\Z1834195646_1_T1.pdbqt',\n 'tmpycuut84t\\\\AABBBD\\\\00000\\\\Z18357595_1_T1.pdbqt',\n 'tmpycuut84t\\\\AABBBD\\\\00000\\\\Z18357595_1_T2.pdbqt',\n 'tmpycuut84t\\\\AABBBD\\\\00000\\\\Z18357595_1_T3.pdbqt',\n 'tmpycuut84t\\\\AABBBD\\\\00000\\\\Z18357595_1_T4.pdbqt',\n 'tmpycuut84t\\\\AABBBD\\\\00000\\\\Z1841052296_1_T1.pdbqt',\n 'tmpycuut84t\\\\AABBBD\\\\00000\\\\Z1843865765_1_T1.pdbqt',\n 'tmpycuut84t\\\\AABBBD\\\\00000\\\\Z1846558661_1_T1.pdbqt',\n 'tmpycuut84t\\\\AABBBD\\\\00000\\\\Z1846558661_2_T1.pdbqt',\n 'tmpycuut84t\\\\AABBBD\\\\00000\\\\Z1846559178_1_T1.pdbqt',\n 'tmpycuut84t\\\\AABBBD\\\\00000\\\\Z18500626_1_T1.pdbqt',\n 'tmpycuut84t\\\\AABBBD\\\\00000\\\\Z18500626_1_T2.pdbqt',\n 'tmpycuut84t\\\\AABBBD\\\\00000\\\\Z1930406558_1_T1.pdbqt',\n 'tmpycuut84t\\\\AABBBD\\\\00000\\\\Z1930918007_1_T1.pdbqt',\n 'tmpycuut84t\\\\AABBBD\\\\00000\\\\Z1935729476_1_T1.pdbqt',\n 'tmpycuut84t\\\\AABBBD\\\\00000\\\\Z1938362453_1_T1.pdbqt',\n 'tmpycuut84t\\\\AABBBD\\\\00000\\\\Z1958319343_1_T1.pdbqt',\n 'tmpycuut84t\\\\AABBBD\\\\00000\\\\Z19746225_1_T1.pdbqt',\n 'tmpycuut84t\\\\AABBBD\\\\00000\\\\Z1981200552_1_T1.pdbqt',\n 'tmpycuut84t\\\\AABBBD\\\\00000\\\\Z1982318471_1_T1.pdbqt',\n 'tmpycuut84t\\\\AABBBD\\\\00000\\\\Z1988358671_1_T1.pdbqt',\n 'tmpycuut84t\\\\AABBBD\\\\00000\\\\Z2002909150_1_T1.pdbqt',\n 'tmpycuut84t\\\\AABBBD\\\\00000\\\\Z2002909150_2_T1.pdbqt',\n 'tmpycuut84t\\\\AABBBD\\\\00000\\\\Z2003878278_1_T1.pdbqt',\n 'tmpycuut84t\\\\AABBBD\\\\00000\\\\Z2013143095_1_T1.pdbqt',\n 'tmpycuut84t\\\\AABBBD\\\\00000\\\\Z2028329952_1_T1.pdbqt',\n 'tmpycuut84t\\\\AABBBD\\\\00000\\\\Z2069218541_1_T1.pdbqt',\n 'tmpycuut84t\\\\AABBBD\\\\00000\\\\Z2089471541_1_T1.pdbqt',\n 'tmpycuut84t\\\\AABBBD\\\\00000\\\\Z2089471541_2_T1.pdbqt',\n 'tmpycuut84t\\\\AABBBD\\\\00000\\\\Z2093882875_1_T1.pdbqt',\n 'tmpycuut84t\\\\AABBBD\\\\00000\\\\Z2157986866_1_T1.pdbqt',\n 'tmpycuut84t\\\\AABBBD\\\\00000\\\\Z2214132922_1_T1.pdbqt',\n 'tmpycuut84t\\\\AABBBD\\\\00000\\\\Z2214182505_1_T1.pdbqt',\n 'tmpycuut84t\\\\AABBBD\\\\00000\\\\Z2214182505_2_T1.pdbqt',\n 'tmpycuut84t\\\\AABBBD\\\\00000\\\\Z2229078511_1_T1.pdbqt',\n 'tmpycuut84t\\\\AABBBD\\\\00000\\\\Z2229078511_2_T1.pdbqt',\n 'tmpycuut84t\\\\AABBBD\\\\00000\\\\Z2235208375_1_T1.pdbqt',\n 'tmpycuut84t\\\\AABBBD\\\\00000\\\\Z2380847161_1_T1.pdbqt',\n 'tmpycuut84t\\\\AABBBD\\\\00000\\\\Z2410091295_2_T1.pdbqt',\n 'tmpycuut84t\\\\AABBBD\\\\00000\\\\Z2413795376_1_T1.pdbqt',\n 'tmpycuut84t\\\\AABBBD\\\\00000\\\\Z2433887514_1_T1.pdbqt',\n 'tmpycuut84t\\\\AABBBD\\\\00000\\\\Z2433887514_2_T1.pdbqt',\n 'tmpycuut84t\\\\AABBBD\\\\00000\\\\Z2433887684_1_T1.pdbqt',\n 'tmpycuut84t\\\\AABBBD\\\\00000\\\\Z2437299476_1_T1.pdbqt',\n 'tmpycuut84t\\\\AABBBD\\\\00000\\\\Z2438090996_1_T1.pdbqt',\n 'tmpycuut84t\\\\AABBBD\\\\00000\\\\Z2438091129_1_T1.pdbqt',\n 'tmpycuut84t\\\\AABBBD\\\\00000\\\\Z2438091129_2_T1.pdbqt',\n 'tmpycuut84t\\\\AABBBD\\\\00000\\\\Z2438379199_1_T1.pdbqt',\n 'tmpycuut84t\\\\AABBBD\\\\00000\\\\Z2438379199_2_T1.pdbqt',\n 'tmpycuut84t\\\\AABBBD\\\\00000\\\\Z2438379274_1_T1.pdbqt',\n 'tmpycuut84t\\\\AABBBD\\\\00000\\\\Z2438379274_2_T1.pdbqt',\n 'tmpycuut84t\\\\AABBBD\\\\00000\\\\Z2438379274_3_T1.pdbqt',\n 'tmpycuut84t\\\\AABBBD\\\\00000\\\\Z2438379274_4_T1.pdbqt',\n 'tmpycuut84t\\\\AABBBD\\\\00000\\\\Z2442906703_1_T1.pdbqt',\n 'tmpycuut84t\\\\AABBBD\\\\00000\\\\Z2443429798_1_T1.pdbqt',\n 'tmpycuut84t\\\\AABBBD\\\\00000\\\\Z2447555377_1_T1.pdbqt',\n 'tmpycuut84t\\\\AABBBD\\\\00000\\\\Z2449722677_1_T1.pdbqt',\n 'tmpycuut84t\\\\AABBBD\\\\00000\\\\Z2457161881_1_T1.pdbqt',\n 'tmpycuut84t\\\\AABBBD\\\\00000\\\\Z2457167057_1_T1.pdbqt',\n 'tmpycuut84t\\\\AABBBD\\\\00000\\\\Z2474227502_1_T1.pdbqt',\n 'tmpycuut84t\\\\AABBBD\\\\00000\\\\Z2474227502_2_T1.pdbqt',\n 'tmpycuut84t\\\\AABBBD\\\\00000\\\\Z2496074937_1_T1.pdbqt',\n 'tmpycuut84t\\\\AABBBD\\\\00000\\\\Z2504290491_1_T1.pdbqt',\n 'tmpycuut84t\\\\AABBBD\\\\00000\\\\Z2518183161_1_T1.pdbqt',\n 'tmpycuut84t\\\\AABBBD\\\\00000\\\\Z2518183161_1_T2.pdbqt',\n 'tmpycuut84t\\\\AABBBD\\\\00000\\\\Z2518183161_2_T1.pdbqt',\n 'tmpycuut84t\\\\AABBBD\\\\00000\\\\Z2518183161_2_T2.pdbqt',\n 'tmpycuut84t\\\\AABBBD\\\\00000\\\\Z2518189253_1_T1.pdbqt',\n 'tmpycuut84t\\\\AABBBD\\\\00000\\\\Z2518189253_1_T2.pdbqt',\n 'tmpycuut84t\\\\AABBBD\\\\00000\\\\Z2518189253_2_T1.pdbqt',\n 'tmpycuut84t\\\\AABBBD\\\\00000\\\\Z2518189253_2_T2.pdbqt',\n 'tmpycuut84t\\\\AABBBD\\\\00000\\\\Z2518523737_1_T1.pdbqt',\n 'tmpycuut84t\\\\AABBBD\\\\00000\\\\Z2518523737_1_T2.pdbqt',\n 'tmpycuut84t\\\\AABBBD\\\\00000\\\\Z2518523737_2_T1.pdbqt',\n 'tmpycuut84t\\\\AABBBD\\\\00000\\\\Z2518523737_2_T2.pdbqt',\n 'tmpycuut84t\\\\AABBBD\\\\00000\\\\Z2581273596_1_T1.pdbqt',\n 'tmpycuut84t\\\\AABBBD\\\\00000\\\\Z2604078072_1_T1.pdbqt',\n 'tmpycuut84t\\\\AABBBD\\\\00000\\\\Z2613869028_1_T1.pdbqt',\n 'tmpycuut84t\\\\AABBBD\\\\00000\\\\Z2622019682_1_T1.pdbqt',\n 'tmpycuut84t\\\\AABBBD\\\\00000\\\\Z2622020057_1_T1.pdbqt',\n 'tmpycuut84t\\\\AABBBD\\\\00000\\\\Z2625864334_1_T1.pdbqt',\n 'tmpycuut84t\\\\AABBBD\\\\00000\\\\Z2625864334_2_T1.pdbqt',\n 'tmpycuut84t\\\\AABBBD\\\\00000\\\\Z2625864417_1_T1.pdbqt',\n 'tmpycuut84t\\\\AABBBD\\\\00000\\\\Z2625864417_1_T2.pdbqt',\n 'tmpycuut84t\\\\AABBBD\\\\00000\\\\Z2625864417_2_T1.pdbqt',\n 'tmpycuut84t\\\\AABBBD\\\\00000\\\\Z2625864417_2_T2.pdbqt',\n 'tmpycuut84t\\\\AABBBD\\\\00000\\\\Z2633219324_1_T1.pdbqt',\n 'tmpycuut84t\\\\AABBBD\\\\00000\\\\Z2633219324_2_T1.pdbqt',\n 'tmpycuut84t\\\\AABBBD\\\\00000\\\\Z2635649058_1_T1.pdbqt',\n 'tmpycuut84t\\\\AABBBD\\\\00000\\\\Z2635649058_2_T1.pdbqt',\n 'tmpycuut84t\\\\AABBBD\\\\00000\\\\Z2638412183_1_T1.pdbqt',\n 'tmpycuut84t\\\\AABBBD\\\\00000\\\\Z2638412183_2_T1.pdbqt',\n 'tmpycuut84t\\\\AABBBD\\\\00000\\\\Z2640789951_1_T1.pdbqt',\n 'tmpycuut84t\\\\AABBBD\\\\00000\\\\Z2640789951_2_T1.pdbqt',\n 'tmpycuut84t\\\\AABBBD\\\\00000\\\\Z2640966665_1_T1.pdbqt',\n 'tmpycuut84t\\\\AABBBD\\\\00000\\\\Z2667990840_1_T1.pdbqt',\n 'tmpycuut84t\\\\AABBBD\\\\00000\\\\Z2667990840_2_T1.pdbqt',\n 'tmpycuut84t\\\\AABBBD\\\\00000\\\\Z2698441444_1_T1.pdbqt',\n 'tmpycuut84t\\\\AABBBD\\\\00000\\\\Z2698441444_1_T2.pdbqt',\n 'tmpycuut84t\\\\AABBBD\\\\00000\\\\Z2700069347_1_T1.pdbqt',\n 'tmpycuut84t\\\\AABBBD\\\\00000\\\\Z2707633140_1_T1.pdbqt',\n 'tmpycuut84t\\\\AABBBD\\\\00000\\\\Z2721982051_1_T1.pdbqt',\n 'tmpycuut84t\\\\AABBBD\\\\00000\\\\Z2721982051_2_T1.pdbqt',\n 'tmpycuut84t\\\\AABBBD\\\\00000\\\\Z2763576715_1_T1.pdbqt',\n 'tmpycuut84t\\\\AABBBD\\\\00000\\\\Z2791654578_1_T1.pdbqt',\n 'tmpycuut84t\\\\AABBBD\\\\00000\\\\Z2795903909_1_T1.pdbqt',\n 'tmpycuut84t\\\\AABBBD\\\\00000\\\\Z2797608946_1_T1.pdbqt',\n 'tmpycuut84t\\\\AABBBD\\\\00000\\\\Z2797731550_1_T1.pdbqt',\n 'tmpycuut84t\\\\AABBBD\\\\00000\\\\Z2800070095_1_T1.pdbqt',\n 'tmpycuut84t\\\\AABBBD\\\\00000\\\\Z2800070095_2_T1.pdbqt',\n 'tmpycuut84t\\\\AABBBD\\\\00000\\\\Z2800310417_1_T1.pdbqt',\n 'tmpycuut84t\\\\AABBBD\\\\00000\\\\Z2800310417_2_T1.pdbqt',\n 'tmpycuut84t\\\\AABBBD\\\\00000\\\\Z2800364246_1_T1.pdbqt',\n 'tmpycuut84t\\\\AABBBD\\\\00000\\\\Z2800415454_1_T1.pdbqt',\n 'tmpycuut84t\\\\AABBBD\\\\00000\\\\Z2800442249_1_T1.pdbqt',\n 'tmpycuut84t\\\\AABBBD\\\\00000\\\\Z2801056902_1_T1.pdbqt',\n 'tmpycuut84t\\\\AABBBD\\\\00000\\\\Z2801403830_1_T1.pdbqt',\n 'tmpycuut84t\\\\AABBBD\\\\00000\\\\Z2801403830_2_T1.pdbqt',\n 'tmpycuut84t\\\\AABBBD\\\\00000\\\\Z2801524480_1_T1.pdbqt',\n 'tmpycuut84t\\\\AABBBD\\\\00000\\\\Z2801529766_1_T1.pdbqt',\n 'tmpycuut84t\\\\AABBBD\\\\00000\\\\Z2802129200_1_T1.pdbqt',\n 'tmpycuut84t\\\\AABBBD\\\\00000\\\\Z286892962_1_T1.pdbqt',\n 'tmpycuut84t\\\\AABBBD\\\\00000\\\\Z2892322623_1_T1.pdbqt',\n 'tmpycuut84t\\\\AABBBD\\\\00000\\\\Z2904135832_1_T1.pdbqt',\n 'tmpycuut84t\\\\AABBBD\\\\00000\\\\Z2904153907_1_T1.pdbqt',\n 'tmpycuut84t\\\\AABBBD\\\\00000\\\\Z2909824897_1_T1.pdbqt',\n 'tmpycuut84t\\\\AABBBD\\\\00000\\\\Z2950247993_1_T1.pdbqt',\n 'tmpycuut84t\\\\AABBBD\\\\00000\\\\Z2950250632_1_T1.pdbqt',\n 'tmpycuut84t\\\\AABBBD\\\\00000\\\\Z2950251306_1_T1.pdbqt',\n 'tmpycuut84t\\\\AABBBD\\\\00000\\\\Z2950256751_1_T1.pdbqt',\n 'tmpycuut84t\\\\AABBBD\\\\00000\\\\Z2950256907_1_T1.pdbqt',\n 'tmpycuut84t\\\\AABBBD\\\\00000\\\\Z2964852358_1_T1.pdbqt',\n 'tmpycuut84t\\\\AABBBD\\\\00000\\\\Z2980980848_1_T1.pdbqt',\n 'tmpycuut84t\\\\AABBBD\\\\00000\\\\Z2980980848_2_T1.pdbqt',\n 'tmpycuut84t\\\\AABBBD\\\\00000\\\\Z2994056510_1_T1.pdbqt',\n 'tmpycuut84t\\\\AABBBD\\\\00000\\\\Z2994141886_1_T1.pdbqt',\n 'tmpycuut84t\\\\AABBBD\\\\00000\\\\Z3009503883_1_T1.pdbqt',\n 'tmpycuut84t\\\\AABBBD\\\\00000\\\\Z3009503883_2_T1.pdbqt',\n 'tmpycuut84t\\\\AABBBD\\\\00000\\\\Z3203811309_1_T1.pdbqt',\n 'tmpycuut84t\\\\AABBBD\\\\00000\\\\Z3203811553_1_T1.pdbqt',\n 'tmpycuut84t\\\\AABBBD\\\\00000\\\\Z3203811857_1_T1.pdbqt',\n 'tmpycuut84t\\\\AABBBD\\\\00000\\\\Z3203814738_1_T1.pdbqt',\n 'tmpycuut84t\\\\AABBBD\\\\00000\\\\Z3203817293_1_T1.pdbqt',\n 'tmpycuut84t\\\\AABBBD\\\\00000\\\\Z3203817729_1_T1.pdbqt',\n 'tmpycuut84t\\\\AABBBD\\\\00000\\\\Z3203817729_2_T1.pdbqt',\n 'tmpycuut84t\\\\AABBBD\\\\00000\\\\Z3203817781_1_T1.pdbqt',\n 'tmpycuut84t\\\\AABBBD\\\\00000\\\\Z3203817781_2_T1.pdbqt',\n 'tmpycuut84t\\\\AABBBD\\\\00000\\\\Z3203820493_1_T1.pdbqt',\n 'tmpycuut84t\\\\AABBBD\\\\00000\\\\Z3204779835_1_T1.pdbqt',\n 'tmpycuut84t\\\\AABBBD\\\\00000\\\\Z417003926_1_T1.pdbqt',\n 'tmpycuut84t\\\\AABBBD\\\\00000\\\\Z417007382_1_T1.pdbqt',\n 'tmpycuut84t\\\\AABBBD\\\\00000\\\\Z417007732_1_T1.pdbqt',\n 'tmpycuut84t\\\\AABBBD\\\\00000\\\\Z417007732_2_T1.pdbqt',\n 'tmpycuut84t\\\\AABBBD\\\\00000\\\\Z438022334_1_T1.pdbqt',\n 'tmpycuut84t\\\\AABBBD\\\\00000\\\\Z438022334_2_T1.pdbqt',\n 'tmpycuut84t\\\\AABBBD\\\\00000\\\\Z444812830_1_T1.pdbqt',\n 'tmpycuut84t\\\\AABBBD\\\\00000\\\\Z45715515_1_T1.pdbqt',\n 'tmpycuut84t\\\\AABBBD\\\\00000\\\\Z736241270_1_T1.pdbqt',\n 'tmpycuut84t\\\\AABBBD\\\\00000\\\\Z798889048_1_T1.pdbqt',\n 'tmpycuut84t\\\\AABBBD\\\\00000\\\\Z803636734_1_T1.pdbqt',\n 'tmpycuut84t\\\\AABBBD\\\\00000\\\\Z805557780_1_T1.pdbqt',\n 'tmpycuut84t\\\\AABBBD\\\\00000\\\\Z886858000_1_T1.pdbqt',\n 'tmpycuut84t\\\\AABBBD\\\\00000\\\\Z886858000_2_T1.pdbqt',\n 'tmpycuut84t\\\\AABBBD\\\\00000\\\\Z90664666_1_T1.pdbqt',\n 'tmpycuut84t\\\\AABBBD\\\\00000\\\\Z90664666_1_T2.pdbqt',\n 'tmpycuut84t\\\\AABBBD\\\\00000\\\\Z96129616_1_T1.pdbqt',\n 'tmpycuut84t\\\\AABBBD\\\\00000\\\\Z991941784_1_T1.pdbqt',\n 'tmpycuut84t\\\\AABBBD\\\\00000\\\\Z991941784_2_T1.pdbqt',\n 'tmpycuut84t\\\\AABBBE\\\\00000\\\\PV-001936066750_1_T1.pdbqt',\n 'tmpycuut84t\\\\AABBBE\\\\00000\\\\PV-001938604241_1_T1.pdbqt',\n 'tmpycuut84t\\\\AABBBE\\\\00000\\\\Z102922122_1_T1.pdbqt',\n 'tmpycuut84t\\\\AABBBE\\\\00000\\\\Z102922122_1_T2.pdbqt',\n 'tmpycuut84t\\\\AABBBE\\\\00000\\\\Z1269995411_1_T1.pdbqt',\n 'tmpycuut84t\\\\AABBBE\\\\00000\\\\Z1315370973_1_T1.pdbqt',\n 'tmpycuut84t\\\\AABBBE\\\\00000\\\\Z1348129575_1_T1.pdbqt',\n 'tmpycuut84t\\\\AABBBE\\\\00000\\\\Z1348129575_2_T1.pdbqt',\n 'tmpycuut84t\\\\AABBBE\\\\00000\\\\Z1532948101_1_T1.pdbqt',\n 'tmpycuut84t\\\\AABBBE\\\\00000\\\\Z1533328790_1_T1.pdbqt',\n 'tmpycuut84t\\\\AABBBE\\\\00000\\\\Z1617245730_1_T1.pdbqt',\n 'tmpycuut84t\\\\AABBBE\\\\00000\\\\Z1654729830_1_T1.pdbqt',\n 'tmpycuut84t\\\\AABBBE\\\\00000\\\\Z168065140_1_T1.pdbqt',\n 'tmpycuut84t\\\\AABBBE\\\\00000\\\\Z168065140_1_T2.pdbqt',\n 'tmpycuut84t\\\\AABBBE\\\\00000\\\\Z168065140_2_T1.pdbqt',\n 'tmpycuut84t\\\\AABBBE\\\\00000\\\\Z168065140_2_T2.pdbqt',\n 'tmpycuut84t\\\\AABBBE\\\\00000\\\\Z1724666181_1_T1.pdbqt',\n 'tmpycuut84t\\\\AABBBE\\\\00000\\\\Z1839613061_1_T1.pdbqt',\n 'tmpycuut84t\\\\AABBBE\\\\00000\\\\Z1843855604_1_T1.pdbqt',\n 'tmpycuut84t\\\\AABBBE\\\\00000\\\\Z18500989_1_T1.pdbqt',\n 'tmpycuut84t\\\\AABBBE\\\\00000\\\\Z18500989_1_T2.pdbqt',\n 'tmpycuut84t\\\\AABBBE\\\\00000\\\\Z1896968642_1_T1.pdbqt',\n 'tmpycuut84t\\\\AABBBE\\\\00000\\\\Z1896968642_2_T1.pdbqt',\n 'tmpycuut84t\\\\AABBBE\\\\00000\\\\Z193091370_1_T1.pdbqt',\n 'tmpycuut84t\\\\AABBBE\\\\00000\\\\Z193091370_2_T1.pdbqt',\n 'tmpycuut84t\\\\AABBBE\\\\00000\\\\Z19746499_1_T1.pdbqt',\n 'tmpycuut84t\\\\AABBBE\\\\00000\\\\Z2205225840_1_T1.pdbqt',\n 'tmpycuut84t\\\\AABBBE\\\\00000\\\\Z2228421213_1_T1.pdbqt',\n 'tmpycuut84t\\\\AABBBE\\\\00000\\\\Z2231187013_1_T1.pdbqt',\n 'tmpycuut84t\\\\AABBBE\\\\00000\\\\Z2233044075_1_T1.pdbqt',\n 'tmpycuut84t\\\\AABBBE\\\\00000\\\\Z2233044075_2_T1.pdbqt',\n 'tmpycuut84t\\\\AABBBE\\\\00000\\\\Z2458227883_1_T1.pdbqt',\n 'tmpycuut84t\\\\AABBBE\\\\00000\\\\Z2458227883_2_T1.pdbqt',\n 'tmpycuut84t\\\\AABBBE\\\\00000\\\\Z2580755873_1_T1.pdbqt',\n ...]"
     },
     "execution_count": 36,
     "metadata": {},
     "output_type": "execute_result"
    }
   ],
   "source": [
    "import glob\n",
    "glob.glob(r'{}\\**\\*.pdbqt'.format('tmpycuut84t'),recursive=True)\n",
    "# glob.glob(r'{}\\**\\*.tar'.format('tmpycuut84t'),recursive=True)"
   ],
   "metadata": {
    "collapsed": false,
    "pycharm": {
     "name": "#%%\n"
    }
   }
  },
  {
   "cell_type": "code",
   "execution_count": 62,
   "outputs": [],
   "source": [
    "from meeko import PDBQTMolecule\n",
    "from openbabel import openbabel\n",
    "\n",
    "path='tmpbqzs_1_d/AABCAF/00000'\n",
    "file_id = 'Z1692919946_1_T1.pdbqt'\n",
    "in_full_path = os.path.join(path, file_id)\n",
    "out_full_path = 'Z1692919946_1_T1.sdf'\n",
    "conv = openbabel.OBConversion(in_full_path, out_full_path)\n",
    "conv.OpenInAndOutFiles('.pdbqt','.smiles')\n",
    "conv.Convert()\n",
    "conv.CloseOutFile()"
   ],
   "metadata": {
    "collapsed": false,
    "pycharm": {
     "name": "#%%\n"
    }
   }
  },
  {
   "cell_type": "code",
   "execution_count": 75,
   "outputs": [
    {
     "data": {
      "text/plain": "'Z1692919946_1_T1'"
     },
     "execution_count": 75,
     "metadata": {},
     "output_type": "execute_result"
    }
   ],
   "source": [
    "a = os.path.splitext(os.path.join(path, file_id))[0]\n",
    "os.path.basename(a)"
   ],
   "metadata": {
    "collapsed": false,
    "pycharm": {
     "name": "#%%\n"
    }
   }
  },
  {
   "cell_type": "code",
   "execution_count": 72,
   "outputs": [
    {
     "name": "stdout",
     "output_type": "stream",
     "text": [
      "None\n",
      "None\n"
     ]
    }
   ],
   "source": [
    "from data.tools.pipeline import _cal_single_fingerprint\n",
    "from openbabel import pybel\n",
    "\n",
    "f = pybel.readfile('pdbqt',in_full_path)\n",
    "mol = f.__next__()\n",
    "print(mol.write(\"sdf\", out_full_path,overwrite=True))\n",
    "print(mol.write(\"smiles\", out_full_path,overwrite=True))\n",
    "f.close()\n",
    "full_path = out_full_path\n",
    "dir_path = os.path.dirname(full_path)\n",
    "basename = os.path.basename(full_path)\n",
    "file_id = os.path.splitext(basename)[0]\n",
    "_cal_single_fingerprint(dir_path, file_id, 'smiles')"
   ],
   "metadata": {
    "collapsed": false,
    "pycharm": {
     "name": "#%%\n"
    }
   }
  }
 ],
 "metadata": {
  "kernelspec": {
   "display_name": "Python 3",
   "language": "python",
   "name": "python3"
  },
  "language_info": {
   "codemirror_mode": {
    "name": "ipython",
    "version": 2
   },
   "file_extension": ".py",
   "mimetype": "text/x-python",
   "name": "python",
   "nbconvert_exporter": "python",
   "pygments_lexer": "ipython2",
   "version": "2.7.6"
  }
 },
 "nbformat": 4,
 "nbformat_minor": 0
}